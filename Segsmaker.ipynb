{
 "cells": [
  {
   "cell_type": "markdown",
   "id": "1aa13061-4879-421f-a472-8c4419b4e8b9",
   "metadata": {},
   "source": [
    "[![Open in Studio Lab](https://studiolab.sagemaker.aws/studiolab.svg)](https://studiolab.sagemaker.aws/import/github/pantat88/segsmaker/blob/main/Segsmaker.ipynb)"
   ]
  },
  {
   "cell_type": "markdown",
   "id": "26786ea3-e294-44b6-900a-798b0880de76",
   "metadata": {
    "tags": []
   },
   "source": [
    "### Conda"
   ]
  },
  {
   "cell_type": "code",
   "execution_count": null,
   "id": "f898ce44-8dd4-4675-b25f-5061be555a95",
   "metadata": {
    "tags": []
   },
   "outputs": [],
   "source": [
    "from IPython.display import HTML, display\n",
    "import subprocess\n",
    "def ass(command, message, color):\n",
    "    display(HTML(f\"<span style='color:{color};'>--- {message} ---</span>\"))\n",
    "    result = subprocess.run(command, shell=True, stdout=subprocess.DEVNULL, stderr=subprocess.DEVNULL)\n",
    "    display(HTML(\"<span style='color:#66ff00;'>Done</span>\"))\n",
    "ass('conda install -q -y conda=23.10.0 glib', 'Installing Conda', 'yellow')\n",
    "ass('conda install -q -y -n base python=3.10.6', 'Installing Python 3.10.6', 'yellow')\n",
    "ass('conda clean -y --all', 'Cleaning Conda environment', 'magenta')\n",
    "ass('pip install -q torch==2.0.1+cu118 torchvision==0.15.2+cu118 --extra-index-url https://download.pytorch.org/whl/cu118', 'Installing Torch', 'yellow')\n",
    "ass('pip install -q xformers==0.0.20 triton==2.0.0', 'Installing Xformers', 'yellow')\n",
    "ass('curl -Lo /home/studio-lab-user/.conda/pantat88.py https://github.com/pantat88/segsmaker/raw/main/ui/pantat88.py', 'Gathering Magic', 'red')\n",
    "!python --version\n",
    "import os\n",
    "os._exit(00)"
   ]
  },
  {
   "cell_type": "markdown",
   "id": "011fac09-3453-4fea-bad6-da971f037c3b",
   "metadata": {
    "tags": []
   },
   "source": [
    "### Clone SD"
   ]
  },
  {
   "cell_type": "code",
   "execution_count": null,
   "id": "598827fd-7cf0-4d73-b982-c417916b7e96",
   "metadata": {
    "tags": []
   },
   "outputs": [],
   "source": [
    "%run /home/studio-lab-user/.conda/pantat88.py\n",
    "%say Cloning Stable Diffusion. . . cyan\n",
    "%cd -q /home/studio-lab-user/\n",
    "!git clone -q -b 1.6.1 https://github.com/pantat88/asd # version 1.6.1\n",
    "\n",
    "%say Installing requirements. . . yellow\n",
    "%cd -q ~/asd\n",
    "!pip install -r requirements.txt > /dev/null\n",
    "\n",
    "%say Creating a symlink to temporary folder. . . magenta\n",
    "!rm -rf ~/tmp\n",
    "!rm -rf ~/asd/models/Stable-diffusion/tmp_models\n",
    "!rm -rf ~/asd/models/Lora/tmp_Lora\n",
    "!ln -vs /tmp ~/tmp\n",
    "!ln -vs /tmp/models ~/asd/models/Stable-diffusion/tmp_models\n",
    "!mkdir ~/asd/models/Lora\n",
    "!ln -vs /tmp/Lora ~/asd/models/Lora/tmp_Lora\n",
    "!rm -rf /home/studio-lab-user/.cache\n",
    "%say Done #66ff00"
   ]
  },
  {
   "cell_type": "markdown",
   "id": "b3e8e870-6944-4f64-a44e-daa28c515652",
   "metadata": {
    "tags": []
   },
   "source": [
    "### *Extensions*"
   ]
  },
  {
   "cell_type": "code",
   "execution_count": null,
   "id": "2e485682-1a26-4b1c-9a01-b6449e072ce1",
   "metadata": {
    "tags": []
   },
   "outputs": [],
   "source": [
    "%run /home/studio-lab-user/.conda/pantat88.py\n",
    "%say Cloning Extensions. . . cyan\n",
    "%cd -q ~/asd/extensions\n",
    "\n",
    "!git clone -q --depth 1 https://github.com/mcmonkeyprojects/sd-dynamic-thresholding                ~/asd/extensions/1sd-dynamic-thresholding\n",
    "!git clone -q https://github.com/Gourieff/sd-webui-reactor                                         ~/asd/extensions/2sd-webui-reactor\n",
    "!git clone -q --depth 1 https://github.com/portu-sim/sd-webui-bmab                                 ~/asd/extensions/3sd-webui-bmab\n",
    "!git clone -q --depth 1 https://github.com/Bing-su/adetailer                                       ~/asd/extensions/4adetailer\n",
    "!git clone -q --depth 1 https://github.com/zixaphir/Stable-Diffusion-Webui-Civitai-Helper\n",
    "!git clone -q --depth 1 https://github.com/zanllp/sd-webui-infinite-image-browsing\n",
    "!git clone -q --depth 1 https://github.com/DominikDoom/a1111-sd-webui-tagcomplete\n",
    "!git clone -q --depth 1 https://github.com/camenduru/stable-diffusion-webui-huggingface\n",
    "!git clone -q --depth 1 https://github.com/thomasasfk/sd-webui-aspect-ratio-helper\n",
    "!git clone -q --depth 1 https://github.com/Coyote-A/ultimate-upscale-for-automatic1111\n",
    "\n",
    "!git clone -q -b v1.1.416 https://github.com/pantat88/sd-webui-controlnet\n",
    "!rm -rf ~/asd/extensions/sd-webui-controlnet/models\n",
    "!git clone -q --depth 1 https://github.com/fkunn1326/openpose-editor\n",
    "!git clone -q --depth 1 https://github.com/IDEA-Research/DWPose\n",
    "#git clone -q --depth 1 https://github.com/hnmr293/posex\n",
    "\n",
    "!ln -vs /tmp/controlnet_models ~/asd/extensions/sd-webui-controlnet/models\n",
    "%say Done #66ff00"
   ]
  },
  {
   "cell_type": "markdown",
   "id": "c8d5d6aa-8dc8-46af-8aa5-785b25d68ae7",
   "metadata": {
    "tags": []
   },
   "source": [
    "#### *ControlNET models*\n",
    "temporary"
   ]
  },
  {
   "cell_type": "code",
   "execution_count": null,
   "id": "c7a1bfea-7691-4a1c-b290-1ef58c87cee1",
   "metadata": {},
   "outputs": [],
   "source": [
    "%run /home/studio-lab-user/.conda/pantat88.py\n",
    "!rm -rf ~/tmp/tmp && mkdir -p /tmp/controlnet_models\n",
    "%cd -q ~/asd/extensions/sd-webui-controlnet/models\n",
    "\n",
    "%download https://huggingface.co/ckpt/ControlNet-v1-1/resolve/main/control_v11e_sd15_ip2p_fp16.safetensors\n",
    "%download https://huggingface.co/ckpt/ControlNet-v1-1/raw/main/control_v11e_sd15_ip2p_fp16.yaml\n",
    "%download https://huggingface.co/ckpt/ControlNet-v1-1/resolve/main/control_v11e_sd15_shuffle_fp16.safetensors\n",
    "%download https://huggingface.co/ckpt/ControlNet-v1-1/raw/main/control_v11e_sd15_shuffle_fp16.yaml\n",
    "%download https://huggingface.co/ckpt/ControlNet-v1-1/resolve/main/control_v11p_sd15_canny_fp16.safetensors\n",
    "%download https://huggingface.co/ckpt/ControlNet-v1-1/raw/main/control_v11p_sd15_canny_fp16.yaml\n",
    "%download https://huggingface.co/ckpt/ControlNet-v1-1/resolve/main/control_v11f1p_sd15_depth_fp16.safetensors\n",
    "%download https://huggingface.co/ckpt/ControlNet-v1-1/raw/main/control_v11f1p_sd15_depth_fp16.yaml\n",
    "%download https://huggingface.co/ckpt/ControlNet-v1-1/resolve/main/control_v11p_sd15_inpaint_fp16.safetensors\n",
    "%download https://huggingface.co/ckpt/ControlNet-v1-1/raw/main/control_v11p_sd15_inpaint_fp16.yaml\n",
    "%download https://huggingface.co/ckpt/ControlNet-v1-1/resolve/main/control_v11p_sd15_lineart_fp16.safetensors\n",
    "%download https://huggingface.co/ckpt/ControlNet-v1-1/raw/main/control_v11p_sd15_lineart_fp16.yaml\n",
    "%download https://huggingface.co/ckpt/ControlNet-v1-1/resolve/main/control_v11p_sd15_mlsd_fp16.safetensors\n",
    "%download https://huggingface.co/ckpt/ControlNet-v1-1/raw/main/control_v11p_sd15_mlsd_fp16.yaml\n",
    "%download https://huggingface.co/ckpt/ControlNet-v1-1/resolve/main/control_v11p_sd15_normalbae_fp16.safetensors\n",
    "%download https://huggingface.co/ckpt/ControlNet-v1-1/raw/main/control_v11p_sd15_normalbae_fp16.yaml\n",
    "%download https://huggingface.co/ckpt/ControlNet-v1-1/resolve/main/control_v11p_sd15_openpose_fp16.safetensors\n",
    "%download https://huggingface.co/ckpt/ControlNet-v1-1/raw/main/control_v11p_sd15_openpose_fp16.yaml\n",
    "%download https://huggingface.co/ckpt/ControlNet-v1-1/resolve/main/control_v11p_sd15_scribble_fp16.safetensors\n",
    "%download https://huggingface.co/ckpt/ControlNet-v1-1/raw/main/control_v11p_sd15_scribble_fp16.yaml\n",
    "%download https://huggingface.co/ckpt/ControlNet-v1-1/resolve/main/control_v11p_sd15_seg_fp16.safetensors\n",
    "%download https://huggingface.co/ckpt/ControlNet-v1-1/raw/main/control_v11p_sd15_seg_fp16.yaml\n",
    "%download https://huggingface.co/ckpt/ControlNet-v1-1/resolve/main/control_v11p_sd15_softedge_fp16.safetensors\n",
    "%download https://huggingface.co/ckpt/ControlNet-v1-1/raw/main/control_v11p_sd15_softedge_fp16.yaml\n",
    "%download https://huggingface.co/ckpt/ControlNet-v1-1/resolve/main/control_v11p_sd15s2_lineart_anime_fp16.safetensors\n",
    "%download https://huggingface.co/ckpt/ControlNet-v1-1/raw/main/control_v11p_sd15s2_lineart_anime_fp16.yaml\n",
    "%download https://huggingface.co/ckpt/ControlNet-v1-1/resolve/main/control_v11f1e_sd15_tile_fp16.safetensors\n",
    "%download https://huggingface.co/ckpt/ControlNet-v1-1/raw/main/control_v11f1e_sd15_tile_fp16.yaml"
   ]
  },
  {
   "cell_type": "markdown",
   "id": "cef8d349-ff55-4189-9cc6-24a246374e10",
   "metadata": {
    "tags": []
   },
   "source": [
    "### *Embeddings - Upscaler - VAE*"
   ]
  },
  {
   "cell_type": "code",
   "execution_count": null,
   "id": "c8f4274d-5540-4647-8ed7-bc4d8766baa0",
   "metadata": {
    "tags": []
   },
   "outputs": [],
   "source": [
    "%run /home/studio-lab-user/.conda/pantat88.py\n",
    "# embeddings\n",
    "%cd -q ~/asd/embeddings\n",
    "%download https://github.com/pantat88/segsmaker/raw/main/ui/embeddings.zip\n",
    "!unzip -o ~/asd/embeddings/embeddings.zip\n",
    "!rm embeddings.zip\n",
    "\n",
    "%download https://civitai.com/api/download/models/150491 edgQuality.pt\n",
    "\n",
    "# upscaler\n",
    "!mkdir ~/asd/models/ESRGAN\n",
    "%cd -q ~/asd/models/ESRGAN\n",
    "\n",
    "%download https://huggingface.co/pantat88/ui/resolve/main/4x-UltraSharp.pth\n",
    "%download https://huggingface.co/pantat88/ui/resolve/main/4x-AnimeSharp.pth\n",
    "%download https://huggingface.co/pantat88/ui/resolve/main/4x_RealisticRescaler_100000_G.pth\n",
    "%download https://huggingface.co/pantat88/ui/resolve/main/8x_RealESRGAN.pth\n",
    "\n",
    "# vae\n",
    "%cd -q ~/asd/models/VAE\n",
    "\n",
    "%download https://huggingface.co/stabilityai/sd-vae-ft-mse-original/resolve/main/vae-ft-mse-840000-ema-pruned.safetensors\n",
    "#download https://huggingface.co/fp16-guy/anything_kl-f8-anime2_vae-ft-mse-840000-ema-pruned_blessed_clearvae_fp16_cleaned/resolve/main/kl-f8-anime2_fp16.safetensors\n",
    "#download https://huggingface.co/fp16-guy/anything_kl-f8-anime2_vae-ft-mse-840000-ema-pruned_blessed_clearvae_fp16_cleaned/resolve/main/blessed2_fp16.safetensors\n",
    "#download https://huggingface.co/fp16-guy/anything_kl-f8-anime2_vae-ft-mse-840000-ema-pruned_blessed_clearvae_fp16_cleaned/resolve/main/ClearVAE_V2.3_fp16.safetensors\n",
    "#download https://huggingface.co/fp16-guy/anything_kl-f8-anime2_vae-ft-mse-840000-ema-pruned_blessed_clearvae_fp16_cleaned/resolve/main/anything_fp16.safetensors"
   ]
  },
  {
   "cell_type": "markdown",
   "id": "e1686fb4-1cf7-4abf-bdef-f742beb84e0c",
   "metadata": {
    "tags": []
   },
   "source": [
    "### *Checkpoint*"
   ]
  },
  {
   "cell_type": "markdown",
   "id": "919adeda-1632-4e77-935f-222b52f20971",
   "metadata": {},
   "source": [
    "##### persistent"
   ]
  },
  {
   "cell_type": "code",
   "execution_count": null,
   "id": "07448e32-6837-44db-bef3-4dd8217e538e",
   "metadata": {
    "tags": []
   },
   "outputs": [],
   "source": [
    "%run /home/studio-lab-user/.conda/pantat88.py\n",
    "%cd -q ~/asd/models/Stable-diffusion\n",
    "\n",
    "%download https://civitai.com/api/download/models/147913 meichidarkMixFp16_45.safetensors\n"
   ]
  },
  {
   "cell_type": "markdown",
   "id": "c42128e0-a276-4ffc-bd81-29c530c40a0d",
   "metadata": {},
   "source": [
    "##### temporary"
   ]
  },
  {
   "cell_type": "code",
   "execution_count": null,
   "id": "c8b2f198-71ab-4e46-82fb-b298a284e259",
   "metadata": {
    "tags": []
   },
   "outputs": [],
   "source": [
    "%run /home/studio-lab-user/.conda/pantat88.py\n",
    "!rm -rf ~/tmp/tmp && mkdir -p /tmp/models\n",
    "%cd -q ~/asd/models/Stable-diffusion/tmp_models\n",
    "\n",
    "%download https://civitai.com/api/download/models/77744  Meichidark_Mix_V2.safetensors\n"
   ]
  },
  {
   "cell_type": "markdown",
   "id": "8bc20e56-9ba4-48ac-bdfc-17179a747ee8",
   "metadata": {
    "tags": []
   },
   "source": [
    "### *Lora*"
   ]
  },
  {
   "cell_type": "markdown",
   "id": "00f34d7f-8923-4dbb-9191-d65263848828",
   "metadata": {},
   "source": [
    "##### persistent"
   ]
  },
  {
   "cell_type": "code",
   "execution_count": null,
   "id": "936784d0-67c8-442c-aa3a-ee3456f8f4bb",
   "metadata": {
    "tags": []
   },
   "outputs": [],
   "source": [
    "%run /home/studio-lab-user/.conda/pantat88.py\n",
    "%cd -q ~/asd/models/Lora\n",
    "\n",
    "%download https://civitai.com/api/download/models/87153   add_detail.safetensors\n",
    "%download https://civitai.com/api/download/models/171989  detail_slider_v4.safetensors\n",
    "%download https://civitai.com/api/download/models/62833   Detail_Tweaker.safetensors\n",
    "%download https://civitai.com/api/download/models/86247   flat2.safetensors\n"
   ]
  },
  {
   "cell_type": "markdown",
   "id": "a12d1739-e6e3-4251-a243-b57899d07100",
   "metadata": {},
   "source": [
    "##### temporary"
   ]
  },
  {
   "cell_type": "code",
   "execution_count": null,
   "id": "7f512b1b-f0a3-4587-a23a-0fc36e1eda83",
   "metadata": {
    "tags": []
   },
   "outputs": [],
   "source": [
    "%run /home/studio-lab-user/.conda/pantat88.py\n",
    "!rm -rf ~/tmp/tmp && mkdir -p /tmp/Lora\n",
    "%cd -q ~/asd/models/Lora/tmp_Lora\n",
    "\n",
    "%download https://civitai.com/api/download/models/146600  breastsizeslideroffset.safetensors\n"
   ]
  },
  {
   "cell_type": "markdown",
   "id": "b4b19ba2-ae2b-481b-9b39-be6eac7a0f77",
   "metadata": {
    "tags": []
   },
   "source": [
    "## WEB UI"
   ]
  },
  {
   "cell_type": "code",
   "execution_count": null,
   "id": "4cffd230-2fd0-49b2-a91d-eb5b826be801",
   "metadata": {
    "tags": []
   },
   "outputs": [],
   "source": [
    "%cd -q ~/asd\n",
    "\n",
    "!python launch.py --ngrok PASTE_YOUR_TOKEN_HERE --listen --xformers --enable-insecure-extension-access --disable-console-progressbars --theme dark --gradio-queue"
   ]
  },
  {
   "cell_type": "markdown",
   "id": "89f767e5-2ab8-41b0-81ed-8fda5af53342",
   "metadata": {
    "jp-MarkdownHeadingCollapsed": true,
    "tags": []
   },
   "source": [
    "### Output images\n",
    "compress output into ```zip``` "
   ]
  },
  {
   "cell_type": "code",
   "execution_count": null,
   "id": "e264e27c-0b24-463a-8ac7-88571517d370",
   "metadata": {
    "tags": []
   },
   "outputs": [],
   "source": [
    "input_folder  = '/home/studio-lab-user/asd/outputs'\n",
    "output_folder = '/home/studio-lab-user'\n",
    "\n",
    "import os\n",
    "import zipfile\n",
    "from tqdm.auto import tqdm\n",
    "def zip_folder(input_folder, output_folder, max_size_mb=20):\n",
    "    os.makedirs(output_folder, exist_ok=True)\n",
    "    all_files = []\n",
    "    for root, dirs, files in os.walk(input_folder):\n",
    "        for file in files:\n",
    "            file_path = os.path.join(root, file)\n",
    "            all_files.append(file_path)\n",
    "    zip_number = 1\n",
    "    current_zip_size = 0\n",
    "    current_zip_name = os.path.join(output_folder, f\"part_{zip_number}.zip\")\n",
    "    with tqdm(total=len(all_files), desc='zipping : ', bar_format='{desc}{n_fmt}/{total_fmt} {bar} | {percentage:3.0f}% [ {elapsed}<{remaining}, {rate_fmt}{postfix} ]', ncols=700) as pbar:\n",
    "        with zipfile.ZipFile(current_zip_name, 'w', compression=zipfile.ZIP_DEFLATED) as current_zip:\n",
    "            for file_path in all_files:\n",
    "                file_size = os.path.getsize(file_path)\n",
    "                if current_zip_size + file_size > max_size_mb * 1024 * 1024:\n",
    "                    current_zip.close()\n",
    "                    zip_number += 1\n",
    "                    current_zip_name = os.path.join(output_folder, f\"part_{zip_number}.zip\")\n",
    "                    current_zip = zipfile.ZipFile(current_zip_name, 'w', compression=zipfile.ZIP_DEFLATED)\n",
    "                    current_zip_size = 0\n",
    "                current_zip.write(file_path, os.path.relpath(file_path, input_folder))\n",
    "                current_zip_size += file_size\n",
    "                pbar.update(1)\n",
    "max_size_mb = 200\n",
    "zip_folder(input_folder, output_folder, max_size_mb)"
   ]
  },
  {
   "cell_type": "markdown",
   "id": "6b74f461-3a60-44fe-8d96-b6fe2f0105a5",
   "metadata": {
    "id": "bf5499c3-18fb-4325-8c37-5298751e4f97",
    "tags": []
   },
   "source": [
    "### For checking and cleaning Storage"
   ]
  },
  {
   "cell_type": "code",
   "execution_count": null,
   "id": "fe9b41c3-932e-442c-9d5e-d43b83a8096d",
   "metadata": {
    "tags": []
   },
   "outputs": [],
   "source": [
    "# Check Storage & List all folders\n",
    "\n",
    "!df -h | grep -E 'Avail|home'\n",
    "print ()\n",
    "!du -h --max-depth=1 /home/studio-lab-user"
   ]
  },
  {
   "cell_type": "code",
   "execution_count": null,
   "id": "9951220b-4c44-4e52-80db-9fe37ab3a6f2",
   "metadata": {
    "tags": []
   },
   "outputs": [],
   "source": [
    "# DELETE output Images\n",
    "\n",
    "!rm -rf /home/studio-lab-user/asd/outputs/*"
   ]
  },
  {
   "cell_type": "code",
   "execution_count": null,
   "id": "ad29fba3-221f-4748-a0c1-9fef2c745c3f",
   "metadata": {
    "tags": []
   },
   "outputs": [],
   "source": [
    "# DELETE Stable Diffusion\n",
    "\n",
    "!unlink ~/tmp\n",
    "!unlink ~/asd/models/Stable-diffusion/tmp_models\n",
    "!unlink ~/asd/models/Lora/tmp_Lora\n",
    "!rm -rf /tmp/Lora /tmp/models /tmp/controlnet_models\n",
    "!rm -rf /home/studio-lab-user/asd /home/studio-lab-user/tmp /home/studio-lab-user/.cache"
   ]
  },
  {
   "cell_type": "code",
   "execution_count": null,
   "id": "9e058676-e9cc-4a39-aeae-c86852d44f5e",
   "metadata": {
    "tags": []
   },
   "outputs": [],
   "source": [
    "# DELETE EVERYTHING , restart jupyterlab afterward\n",
    "\n",
    "!rm -rf /home/studio-lab-user/.cache\n",
    "!rm -rf /home/studio-lab-user/.conda\n",
    "!conda remove -n \"env_name\" --all\n",
    "!rm -rf /home/studio-lab-user/*"
   ]
  },
  {
   "cell_type": "code",
   "execution_count": null,
   "id": "3c527345-356d-4c2b-98ee-0a5981debb0b",
   "metadata": {},
   "outputs": [],
   "source": []
  }
 ],
 "metadata": {
  "kernelspec": {
   "display_name": "default:Python",
   "language": "python",
   "name": "conda-env-default-py"
  },
  "language_info": {
   "codemirror_mode": {
    "name": "ipython",
    "version": 3
   },
   "file_extension": ".py",
   "mimetype": "text/x-python",
   "name": "python",
   "nbconvert_exporter": "python",
   "pygments_lexer": "ipython3",
   "version": "3.9.16"
  }
 },
 "nbformat": 4,
 "nbformat_minor": 5
}
