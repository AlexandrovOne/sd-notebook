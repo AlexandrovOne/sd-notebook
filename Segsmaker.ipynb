{
 "cells": [
  {
   "cell_type": "markdown",
   "id": "26786ea3-e294-44b6-900a-798b0880de76",
   "metadata": {
    "tags": []
   },
   "source": [
    "### 1. Conda"
   ]
  },
  {
   "cell_type": "code",
   "execution_count": null,
   "id": "9dccb75e-fb59-4573-9955-4c334bba607b",
   "metadata": {
    "jupyter": {
     "source_hidden": true
    },
    "tags": []
   },
   "outputs": [],
   "source": [
    "import subprocess\n",
    "def run_command(command, message):\n",
    "    print(f\"{message}\")\n",
    "    subprocess.run(command, shell=True, stdout=subprocess.DEVNULL, stderr=subprocess.DEVNULL)\n",
    "    print(f\"done\")\n",
    "run_command('conda install -q -y conda', 'installing Conda...')\n",
    "run_command('conda install -q -y python=3.10.6', 'installing Python 3.10.6...')\n",
    "run_command('conda install -q -y -c conda-forge glib', 'installing glib...')\n",
    "run_command('conda install -q -y -c conda-forge aria2', 'installing aria2..')\n",
    "run_command('conda update -q -y -n base -c defaults conda', 'updating Conda...')\n",
    "!python --version"
   ]
  },
  {
   "cell_type": "markdown",
   "id": "90c26296-489a-487b-bb15-3342943c06e2",
   "metadata": {},
   "source": [
    "### 2. Restart Jupyterlab"
   ]
  },
  {
   "cell_type": "markdown",
   "id": "16517f93-526d-4729-aa0f-f9544a2640e9",
   "metadata": {},
   "source": [
    "### 3. torch & xformers"
   ]
  },
  {
   "cell_type": "code",
   "execution_count": null,
   "id": "47821f22-3459-45b5-8bed-e54bc45f1b66",
   "metadata": {
    "jupyter": {
     "source_hidden": true
    },
    "tags": []
   },
   "outputs": [],
   "source": [
    "import subprocess\n",
    "def run_command(command, message):\n",
    "    print(f\"{message}\")\n",
    "    subprocess.run(command, shell=True, stdout=subprocess.DEVNULL, stderr=subprocess.DEVNULL)\n",
    "    print(f\"done\")\n",
    "run_command('conda clean -a -y', 'cleaning conda...')\n",
    "run_command('pip install -q --no-cache-dir opencv-python', 'installing opencv-python...')\n",
    "run_command('pip install -q --no-cache-dir torch==2.0.1+cu118 torchvision==0.15.2+cu118 torchaudio==2.0.2+cu118 torchtext==0.15.2 torchdata==0.6.1 --extra-index-url https://download.pytorch.org/whl/cu118 -U', 'installing torch...')\n",
    "run_command('pip install -q --no-cache-dir https://github.com/Bing-su/GroundingDINO/releases/download/0.1.0-2.0.1/groundingdino-0.1.0+torch2.0.1.cu118-cp310-cp310-linux_x86_64.whl', 'installing GroundingDINO..')\n",
    "run_command('pip install -q --no-cache-dir xformers==0.0.20 triton==2.0.0', 'installing xformers...')"
   ]
  },
  {
   "cell_type": "markdown",
   "id": "011fac09-3453-4fea-bad6-da971f037c3b",
   "metadata": {
    "tags": []
   },
   "source": [
    "### 4. Clone SD"
   ]
  },
  {
   "cell_type": "code",
   "execution_count": null,
   "id": "598827fd-7cf0-4d73-b982-c417916b7e96",
   "metadata": {
    "jupyter": {
     "source_hidden": true
    },
    "tags": []
   },
   "outputs": [],
   "source": [
    "%cd /home/studio-lab-user/\n",
    "!git clone -b 1.6.1 https://github.com/pantat88/asd # version 1.6.1\n",
    "\n",
    "%cd ~/asd\n",
    "!aria2c --console-log-level=error -c -x 16 -s 16 -k 1M https://huggingface.co/pantat88/ui/resolve/main/Config.zip -o Config.zip\n",
    "!unzip -o Config.zip\n",
    "!rm Config.zip\n",
    "\n",
    "%cd /home/studio-lab-user/\n",
    "# create symlink to temporary folder\n",
    "!ln -vs /tmp ~/tmp\n",
    "#ln -vs /tmp/outputs /home/studio-lab-user/asd/outputs\n",
    "!ln -vs /tmp/models /home/studio-lab-user/asd/models/Stable-diffusion/tmp_models\n",
    "!mkdir ~/asd/models/Lora\n",
    "!ln -vs /tmp/Lora /home/studio-lab-user/asd/models/Lora/tmp_Lora\n",
    "\n",
    "%cd ~/asd/extensions\n",
    "!git clone --depth 1 https://github.com/NoCrypt/sd-fast-pnginfo\n",
    "%cd ~/asd/extensions/sd-fast-pnginfo/scripts\n",
    "!rm fast-pnginfo.py\n",
    "!aria2c --console-log-level=error -c -x 16 -s 16 -k 1M https://huggingface.co/pantat88/ui/resolve/main/fast-pnginfo.py -o fast-pnginfo.py\n",
    "\n",
    "#git clone https://github.com/P2Enjoy/sd-webui-roop-uncensored\n",
    "#git clone --depth 1 https://github.com/etherealxx/batchlinks-webui\n",
    "#git clone --depth 1 https://github.com/zanllp/sd-webui-infinite-image-browsing\n",
    "#git clone --depth 1 https://github.com/camenduru/sd-civitai-browser                                ~/asd/extensions/civitai-browser\n",
    "#git clone --depth 1 https://github.com/a2569875/stable-diffusion-webui-composable-lora             ~/asd/extensions/composable-lora\n",
    "#git clone --depth 1 https://github.com/arenasys/stable-diffusion-webui-model-toolkit               ~/asd/extensions/model-toolkit\n",
    "#git clone --depth 1 https://github.com/hako-mikan/sd-webui-regional-prompter                       ~/asd/extensions/sd-webui-regional-prompter\n",
    "#git clone https://github.com/Gourieff/sd-webui-reactor-force                                       ~/asd/extensions/sd-webui-reactor-force\n",
    "!git clone --depth 1 https://github.com/camenduru/stable-diffusion-webui-huggingface                ~/asd/extensions/huggingface\n",
    "!git clone https://github.com/pantat88/supermerger                                            ~/asd/extensions/supermerger\n",
    "!git clone --depth 1 https://github.com/thomasasfk/sd-webui-aspect-ratio-helper                     ~/asd/extensions/aspect-ratio-helper\n",
    "!git clone --depth 1 https://github.com/civitai/sd_civitai_extension                                ~/asd/extensions/civitai_extension\n",
    "!git clone --depth 1 https://github.com/pantat88/dynamic-thresholding                               ~/asd/extensions/1dynamic-thresholding\n",
    "!git clone --depth 1 https://github.com/Coyote-A/ultimate-upscale-for-automatic1111                 ~/asd/extensions/ultimate-upscale\n",
    "!git clone https://github.com/portu-sim/sd-webui-bmab                                               ~/asd/extensions/3bmab\n",
    "!git clone --depth 1 https://github.com/wcde/custom-hires-fix-for-automatic1111                     ~/asd/extensions/2custom-hires-fix\n",
    "%cd ~/asd/extensions/2custom-hires-fix/scripts\n",
    "!rm custom_hires_fix.py\n",
    "!aria2c --console-log-level=error -c -x 16 -s 16 -k 1M https://huggingface.co/pantat88/ui/resolve/main/custom_hires_fix.py -o custom_hires_fix.py\n",
    "\n",
    "!git clone https://github.com/Bing-su/adetailer                                                     ~/asd/extensions/4adetailer\n",
    "!mkdir ~/asd/models/adetailer\n",
    "%cd ~/asd/models/adetailer\n",
    "!aria2c --console-log-level=error -c -x 16 -s 16 -k 1M https://huggingface.co/pantat88/ui/resolve/main/ADetailer.zip -o ADetailer.zip\n",
    "!unzip -o ADetailer.zip\n",
    "!rm ADetailer.zip\n",
    "!mkdir ~/asd/models/bmab\n",
    "%cd ~/asd/models/bmab\n",
    "!aria2c --console-log-level=error -c -x 16 -s 16 -k 1M https://huggingface.co/pantat88/ui/resolve/main/ADetailer.zip -o ADetailer.zip\n",
    "!unzip -o ADetailer.zip\n",
    "!rm ADetailer.zip\n",
    "\n",
    "!git clone https://github.com/pantat88/sd-webui-controlnet                                          ~/asd/extensions/sd-webui-controlnet\n",
    "%cd ~/asd/extensions/sd-webui-controlnet/scripts\n",
    "!rm controlnet.py\n",
    "!aria2c --console-log-level=error -c -x 16 -s 16 -k 1M https://huggingface.co/pantat88/ui/resolve/main/controlnet.py -o controlnet.py\n",
    "%cd ~/asd/extensions/sd-webui-controlnet/models\n",
    "!aria2c --console-log-level=error -c -x 16 -s 16 -k 1M https://huggingface.co/ckpt/ControlNet-v1-1/resolve/main/control_v11p_sd15_openpose_fp16.safetensors         -o control_v11p_sd15_openpose_fp16.safetensors\n",
    "!aria2c --console-log-level=error -c -x 16 -s 16 -k 1M https://huggingface.co/ckpt/ControlNet-v1-1/raw/main/control_v11p_sd15_openpose_fp16.yaml                    -o control_v11p_sd15_openpose_fp16.yaml\n",
    "!aria2c --console-log-level=error -c -x 16 -s 16 -k 1M https://huggingface.co/ckpt/ControlNet-v1-1/resolve/main/control_v11p_sd15_lineart_fp16.safetensors          -o control_v11p_sd15_lineart_fp16.safetensors\n",
    "!aria2c --console-log-level=error -c -x 16 -s 16 -k 1M https://huggingface.co/ckpt/ControlNet-v1-1/raw/main/control_v11p_sd15_lineart_fp16.yaml                     -o control_v11p_sd15_lineart_fp16.yaml\n",
    "!git clone --depth 1 https://github.com/IDEA-Research/DWPose                                        ~/asd/extensions/DWPose\n",
    "\n",
    "# embeddings\n",
    "%cd ~/asd/embeddings\n",
    "!aria2c --console-log-level=error -c -x 16 -s 16 -k 1M https://huggingface.co/pantat88/back_up/resolve/main/embeddings.zip -o embeddings.zip\n",
    "!unzip -o ~/asd/embeddings/embeddings.zip\n",
    "!rm embeddings.zip\n",
    "!aria2c --console-log-level=error -c -x 16 -s 16 -k 1M https://civitai.com/api/download/models/150491 # edgQuality.pt\n",
    "\n",
    "# Upscaler\n",
    "!mkdir ~/asd/models/ESRGAN\n",
    "%cd ~/asd/models/ESRGAN\n",
    "#aria2c --console-log-level=error -c -x 16 -s 16 -k 1M https://huggingface.co/embed/upscale/resolve/main/4x-UltraSharp.pth                      -o 4x-UltraSharp.pth\n",
    "#aria2c --console-log-level=error -c -x 16 -s 16 -k 1M https://huggingface.co/pantat88/ui/resolve/main/4x-AnimeSharp.pth                        -o 4x-AnimeSharp.pth\n",
    "!aria2c --console-log-level=error -c -x 16 -s 16 -k 1M https://huggingface.co/pantat88/ui/resolve/main/4x_RealisticRescaler_100000_G.pth        -o 4x_RealisticRescaler_100000_G.pth\n",
    "!aria2c --console-log-level=error -c -x 16 -s 16 -k 1M https://huggingface.co/ai-forever/Real-ESRGAN/resolve/main/RealESRGAN_x8.pth             -o 8x_RealESRGAN.pth\n",
    "\n",
    "# VAE\n",
    "%cd ~/asd/models/VAE\n",
    "!aria2c --console-log-level=error -c -x 16 -s 16 -k 1M https://huggingface.co/stabilityai/sd-vae-ft-mse-original/resolve/main/vae-ft-mse-840000-ema-pruned.safetensors   -o vae-ft-mse-840000-ema-pruned.safetensors\n",
    "#aria2c --console-log-level=error -c -x 16 -s 16 -k 1M https://huggingface.co/Anzing/back_up/resolve/main/anything_fp16.pt   -o anything_fp16.pt\n",
    "\n",
    "!rm -r /home/studio-lab-user/.cache"
   ]
  },
  {
   "cell_type": "markdown",
   "id": "b3e8e870-6944-4f64-a44e-daa28c515652",
   "metadata": {
    "jp-MarkdownHeadingCollapsed": true,
    "tags": []
   },
   "source": [
    "### *Extensions*"
   ]
  },
  {
   "cell_type": "code",
   "execution_count": null,
   "id": "2e485682-1a26-4b1c-9a01-b6449e072ce1",
   "metadata": {
    "tags": []
   },
   "outputs": [],
   "source": [
    "# extensions\n",
    "%cd ~/asd/extensions\n",
    "!git clone --depth 1 https://github.com/NoCrypt/sd-fast-pnginfo\n",
    "%cd ~/asd/extensions/sd-fast-pnginfo/scripts\n",
    "!rm fast-pnginfo.py\n",
    "!aria2c --console-log-level=error -c -x 16 -s 16 -k 1M https://huggingface.co/pantat88/ui/resolve/main/fast-pnginfo.py -o fast-pnginfo.py\n",
    "%cd ~/asd/extensions\n",
    "#git clone https://github.com/P2Enjoy/sd-webui-roop-uncensored\n",
    "#git clone --depth 1 https://github.com/etherealxx/batchlinks-webui\n",
    "#git clone --depth 1 https://github.com/zanllp/sd-webui-infinite-image-browsing\n",
    "#git clone --depth 1 https://github.com/camenduru/sd-civitai-browser                                ~/asd/extensions/civitai-browser\n",
    "#git clone --depth 1 https://github.com/camenduru/stable-diffusion-webui-huggingface                ~/asd/extensions/huggingface\n",
    "!git clone --depth 1 https://github.com/civitai/sd_civitai_extension                                ~/asd/extensions/civitai_extension\n",
    "#git clone --depth 1 https://github.com/butaixianran/Stable-Diffusion-Webui-Civitai-Helper          ~/asd/extensions/Stable-Diffusion-Webui-Civitai-Helper\n",
    "#git clone --depth 1 https://github.com/DominikDoom/a1111-sd-webui-tagcomplete                      ~/asd/extensions/a1111-sd-webui-tagcomplete\n",
    "!git clone --depth 1 https://github.com/thomasasfk/sd-webui-aspect-ratio-helper                     ~/asd/extensions/aspect-ratio-helper\n",
    "#git clone https://github.com/Nevysha/Cozy-Nest                                                     ~/asd/extensions/Cozy-Nest                \n",
    "!git clone --depth 1 https://github.com/pantat88/dynamic-thresholding                               ~/asd/extensions/1dynamic-thresholding\n",
    "!git clone --depth 1 https://github.com/Coyote-A/ultimate-upscale-for-automatic1111                 ~/asd/extensions/ultimate-upscale\n",
    "!git clone --depth 1 https://github.com/portu-sim/sd-webui-bmab                                     ~/asd/extensions/3bmab\n",
    "!git clone --depth 1 https://github.com/wcde/custom-hires-fix-for-automatic1111                     ~/asd/extensions/2custom-hires-fix\n",
    "#git clone --depth 1 https://github.com/a2569875/stable-diffusion-webui-composable-lora             ~/asd/extensions/composable-lora\n",
    "#git clone --depth 1 https://github.com/arenasys/stable-diffusion-webui-model-toolkit               ~/asd/extensions/model-toolkit\n",
    "#git clone --depth 1 https://github.com/hako-mikan/sd-webui-regional-prompter                       ~/asd/extensions/sd-webui-regional-prompter\n",
    "#git clone https://github.com/Gourieff/sd-webui-reactor-force                                       ~/asd/extensions/sd-webui-reactor-force\n",
    "!git clone --depth 1 https://github.com/Bing-su/adetailer                                           ~/asd/extensions/4adetailer\n",
    "!mkdir ~/asd/models/adetailer\n",
    "%cd ~/asd/models/adetailer\n",
    "!aria2c --console-log-level=error -c -x 16 -s 16 -k 1M https://huggingface.co/pantat88/ui/resolve/main/ADetailer.zip -o ADetailer.zip\n",
    "!unzip -o ADetailer.zip\n",
    "!rm ADetailer.zip\n",
    "\n",
    "!git clone https://github.com/pantat88/sd-webui-controlnet                                          ~/asd/extensions/sd-webui-controlnet\n",
    "!git clone --depth 1 https://github.com/IDEA-Research/DWPose                                        ~/asd/extensions/DWPose\n",
    "#git clone --depth 1 https://github.com/huchenlei/sd-webui-openpose-editor\n",
    "\n",
    "%cd ~/asd/extensions/sd-webui-controlnet/models\n",
    "!aria2c --console-log-level=error -c -x 16 -s 16 -k 1M https://huggingface.co/ckpt/ControlNet-v1-1/resolve/main/control_v11p_sd15_openpose_fp16.safetensors         -o control_v11p_sd15_openpose_fp16.safetensors\n",
    "!aria2c --console-log-level=error -c -x 16 -s 16 -k 1M https://huggingface.co/ckpt/ControlNet-v1-1/raw/main/control_v11p_sd15_openpose_fp16.yaml                    -o control_v11p_sd15_openpose_fp16.yaml\n",
    "!aria2c --console-log-level=error -c -x 16 -s 16 -k 1M https://huggingface.co/ckpt/ControlNet-v1-1/resolve/main/control_v11p_sd15_lineart_fp16.safetensors          -o control_v11p_sd15_lineart_fp16.safetensors\n",
    "!aria2c --console-log-level=error -c -x 16 -s 16 -k 1M https://huggingface.co/ckpt/ControlNet-v1-1/raw/main/control_v11p_sd15_lineart_fp16.yaml                     -o control_v11p_sd15_lineart_fp16.yaml\n",
    "\n",
    "\n",
    "# embeddings\n",
    "%cd ~/asd/embeddings\n",
    "!aria2c --console-log-level=error -c -x 16 -s 16 -k 1M https://huggingface.co/pantat88/back_up/resolve/main/embeddings.zip -o embeddings.zip\n",
    "!unzip -o ~/asd/embeddings/embeddings.zip\n",
    "!rm embeddings.zip\n",
    "!aria2c --console-log-level=error -c -x 16 -s 16 -k 1M https://civitai.com/api/download/models/150491 # edgQuality.pt\n",
    "\n",
    "# Upscaler\n",
    "!mkdir ~/asd/models/ESRGAN\n",
    "%cd ~/asd/models/ESRGAN\n",
    "!aria2c --console-log-level=error -c -x 16 -s 16 -k 1M https://huggingface.co/embed/upscale/resolve/main/4x-UltraSharp.pth                      -o 4x-UltraSharp.pth\n",
    "!aria2c --console-log-level=error -c -x 16 -s 16 -k 1M https://huggingface.co/pantat88/ui/resolve/main/4x-AnimeSharp.pth                        -o 4x-AnimeSharp.pth\n",
    "!aria2c --console-log-level=error -c -x 16 -s 16 -k 1M https://huggingface.co/pantat88/ui/resolve/main/4x_RealisticRescaler_100000_G.pth        -o 4x_RealisticRescaler_100000_G.pth\n",
    "!aria2c --console-log-level=error -c -x 16 -s 16 -k 1M https://huggingface.co/ai-forever/Real-ESRGAN/resolve/main/RealESRGAN_x8.pth             -o 8x_RealESRGAN.pth\n",
    "\n",
    "# VAE\n",
    "%cd ~/asd/models/VAE\n",
    "!aria2c --console-log-level=error -c -x 16 -s 16 -k 1M https://huggingface.co/stabilityai/sd-vae-ft-mse-original/resolve/main/vae-ft-mse-840000-ema-pruned.safetensors                                                                     -o vae-ft-mse-840000-ema-pruned.safetensors\n",
    "\n"
   ]
  },
  {
   "cell_type": "markdown",
   "id": "c8d5d6aa-8dc8-46af-8aa5-785b25d68ae7",
   "metadata": {
    "jp-MarkdownHeadingCollapsed": true,
    "tags": []
   },
   "source": [
    "#### *ControlNET* (optional)"
   ]
  },
  {
   "cell_type": "code",
   "execution_count": null,
   "id": "b8c446e8-19b1-4d9b-b58c-fa73a5659b5b",
   "metadata": {
    "tags": []
   },
   "outputs": [],
   "source": [
    "# persistent\n",
    "%cd ~/asd/extensions\n",
    "\n",
    "!git clone -b v1.1.411 https://github.com/pantat88/sd-webui-controlnet                               ~/asd/extensions/0controlnet\n",
    "#rm -rd ~/asd/extensions/sd-webui-controlnet/models\n",
    "\n",
    "!git clone https://github.com/IDEA-Research/DWPose\n",
    "#git clone --depth 1 https://github.com/fkunn1326/openpose-editor\n",
    "#git clone --depth 1 https://github.com/nonnonstop/sd-webui-3d-open-pose-editor\n",
    "#git clone --depth 1 https://github.com/jexom/sd-webui-depth-lib\n",
    "#git clone --depth 1 https://github.com/hnmr293/posex\n",
    "\n",
    "#ln -vs /tmp/controlnet_models /home/studio-lab-user/asd/extensions/sd-webui-controlnet/models\n",
    "\n",
    "%cd ~/asd/extensions/0controlnet/models\n",
    "!aria2c --console-log-level=error -c -x 16 -s 16 -k 1M https://huggingface.co/ckpt/ControlNet-v1-1/resolve/main/control_v11p_sd15_openpose_fp16.safetensors         -o control_v11p_sd15_openpose_fp16.safetensors\n",
    "!aria2c --console-log-level=error -c -x 16 -s 16 -k 1M https://huggingface.co/ckpt/ControlNet-v1-1/raw/main/control_v11p_sd15_openpose_fp16.yaml                    -o control_v11p_sd15_openpose_fp16.yaml"
   ]
  },
  {
   "cell_type": "code",
   "execution_count": null,
   "id": "c7a1bfea-7691-4a1c-b290-1ef58c87cee1",
   "metadata": {
    "tags": []
   },
   "outputs": [],
   "source": [
    "# tmp\n",
    "!mkdir -p /tmp/controlnet_models\n",
    "%cd ~/asd/extensions/sd-webui-controlnet/models\n",
    "\n",
    "#aria2c --console-log-level=error -c -x 16 -s 16 -k 1M https://huggingface.co/ckpt/ControlNet-v1-1/resolve/main/control_v11e_sd15_ip2p_fp16.safetensors             -o control_v11e_sd15_ip2p_fp16.safetensors\n",
    "#aria2c --console-log-level=error -c -x 16 -s 16 -k 1M https://huggingface.co/ckpt/ControlNet-v1-1/resolve/main/control_v11e_sd15_shuffle_fp16.safetensors          -o control_v11e_sd15_shuffle_fp16.safetensors\n",
    "#aria2c --console-log-level=error -c -x 16 -s 16 -k 1M https://huggingface.co/ckpt/ControlNet-v1-1/resolve/main/control_v11p_sd15_canny_fp16.safetensors            -o control_v11p_sd15_canny_fp16.safetensors\n",
    "#aria2c --console-log-level=error -c -x 16 -s 16 -k 1M https://huggingface.co/ckpt/ControlNet-v1-1/resolve/main/control_v11f1p_sd15_depth_fp16.safetensors          -o control_v11f1p_sd15_depth_fp16.safetensors\n",
    "#aria2c --console-log-level=error -c -x 16 -s 16 -k 1M https://huggingface.co/ckpt/ControlNet-v1-1/resolve/main/control_v11p_sd15_inpaint_fp16.safetensors          -o control_v11p_sd15_inpaint_fp16.safetensors\n",
    "#aria2c --console-log-level=error -c -x 16 -s 16 -k 1M https://huggingface.co/ckpt/ControlNet-v1-1/resolve/main/control_v11p_sd15_lineart_fp16.safetensors          -o control_v11p_sd15_lineart_fp16.safetensors\n",
    "#aria2c --console-log-level=error -c -x 16 -s 16 -k 1M https://huggingface.co/ckpt/ControlNet-v1-1/resolve/main/control_v11p_sd15_mlsd_fp16.safetensors             -o control_v11p_sd15_mlsd_fp16.safetensors\n",
    "#aria2c --console-log-level=error -c -x 16 -s 16 -k 1M https://huggingface.co/ckpt/ControlNet-v1-1/resolve/main/control_v11p_sd15_normalbae_fp16.safetensors        -o control_v11p_sd15_normalbae_fp16.safetensors\n",
    "!aria2c --console-log-level=error -c -x 16 -s 16 -k 1M https://huggingface.co/ckpt/ControlNet-v1-1/resolve/main/control_v11p_sd15_openpose_fp16.safetensors         -o control_v11p_sd15_openpose_fp16.safetensors\n",
    "#aria2c --console-log-level=error -c -x 16 -s 16 -k 1M https://huggingface.co/ckpt/ControlNet-v1-1/resolve/main/control_v11p_sd15_scribble_fp16.safetensors         -o control_v11p_sd15_scribble_fp16.safetensors\n",
    "#aria2c --console-log-level=error -c -x 16 -s 16 -k 1M https://huggingface.co/ckpt/ControlNet-v1-1/resolve/main/control_v11p_sd15_seg_fp16.safetensors              -o control_v11p_sd15_seg_fp16.safetensors\n",
    "#aria2c --console-log-level=error -c -x 16 -s 16 -k 1M https://huggingface.co/ckpt/ControlNet-v1-1/resolve/main/control_v11p_sd15_softedge_fp16.safetensors         -o control_v11p_sd15_softedge_fp16.safetensors\n",
    "#aria2c --console-log-level=error -c -x 16 -s 16 -k 1M https://huggingface.co/ckpt/ControlNet-v1-1/resolve/main/control_v11p_sd15s2_lineart_anime_fp16.safetensors  -o control_v11p_sd15s2_lineart_anime_fp16.safetensors\n",
    "#aria2c --console-log-level=error -c -x 16 -s 16 -k 1M https://huggingface.co/ckpt/ControlNet-v1-1/resolve/main/control_v11f1e_sd15_tile_fp16.safetensors           -o control_v11f1e_sd15_tile_fp16.safetensors\n",
    "#aria2c --console-log-level=error -c -x 16 -s 16 -k 1M https://huggingface.co/ckpt/ControlNet-v1-1/raw/main/control_v11e_sd15_ip2p_fp16.yaml                        -o control_v11e_sd15_ip2p_fp16.yaml\n",
    "#aria2c --console-log-level=error -c -x 16 -s 16 -k 1M https://huggingface.co/ckpt/ControlNet-v1-1/raw/main/control_v11e_sd15_shuffle_fp16.yaml                     -o control_v11e_sd15_shuffle_fp16.yaml\n",
    "#aria2c --console-log-level=error -c -x 16 -s 16 -k 1M https://huggingface.co/ckpt/ControlNet-v1-1/raw/main/control_v11p_sd15_canny_fp16.yaml                       -o control_v11p_sd15_canny_fp16.yaml\n",
    "#aria2c --console-log-level=error -c -x 16 -s 16 -k 1M https://huggingface.co/ckpt/ControlNet-v1-1/raw/main/control_v11f1p_sd15_depth_fp16.yaml                     -o control_v11f1p_sd15_depth_fp16.yaml\n",
    "#aria2c --console-log-level=error -c -x 16 -s 16 -k 1M https://huggingface.co/ckpt/ControlNet-v1-1/raw/main/control_v11p_sd15_inpaint_fp16.yaml                     -o control_v11p_sd15_inpaint_fp16.yaml\n",
    "#aria2c --console-log-level=error -c -x 16 -s 16 -k 1M https://huggingface.co/ckpt/ControlNet-v1-1/raw/main/control_v11p_sd15_lineart_fp16.yaml                     -o control_v11p_sd15_lineart_fp16.yaml\n",
    "#aria2c --console-log-level=error -c -x 16 -s 16 -k 1M https://huggingface.co/ckpt/ControlNet-v1-1/raw/main/control_v11p_sd15_mlsd_fp16.yaml                        -o control_v11p_sd15_mlsd_fp16.yaml\n",
    "#aria2c --console-log-level=error -c -x 16 -s 16 -k 1M https://huggingface.co/ckpt/ControlNet-v1-1/raw/main/control_v11p_sd15_normalbae_fp16.yaml                   -o control_v11p_sd15_normalbae_fp16.yaml\n",
    "!aria2c --console-log-level=error -c -x 16 -s 16 -k 1M https://huggingface.co/ckpt/ControlNet-v1-1/raw/main/control_v11p_sd15_openpose_fp16.yaml                    -o control_v11p_sd15_openpose_fp16.yaml\n",
    "#aria2c --console-log-level=error -c -x 16 -s 16 -k 1M https://huggingface.co/ckpt/ControlNet-v1-1/raw/main/control_v11p_sd15_scribble_fp16.yaml                    -o control_v11p_sd15_scribble_fp16.yaml\n",
    "#aria2c --console-log-level=error -c -x 16 -s 16 -k 1M https://huggingface.co/ckpt/ControlNet-v1-1/raw/main/control_v11p_sd15_seg_fp16.yaml                         -o control_v11p_sd15_seg_fp16.yaml\n",
    "#aria2c --console-log-level=error -c -x 16 -s 16 -k 1M https://huggingface.co/ckpt/ControlNet-v1-1/raw/main/control_v11p_sd15_softedge_fp16.yaml                    -o control_v11p_sd15_softedge_fp16.yaml\n",
    "#aria2c --console-log-level=error -c -x 16 -s 16 -k 1M https://huggingface.co/ckpt/ControlNet-v1-1/raw/main/control_v11p_sd15s2_lineart_anime_fp16.yaml             -o control_v11p_sd15s2_lineart_anime_fp16.yaml\n",
    "#aria2c --console-log-level=error -c -x 16 -s 16 -k 1M https://huggingface.co/ckpt/ControlNet-v1-1/raw/main/control_v11f1e_sd15_tile_fp16.yaml                      -o control_v11f1e_sd15_tile_fp16.yaml"
   ]
  },
  {
   "cell_type": "markdown",
   "id": "cef8d349-ff55-4189-9cc6-24a246374e10",
   "metadata": {
    "jp-MarkdownHeadingCollapsed": true,
    "tags": []
   },
   "source": [
    "### *Embeddings - Upscaler - VAE*"
   ]
  },
  {
   "cell_type": "code",
   "execution_count": null,
   "id": "c8f4274d-5540-4647-8ed7-bc4d8766baa0",
   "metadata": {
    "tags": []
   },
   "outputs": [],
   "source": [
    "# embeddings\n",
    "%cd ~/asd/embeddings\n",
    "\n",
    "!aria2c --console-log-level=error -c -x 16 -s 16 -k 1M https://huggingface.co/pantat88/back_up/resolve/main/embeddings.zip -o embeddings.zip\n",
    "!unzip -o ~/asd/embeddings/embeddings.zip\n",
    "!rm embeddings.zip\n",
    "\n",
    "!aria2c --console-log-level=error -c -x 16 -s 16 -k 1M https://civitai.com/api/download/models/150491 # edgQuality.pt"
   ]
  },
  {
   "cell_type": "code",
   "execution_count": null,
   "id": "79a30d97-96bb-4c7e-8557-5bc5c150245a",
   "metadata": {
    "tags": []
   },
   "outputs": [],
   "source": [
    "# Upscaler\n",
    "!mkdir ~/asd/models/ESRGAN\n",
    "%cd ~/asd/models/ESRGAN\n",
    "\n",
    "!aria2c --console-log-level=error -c -x 16 -s 16 -k 1M https://huggingface.co/embed/upscale/resolve/main/4x-UltraSharp.pth                      -o 4x-UltraSharp.pth\n",
    "!aria2c --console-log-level=error -c -x 16 -s 16 -k 1M https://huggingface.co/pantat88/ui/resolve/main/4x-AnimeSharp.pth                        -o 4x-AnimeSharp.pth\n",
    "!aria2c --console-log-level=error -c -x 16 -s 16 -k 1M https://huggingface.co/pantat88/ui/resolve/main/4x_RealisticRescaler_100000_G.pth        -o 4x_RealisticRescaler_100000_G.pth\n",
    "!aria2c --console-log-level=error -c -x 16 -s 16 -k 1M https://huggingface.co/ai-forever/Real-ESRGAN/resolve/main/RealESRGAN_x8.pth             -o 8x_RealESRGAN.pth\n"
   ]
  },
  {
   "cell_type": "code",
   "execution_count": null,
   "id": "e8b7a685-a756-46cc-a148-44ca7f1dec29",
   "metadata": {
    "tags": []
   },
   "outputs": [],
   "source": [
    "# VAE\n",
    "%cd ~/asd/models/VAE\n",
    "\n",
    "!aria2c --console-log-level=error -c -x 16 -s 16 -k 1M https://huggingface.co/stabilityai/sd-vae-ft-mse-original/resolve/main/vae-ft-mse-840000-ema-pruned.safetensors                                                                     -o vae-ft-mse-840000-ema-pruned.safetensors\n",
    "\n",
    "#aria2c --console-log-level=error -c -x 16 -s 16 -k 1M https://huggingface.co/fp16-guy/anything_kl-f8-anime2_vae-ft-mse-840000-ema-pruned_blessed_clearvae_fp16_cleaned/resolve/main/vae-ft-mse-840000-ema-pruned_fp16.safetensors         -o vae-ft-mse-840000-ema-pruned_fp16.safetensors\n",
    "#aria2c --console-log-level=error -c -x 16 -s 16 -k 1M https://huggingface.co/fp16-guy/anything_kl-f8-anime2_vae-ft-mse-840000-ema-pruned_blessed_clearvae_fp16_cleaned/resolve/main/kl-f8-anime2_fp16.safetensors                         -o kl-f8-anime2_fp16.safetensors\n",
    "#aria2c --console-log-level=error -c -x 16 -s 16 -k 1M https://huggingface.co/fp16-guy/anything_kl-f8-anime2_vae-ft-mse-840000-ema-pruned_blessed_clearvae_fp16_cleaned/resolve/main/blessed2_fp16.safetensors                             -o blessed2_fp16.safetensors\n",
    "#aria2c --console-log-level=error -c -x 16 -s 16 -k 1M https://huggingface.co/fp16-guy/anything_kl-f8-anime2_vae-ft-mse-840000-ema-pruned_blessed_clearvae_fp16_cleaned/resolve/main/ClearVAE_V2.3_fp16.safetensors                        -o ClearVAE_V2.3_fp16.safetensors\n",
    "#aria2c --console-log-level=error -c -x 16 -s 16 -k 1M https://huggingface.co/fp16-guy/anything_kl-f8-anime2_vae-ft-mse-840000-ema-pruned_blessed_clearvae_fp16_cleaned/resolve/main/anything_fp16.safetensors                             -o anything_fp16.safetensors\n"
   ]
  },
  {
   "cell_type": "markdown",
   "id": "e1686fb4-1cf7-4abf-bdef-f742beb84e0c",
   "metadata": {
    "tags": []
   },
   "source": [
    "### *Checkpoint*"
   ]
  },
  {
   "cell_type": "code",
   "execution_count": null,
   "id": "07448e32-6837-44db-bef3-4dd8217e538e",
   "metadata": {
    "tags": []
   },
   "outputs": [],
   "source": [
    "# persistent\n",
    "%cd ~/asd/models/Stable-diffusion\n",
    "\n",
    "!aria2c --console-log-level=error -c -x 16 -s 16 -k 1M https://huggingface.co/pantat88/back_up/resolve/main/Ddmix_25D_v12_slim.safetensors      -o Ddmix_25D_v12_slim.safetensors\n",
    "!aria2c --console-log-level=error -c -x 16 -s 16 -k 1M https://huggingface.co/pantat88/back_up/resolve/main/Ddmix_25D_N_v2-fp16.safetensors     -o Ddmix_25D_N_v2-fp16.safetensors\n",
    "#aria2c --console-log-level=error -c -x 16 -s 16 -k 1M https://civitai.com/api/download/models/222714                                           -o kakarot28D_v17Pruned.safetensors\n",
    "    \n"
   ]
  },
  {
   "cell_type": "code",
   "execution_count": null,
   "id": "c8b2f198-71ab-4e46-82fb-b298a284e259",
   "metadata": {
    "tags": []
   },
   "outputs": [],
   "source": [
    "# tmp\n",
    "!mkdir -p /tmp/models\n",
    "%cd ~/asd/models/Stable-diffusion/tmp_models\n",
    "\n",
    "#aria2c --console-log-level=error -c -x 16 -s 16 -k 1M https://huggingface.co/pantat88/back_up/resolve/main/N_real_v3_fp16.safetensors              -o N_real_v3_fp16.safetensors\n",
    "#aria2c --console-log-level=error -c -x 16 -s 16 -k 1M https://huggingface.co/pantat88/back_up/resolve/main/A_real_v2_fp16.safetensors              -o A_real_v2_fp16.safetensors\n",
    "#aria2c --console-log-level=error -c -x 16 -s 16 -k 1M https://huggingface.co/pantat88/back_up/resolve/main/A_real7643_fp16.safetensors             -o A_real7643_fp16.safetensors\n",
    "#aria2c --console-log-level=error -c -x 16 -s 16 -k 1M https://huggingface.co/pantat88/back_up/resolve/main/Ddmix_25D_v13.safetensors               -o Ddmix_25D_v13.safetensors            \n",
    "#aria2c --console-log-level=error -c -x 16 -s 16 -k 1M https://huggingface.co/pantat88/back_up/resolve/main/Ddmix_25D_N_v1_fp16.safetensors         -o Ddmix_25D_N_v1_fp16.safetensors\n",
    "\n",
    "\n",
    "#aria2c --console-log-level=error -c -x 16 -s 16 -k 1M https://huggingface.co/Anzing/back_up/resolve/main/HotDeal_A5R5.safetensors                  -o HotDeal_A5R5.safetensors\n",
    "\n",
    "#aria2c --console-log-level=error -c -x 16 -s 16 -k 1M https://huggingface.co/Anzing/back_up/resolve/main/ARAZmix121.safetensors                    -o ARAZmix121.safetensors\n",
    "#aria2c --console-log-level=error -c -x 16 -s 16 -k 1M https://huggingface.co/Anzing/back_up/resolve/main/hanimix_v15a_ifMix3D.safetensors          -o hanimix_v15a_ifMix3D.safetensors\n",
    "#aria2c --console-log-level=error -c -x 16 -s 16 -k 1M https://huggingface.co/Anzing/back_up/resolve/main/hanimix_v15a.safetensors                  -o hanimix_v15a.safetensors\n",
    "#aria2c --console-log-level=error -c -x 16 -s 16 -k 1M https://huggingface.co/Anzing/back_up/resolve/main/shinemixreal-B.safetensors                -o shinemixreal-B.safetensors\n",
    "#aria2c --console-log-level=error -c -x 16 -s 16 -k 1M https://huggingface.co/Anzing/back_up/resolve/main/shinemixzero.safetensors                  -o shinemixzero.safetensors\n",
    "#aria2c --console-log-level=error -c -x 16 -s 16 -k 1M https://huggingface.co/Anzing/back_up/resolve/main/TPix_typeURe_v1.1_fp16.safetensors        -o TPix_typeURe_v1.1_fp16.safetensors\n",
    "#aria2c --console-log-level=error -c -x 16 -s 16 -k 1M https://huggingface.co/Anzing/back_up/resolve/main/ifMix25D-Tx-R3-v33-prune-fp16.safetensors -o ifMix25D-Tx-R3-v33-prune-fp16.safetensors\n",
    "\n",
    "#aria2c --console-log-level=error -c -x 16 -s 16 -k 1M https://civitai.com/api/download/models/135772                                               -o YabaL_Mix_SemiReal.safetensors\n",
    "#aria2c --console-log-level=error -c -x 16 -s 16 -k 1M https://civitai.com/api/download/models/216284                                               -o YabaLMixTrue25DV5.safetensors\n",
    "!aria2c --console-log-level=error -c -x 16 -s 16 -k 1M https://civitai.com/api/download/models/66857                                                -o fantasticchixHR_v10Fp16NoEma.safetensors\n",
    "#aria2c --console-log-level=error -c -x 16 -s 16 -k 1M https://civitai.com/api/download/models/178305                                               -o XeroxRealMixV4.safetensors\n",
    "\n",
    "\n",
    "#aria2c --console-log-level=error -c -x 16 -s 16 -k 1M https://huggingface.co/pantat88/back_up/resolve/main/Meichidark_Mix_v2_fp16.safetensors      -o Meichidark_Mix_v2_fp16.safetensors\n",
    "#aria2c --console-log-level=error -c -x 16 -s 16 -k 1M https://huggingface.co/fp16-guy/Meichidark_Mix_fp16_cleaned/resolve/main/meichidarkMix_meichidarkV45_fp16_no_vae.safetensors   -o meichidarkV45_fp16_no_vae.safetensors\n"
   ]
  },
  {
   "cell_type": "markdown",
   "id": "8bc20e56-9ba4-48ac-bdfc-17179a747ee8",
   "metadata": {
    "tags": []
   },
   "source": [
    "### *Lora*"
   ]
  },
  {
   "cell_type": "code",
   "execution_count": null,
   "id": "cab40a03-a50e-4e22-b592-bf3ba090b894",
   "metadata": {
    "tags": []
   },
   "outputs": [],
   "source": [
    "%cd ~/asd/models/Lora\n",
    "!aria2c --console-log-level=error -c -x 16 -s 16 -k 1M https://c5.kemono.su/data/ca/11/ca1116fb7d013c34d4aaaad5492f42774fb886d812ccd8f71389570721baed3f.bin?f=MS_Real_Skindentation.safetensors   -o MS_Real_Skindentation.safetensors"
   ]
  },
  {
   "cell_type": "code",
   "execution_count": null,
   "id": "936784d0-67c8-442c-aa3a-ee3456f8f4bb",
   "metadata": {
    "tags": []
   },
   "outputs": [],
   "source": [
    "# persistent\n",
    "%cd ~/asd/models/Lora\n",
    "\n",
    "!aria2c --console-log-level=error -c -x 16 -s 16 -k 1M https://civitai.com/api/download/models/87153   -o add_detail.safetensors\n",
    "!aria2c --console-log-level=error -c -x 16 -s 16 -k 1M https://civitai.com/api/download/models/171989  -o detail_slider_v4.safetensors\n",
    "!aria2c --console-log-level=error -c -x 16 -s 16 -k 1M https://civitai.com/api/download/models/62833   -o Detail_Tweaker.safetensors\n",
    "!aria2c --console-log-level=error -c -x 16 -s 16 -k 1M https://civitai.com/api/download/models/86247   -o flat2.safetensors\n",
    "\n",
    "!aria2c --console-log-level=error -c -x 16 -s 16 -k 1M https://civitai.com/api/download/models/68385   -o CoolMixStyle.safetensors\n",
    "!aria2c --console-log-level=error -c -x 16 -s 16 -k 1M https://civitai.com/api/download/models/128260  -o Sora72-Iro_Style.safetensors\n",
    "!aria2c --console-log-level=error -c -x 16 -s 16 -k 1M https://civitai.com/api/download/models/171133  -o TransparentDresses.safetensors\n",
    "\n",
    "!aria2c --console-log-level=error -c -x 16 -s 16 -k 1M https://civitai.com/api/download/models/131413  -o microwaistV05.safetensors\n",
    "!aria2c --console-log-level=error -c -x 16 -s 16 -k 1M https://civitai.com/api/download/models/181982  -o WideHipsV02.safetensors\n",
    "!aria2c --console-log-level=error -c -x 16 -s 16 -k 1M https://civitai.com/api/download/models/121658  -o MuscleSlider.safetensors\n",
    "!aria2c --console-log-level=error -c -x 16 -s 16 -k 1M https://civitai.com/api/download/models/126824  -o WeightSlider.safetensors\n",
    "!aria2c --console-log-level=error -c -x 16 -s 16 -k 1M https://civitai.com/api/download/models/177595  -o JAV.safetensors\n",
    "!aria2c --console-log-level=error -c -x 16 -s 16 -k 1M https://civitai.com/api/download/models/24511   -o Body_fix.safetensors\n",
    "!aria2c --console-log-level=error -c -x 16 -s 16 -k 1M https://civitai.com/api/download/models/188423  -o RealSkinConditioner.safetensors\n",
    "!aria2c --console-log-level=error -c -x 16 -s 16 -k 1M https://civitai.com/api/download/models/182400  -o novelal.safetensors\n",
    "\n",
    "!aria2c --console-log-level=error -c -x 16 -s 16 -k 1M https://civitai.com/api/download/models/84091   -o BigBooty.safetensors\n",
    "!aria2c --console-log-level=error -c -x 16 -s 16 -k 1M https://civitai.com/api/download/models/146600  -o breastsizeslideroffset.safetensors\n",
    "!aria2c --console-log-level=error -c -x 16 -s 16 -k 1M https://civitai.com/api/download/models/59880   -o dreamy-girls-face.safetensors\n",
    "!aria2c --console-log-level=error -c -x 16 -s 16 -k 1M https://civitai.com/api/download/models/127472  -o Fei_style.safetensors\n",
    "!aria2c --console-log-level=error -c -x 16 -s 16 -k 1M https://civitai.com/api/download/models/196226  -o KemigawaMondo_style.safetensors\n",
    "!aria2c --console-log-level=error -c -x 16 -s 16 -k 1M https://civitai.com/api/download/models/196227  -o CreamCod_style.safetensors\n",
    "\n",
    "!aria2c --console-log-level=error -c -x 16 -s 16 -k 1M https://civitai.com/api/download/models/29870   -o sagging_breasts.safetensors\n",
    "!aria2c --console-log-level=error -c -x 16 -s 16 -k 1M https://civitai.com/api/download/models/82078   -o concept_Sagging_breasts.safetensors\n",
    "!aria2c --console-log-level=error -c -x 16 -s 16 -k 1M https://civitai.com/api/download/models/195517  -o multi_sagging_conceptV3.safetensors\n",
    "\n",
    "#aria2c --console-log-level=error -c -x 16 -s 16 -k 1M https://civitai.com/api/download/models/80605   -o saggy_breasts.safetensors\n",
    "#aria2c --console-log-level=error -c -x 16 -s 16 -k 1M https://civitai.com/api/download/models/184363  -o saggy_uber.safetensors\n",
    "#aria2c --console-log-level=error -c -x 16 -s 16 -k 1M https://civitai.com/api/download/models/153939  -o sagging-v2.4.safetensors\n",
    "#aria2c --console-log-level=error -c -x 16 -s 16 -k 1M https://civitai.com/api/download/models/171198  -o Sagging_Breasts_v1.safetensors\n"
   ]
  },
  {
   "cell_type": "code",
   "execution_count": null,
   "id": "7f512b1b-f0a3-4587-a23a-0fc36e1eda83",
   "metadata": {
    "tags": []
   },
   "outputs": [],
   "source": [
    "# tmp\n",
    "!mkdir -p /tmp/Lora\n",
    "%cd ~/asd/models/Lora/tmp_Lora\n",
    "\n",
    "!aria2c --console-log-level=error -c -x 16 -s 16 -k 1M https://civitai.com/api/download/models/199138  -o HeavyBreasts.safetensors\n",
    "#aria2c --console-log-level=error -c -x 16 -s 16 -k 1M https://civitai.com/api/download/models/220018  -o LatexNinja.safetensors\n",
    "#aria2c --console-log-level=error -c -x 16 -s 16 -k 1M https://civitai.com/api/download/models/210237  -o japaneseGhostCostumeTriangularHeadpiece.safetensors\n",
    "#aria2c --console-log-level=error -c -x 16 -s 16 -k 1M https://civitai.com/api/download/models/206776  -o ORingSlingshotV1.safetensors\n",
    "#aria2c --console-log-level=error -c -x 16 -s 16 -k 1M https://civitai.com/api/download/models/218225  -o maou-mmf-richy-v1.safetensors\n",
    "\n",
    "!aria2c --console-log-level=error -c -x 16 -s 16 -k 1M https://civitai.com/api/download/models/112853  -o SAKIMI.safetensors\n",
    "!aria2c --console-log-level=error -c -x 16 -s 16 -k 1M https://civitai.com/api/download/models/122334  -o QIAN.safetensors\n",
    "!aria2c --console-log-level=error -c -x 16 -s 16 -k 1M https://civitai.com/api/download/models/113074  -o SHOKO.safetensors\n",
    "!aria2c --console-log-level=error -c -x 16 -s 16 -k 1M https://civitai.com/api/download/models/17895   -o AmiyaCos.safetensors\n",
    "\n",
    "!aria2c --console-log-level=error -c -x 16 -s 16 -k 1M https://civitai.com/api/download/models/52340   -o GirlfriendMix2.safetensors\n",
    "!aria2c --console-log-level=error -c -x 16 -s 16 -k 1M https://civitai.com/api/download/models/90498   -o sweetyMixGirl_V2.safetensors\n",
    "!aria2c --console-log-level=error -c -x 16 -s 16 -k 1M https://civitai.com/api/download/models/82109   -o Nipple_Optimization.safetensors\n",
    "!aria2c --console-log-level=error -c -x 16 -s 16 -k 1M https://civitai.com/api/download/models/103505  -o AnimeLegs.safetensors\n",
    "!aria2c --console-log-level=error -c -x 16 -s 16 -k 1M https://civitai.com/api/download/models/220957  -o goldenhind_AL.safetensors\n",
    "!aria2c --console-log-level=error -c -x 16 -s 16 -k 1M https://civitai.com/api/download/models/219896  -o Leona.safetensors\n",
    "!aria2c --console-log-level=error -c -x 16 -s 16 -k 1M https://civitai.com/api/download/models/169409  -o innie.safetensors\n",
    "!aria2c --console-log-level=error -c -x 16 -s 16 -k 1M https://civitai.com/api/download/models/101662  -o inniePussy.safetensors\n",
    "\n",
    "#aria2c --console-log-level=error -c -x 16 -s 16 -k 1M https://civitai.com/api/download/models/118291  -o reverseBunnysuitClothes.safetensors\n",
    "#aria2c --console-log-level=error -c -x 16 -s 16 -k 1M https://civitai.com/api/download/models/52561   -o SoftHentaiElf.safetensors\n",
    "\n",
    "!aria2c --console-log-level=error -c -x 16 -s 16 -k 1M https://civitai.com/api/download/models/133027  -o olazMicroBikini.safetensors\n",
    "#aria2c --console-log-level=error -c -x 16 -s 16 -k 1M https://civitai.com/api/download/models/60410   -o MiniatureMicrobikini.safetensors\n",
    "#aria2c --console-log-level=error -c -x 16 -s 16 -k 1M https://civitai.com/api/download/models/58799   -o Exmicrobikini.safetensors\n",
    "!aria2c --console-log-level=error -c -x 16 -s 16 -k 1M https://civitai.com/api/download/models/176517  -o naked_flashing.safetensors\n",
    "!aria2c --console-log-level=error -c -x 16 -s 16 -k 1M https://civitai.com/api/download/models/155571  -o nakedapron.safetensors\n",
    "!aria2c --console-log-level=error -c -x 16 -s 16 -k 1M https://civitai.com/api/download/models/199615  -o batlingerieV1.safetensors\n",
    "\n",
    "#aria2c --console-log-level=error -c -x 16 -s 16 -k 1M https://civitai.com/api/download/models/199633  -o SexyChinaDress.safetensors\n",
    "!aria2c --console-log-level=error -c -x 16 -s 16 -k 1M https://civitai.com/api/download/models/220059  -o FrontTieBikiniTop.safetensors\n",
    "#aria2c --console-log-level=error -c -x 16 -s 16 -k 1M https://civitai.com/api/download/models/212310  -o Lingerie.safetensors\n",
    "!aria2c --console-log-level=error -c -x 16 -s 16 -k 1M https://civitai.com/api/download/models/179830  -o BunnySuit.safetensors\n",
    "!aria2c --console-log-level=error -c -x 16 -s 16 -k 1M https://civitai.com/api/download/models/181718  -o CropTshirt.safetensors\n",
    "!aria2c --console-log-level=error -c -x 16 -s 16 -k 1M https://civitai.com/api/download/models/211571  -o Kimono.safetensors\n",
    "!aria2c --console-log-level=error -c -x 16 -s 16 -k 1M https://civitai.com/api/download/models/114444  -o Serafuku.safetensors\n",
    "\n",
    "#aria2c --console-log-level=error -c -x 16 -s 16 -k 1M https://civitai.com/api/download/models/82753   -o OiranTemptation.safetensors\n",
    "#aria2c --console-log-level=error -c -x 16 -s 16 -k 1M https://civitai.com/api/download/models/175917  -o edgYSL_Temptation.safetensors\n",
    "#aria2c --console-log-level=error -c -x 16 -s 16 -k 1M https://civitai.com/api/download/models/155480  -o edgVenusBikini.safetensors\n",
    "#aria2c --console-log-level=error -c -x 16 -s 16 -k 1M https://civitai.com/api/download/models/180275  -o edgLeatherLingerie_R.safetensors\n",
    "#aria2c --console-log-level=error -c -x 16 -s 16 -k 1M https://civitai.com/api/download/models/183745  -o edgFantasy_Dress.safetensors\n",
    "\n",
    "#aria2c --console-log-level=error -c -x 16 -s 16 -k 1M https://civitai.com/api/download/models/57602   -o aegir_v1.safetensors\n",
    "#aria2c --console-log-level=error -c -x 16 -s 16 -k 1M https://civitai.com/api/download/models/178881  -o AzurLaneAegirV2.safetensors\n",
    "#aria2c --console-log-level=error -c -x 16 -s 16 -k 1M https://civitai.com/api/download/models/123920  -o virginkillersweater.safetensors\n",
    "!aria2c --console-log-level=error -c -x 16 -s 16 -k 1M https://civitai.com/api/download/models/141123  -o BondageOutfitV2.safetensors\n",
    "#aria2c --console-log-level=error -c -x 16 -s 16 -k 1M https://civitai.com/api/download/models/117786  -o WomanBusinessSuit.safetensors\n",
    "!aria2c --console-log-level=error -c -x 16 -s 16 -k 1M https://civitai.com/api/download/models/193527  -o YuiKagurazaka.safetensors\n"
   ]
  },
  {
   "cell_type": "code",
   "execution_count": null,
   "id": "3d971de9-ad76-414e-bce5-6fac5b083479",
   "metadata": {
    "tags": []
   },
   "outputs": [],
   "source": [
    "# tmp\n",
    "!mkdir -p /tmp/Lora\n",
    "%cd ~/asd/models/Lora/tmp_Lora\n",
    "\n",
    "###################################################     STYLE      ##################################################################################################\n",
    "!aria2c --console-log-level=error -c -x 16 -s 16 -k 1M https://civitai.com/api/download/models/114353  -o wisespeakArt_style.safetensors\n",
    "!aria2c --console-log-level=error -c -x 16 -s 16 -k 1M https://civitai.com/api/download/models/130485  -o MasamiChie_style.safetensors\n",
    "!aria2c --console-log-level=error -c -x 16 -s 16 -k 1M https://civitai.com/api/download/models/16557   -o shojovibe_style.safetensors\n",
    "!aria2c --console-log-level=error -c -x 16 -s 16 -k 1M https://civitai.com/api/download/models/74177   -o Last-Origin_style.safetensors\n",
    "!aria2c --console-log-level=error -c -x 16 -s 16 -k 1M https://civitai.com/api/download/models/88398   -o Yoongonji_style.safetensors\n",
    "!aria2c --console-log-level=error -c -x 16 -s 16 -k 1M https://civitai.com/api/download/models/24211   -o Meme50_style.safetensors\n",
    "!aria2c --console-log-level=error -c -x 16 -s 16 -k 1M https://civitai.com/api/download/models/24439   -o Ban_style.safetensors\n",
    "!aria2c --console-log-level=error -c -x 16 -s 16 -k 1M https://civitai.com/api/download/models/102722  -o Fin_style.safetensors\n",
    "!aria2c --console-log-level=error -c -x 16 -s 16 -k 1M https://civitai.com/api/download/models/32446   -o Kcccc_style.safetensors\n",
    "!aria2c --console-log-level=error -c -x 16 -s 16 -k 1M https://civitai.com/api/download/models/32028   -o Maidoll_style.safetensors\n",
    "!aria2c --console-log-level=error -c -x 16 -s 16 -k 1M https://civitai.com/api/download/models/59213   -o Niji-Dream_style.safetensors\n",
    "!aria2c --console-log-level=error -c -x 16 -s 16 -k 1M https://civitai.com/api/download/models/116662  -o eu03_style.safetensors\n",
    "!aria2c --console-log-level=error -c -x 16 -s 16 -k 1M https://civitai.com/api/download/models/38716   -o Sky_Freedom_style.safetensors\n",
    "!aria2c --console-log-level=error -c -x 16 -s 16 -k 1M https://civitai.com/api/download/models/146373  -o Raita_style.safetensors\n",
    "!aria2c --console-log-level=error -c -x 16 -s 16 -k 1M https://civitai.com/api/download/models/74960   -o piromizu_style.safetensors\n",
    "!aria2c --console-log-level=error -c -x 16 -s 16 -k 1M https://civitai.com/api/download/models/74927   -o Parsley_style.safetensors\n",
    "!aria2c --console-log-level=error -c -x 16 -s 16 -k 1M https://civitai.com/api/download/models/22089   -o michiking_style.safetensors\n",
    "!aria2c --console-log-level=error -c -x 16 -s 16 -k 1M https://civitai.com/api/download/models/14788   -o Takeda-Hiromitsu_style.safetensors\n",
    "!aria2c --console-log-level=error -c -x 16 -s 16 -k 1M https://civitai.com/api/download/models/64667   -o ERO404_style.safetensors\n",
    "!aria2c --console-log-level=error -c -x 16 -s 16 -k 1M https://civitai.com/api/download/models/151893  -o Nicorima_style.safetensors\n",
    "!aria2c --console-log-level=error -c -x 16 -s 16 -k 1M https://civitai.com/api/download/models/86934   -o Sakimichan_style.safetensors\n"
   ]
  },
  {
   "cell_type": "markdown",
   "id": "b4b19ba2-ae2b-481b-9b39-be6eac7a0f77",
   "metadata": {
    "tags": []
   },
   "source": [
    "## WEB UI"
   ]
  },
  {
   "cell_type": "code",
   "execution_count": null,
   "id": "4cffd230-2fd0-49b2-a91d-eb5b826be801",
   "metadata": {
    "tags": []
   },
   "outputs": [],
   "source": [
    "%cd ~/asd\n",
    "\n",
    "!python launch.py --listen --xformers --enable-insecure-extension-access --disable-console-progressbars --theme dark --gradio-queue --ngrok 2VW74jIXseZWTWZDIVxGS3LOm7P_6XwujpaSER9LVcJXHH6Lj"
   ]
  },
  {
   "cell_type": "markdown",
   "id": "89f767e5-2ab8-41b0-81ed-8fda5af53342",
   "metadata": {
    "jp-MarkdownHeadingCollapsed": true,
    "tags": []
   },
   "source": [
    "## Output images\n",
    "compress them into ```zip``` <br> path ```/home/studio-lab-user```"
   ]
  },
  {
   "cell_type": "code",
   "execution_count": null,
   "id": "9db284a0-5fd4-4265-99fd-26006a870eb8",
   "metadata": {
    "tags": []
   },
   "outputs": [],
   "source": [
    "#download and compress all outputs. If more than 200mb, it will zip in multiple files.\n",
    "import os\n",
    "import zipfile\n",
    "def zip_folder(input_folder, output_folder, max_size_mb=20):\n",
    "    # Create the output folder if it doesn't exist\n",
    "    os.makedirs(output_folder, exist_ok=True)\n",
    "    zip_number = 1\n",
    "    current_zip_size = 0\n",
    "    current_zip_name = os.path.join(output_folder, f\"part_{zip_number}.zip\")    \n",
    "    with zipfile.ZipFile(current_zip_name, 'w', zipfile.ZIP_DEFLATED) as current_zip:\n",
    "        for root, _, files in os.walk(input_folder):\n",
    "            for file in files:\n",
    "                file_path = os.path.join(root, file)\n",
    "                file_size = os.path.getsize(file_path)           \n",
    "                # Check if adding the current file exceeds the max size\n",
    "                if current_zip_size + file_size > max_size_mb * 1024 * 1024:\n",
    "                    # Close the current zip file\n",
    "                    current_zip.close()             \n",
    "                    # Start a new zip file\n",
    "                    zip_number += 1\n",
    "                    current_zip_name = os.path.join(output_folder, f\"part_{zip_number}.zip\")\n",
    "                    current_zip = zipfile.ZipFile(current_zip_name, 'w', zipfile.ZIP_DEFLATED)\n",
    "                    current_zip_size = 0  \n",
    "                # Add the file to the current zip\n",
    "                current_zip.write(file_path, os.path.relpath(file_path, input_folder))\n",
    "                current_zip_size += file_size\n",
    "# Specify the input folder to be zipped\n",
    "input_folder = '/tmp/outputs'  # Replace with the path to your input folder\n",
    "# Specify the output folder where zip files will be saved\n",
    "output_folder = '/home/studio-lab-user'  # Replace with the path to your output folder\n",
    "# Specify the maximum size for each zip file in MB\n",
    "max_size_mb = 200\n",
    "# Create zip files with a maximum size of 20MB\n",
    "zip_folder(input_folder, output_folder, max_size_mb)"
   ]
  },
  {
   "cell_type": "markdown",
   "id": "6b74f461-3a60-44fe-8d96-b6fe2f0105a5",
   "metadata": {
    "id": "bf5499c3-18fb-4325-8c37-5298751e4f97",
    "tags": []
   },
   "source": [
    "## For checking and cleaning Storage"
   ]
  },
  {
   "cell_type": "code",
   "execution_count": null,
   "id": "ad29fba3-221f-4748-a0c1-9fef2c745c3f",
   "metadata": {
    "tags": []
   },
   "outputs": [],
   "source": [
    "# LIST ALL FOLDER AND FILES\n",
    "!df -h | grep -E 'Avail|home'\n",
    "print ()\n",
    "!du -h --max-depth=1 /home/studio-lab-user"
   ]
  },
  {
   "cell_type": "code",
   "execution_count": null,
   "id": "9e058676-e9cc-4a39-aeae-c86852d44f5e",
   "metadata": {
    "tags": []
   },
   "outputs": [],
   "source": [
    "#DELETE EVERYTHING\n",
    "!rm -r /home/studio-lab-user/.cache\n",
    "!rm -r /home/studio-lab-user/.conda\n",
    "!conda remove -n \"env_name\" --all\n",
    "!rm -rf /home/studio-lab-user/*"
   ]
  },
  {
   "cell_type": "code",
   "execution_count": null,
   "id": "cd76f77d-bbda-42a0-a668-359ca55e92e4",
   "metadata": {
    "tags": []
   },
   "outputs": [],
   "source": [
    "!rm -rf /home/studio-lab-user/asd\n",
    "!rm -rf /home/studio-lab-user/tmp\n",
    "!rm -r /home/studio-lab-user/.cache"
   ]
  },
  {
   "cell_type": "code",
   "execution_count": null,
   "id": "7a7cdbef-aeef-432c-a512-42143eac6f88",
   "metadata": {
    "tags": []
   },
   "outputs": [],
   "source": [
    "!rm -r /home/studio-lab-user/.cache\n",
    "!rm -r /home/studio-lab-user/asd/outputs/txt2img-images"
   ]
  },
  {
   "cell_type": "code",
   "execution_count": null,
   "id": "36a20376-cfad-482f-a524-f9c54fc72fc3",
   "metadata": {
    "tags": []
   },
   "outputs": [],
   "source": []
  }
 ],
 "metadata": {
  "kernelspec": {
   "display_name": "default:Python",
   "language": "python",
   "name": "conda-env-default-py"
  },
  "language_info": {
   "codemirror_mode": {
    "name": "ipython",
    "version": 3
   },
   "file_extension": ".py",
   "mimetype": "text/x-python",
   "name": "python",
   "nbconvert_exporter": "python",
   "pygments_lexer": "ipython3",
   "version": "3.9.16"
  }
 },
 "nbformat": 4,
 "nbformat_minor": 5
}
