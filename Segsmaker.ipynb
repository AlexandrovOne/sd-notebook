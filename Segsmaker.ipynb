{
 "cells": [
  {
   "cell_type": "markdown",
   "id": "1aa13061-4879-421f-a472-8c4419b4e8b9",
   "metadata": {},
   "source": [
    "[![Open in Studio Lab](https://studiolab.sagemaker.aws/studiolab.svg)](https://studiolab.sagemaker.aws/import/github/pantat88/segsmaker/blob/main/Segsmaker.ipynb)"
   ]
  },
  {
   "cell_type": "markdown",
   "id": "26786ea3-e294-44b6-900a-798b0880de76",
   "metadata": {
    "tags": []
   },
   "source": [
    "## Conda"
   ]
  },
  {
   "cell_type": "code",
   "execution_count": null,
   "id": "3574c7ad-21c7-4b83-ba0d-ae6dc50bad74",
   "metadata": {
    "tags": []
   },
   "outputs": [],
   "source": [
    "!curl -sLo ~/.conda/conda_install.py https://github.com/gutris1/segsmaker/raw/main/script/conda1.py\n",
    "%run ~/.conda/conda_install.py\n"
   ]
  },
  {
   "cell_type": "markdown",
   "id": "011fac09-3453-4fea-bad6-da971f037c3b",
   "metadata": {
    "tags": [],
    "toc-hr-collapsed": true
   },
   "source": [
    "## Clone SD"
   ]
  },
  {
   "cell_type": "code",
   "execution_count": null,
   "id": "598827fd-7cf0-4d73-b982-c417916b7e96",
   "metadata": {
    "tags": []
   },
   "outputs": [],
   "source": [
    "%say 【 {red} Installing Stable Diffusion {d} 】 {red}\n",
    "%cd -q ~\n",
    "!git clone -q -b v1.6.1 https://github.com/gutris1/asd\n",
    "\n",
    "%cd -q ~/asd\n",
    "!pip install -q -r requirements.txt\n",
    "%pull https://github.com/gutris1/segsmaker 1-5 ~/asd\n",
    "!python ~/asd/asd/1-5.py > /dev/null\n",
    "%download ~/asd/asd/1-5.txt\n",
    "!unzip -qo ~/asd/embeddings.zip -d ~/asd/embeddings && rm ~/asd/embeddings.zip\n",
    "\n",
    "''' Extensions '''\n",
    "%cd -q ~/asd/extensions\n",
    "%clone ~/asd/asd/extension.txt\n",
    "# add extension here !git clone URL\n",
    "''' VAE '''\n",
    "%cd -q ~/asd/models/VAE\n",
    "#download https://huggingface.co/NoCrypt/resources/resolve/main/VAE/any.vae.safetensors\n",
    "#download https://huggingface.co/NoCrypt/resources/resolve/main/VAE/blessed2.vae.safetensors\n",
    "#download https://huggingface.co/NoCrypt/resources/resolve/main/VAE/wd-blessed09.vae.safetensors\n",
    "#download https://huggingface.co/NoCrypt/resources/resolve/main/VAE/wd.vae.safetensors\n",
    "!rm -rf ~/.cache/*\n",
    "%say 【 {red} Done {d} 】 {red}"
   ]
  },
  {
   "cell_type": "markdown",
   "id": "f40692a0-343f-4317-aa8b-d2d14aca74cf",
   "metadata": {},
   "source": [
    "## *ControlNET models* <span style=\"color:#ff7171; font-size: 14px;\">temporary</span>"
   ]
  },
  {
   "cell_type": "code",
   "execution_count": null,
   "id": "f8a8e5bc-ebd3-41e5-a1ca-00037a623cd5",
   "metadata": {
    "tags": []
   },
   "outputs": [],
   "source": [
    "%tempe\n",
    "%cd -q ~/asd/models/ControlNet\n",
    "%download ~/asd/asd/controlnet.txt"
   ]
  },
  {
   "cell_type": "markdown",
   "id": "e1686fb4-1cf7-4abf-bdef-f742beb84e0c",
   "metadata": {
    "tags": []
   },
   "source": [
    "## *Checkpoint*"
   ]
  },
  {
   "cell_type": "code",
   "execution_count": null,
   "id": "07448e32-6837-44db-bef3-4dd8217e538e",
   "metadata": {
    "tags": []
   },
   "outputs": [],
   "source": [
    "''' Persistent '''\n",
    "%cd -q ~/asd/models/Stable-diffusion\n",
    "%download https://civitai.com/api/download/models/147913 meichidarkMixFp16_45.safetensors\n",
    "\n",
    "''' Temporary '''\n",
    "%tempe\n",
    "%cd -q ~/asd/models/Stable-diffusion/tmp_models\n",
    "%download https://civitai.com/api/download/models/77744  Meichidark_Mix_V2.safetensors"
   ]
  },
  {
   "cell_type": "markdown",
   "id": "8bc20e56-9ba4-48ac-bdfc-17179a747ee8",
   "metadata": {
    "tags": []
   },
   "source": [
    "## *Lora*"
   ]
  },
  {
   "cell_type": "code",
   "execution_count": null,
   "id": "936784d0-67c8-442c-aa3a-ee3456f8f4bb",
   "metadata": {
    "tags": []
   },
   "outputs": [],
   "source": [
    "''' Persistent '''\n",
    "%cd -q ~/asd/models/Lora\n",
    "%download https://civitai.com/api/download/models/87153   add_detail.safetensors\n",
    "%download https://civitai.com/api/download/models/171989  detail_slider_v4.safetensors\n",
    "%download https://civitai.com/api/download/models/62833   Detail_Tweaker.safetensors\n",
    "%download https://civitai.com/api/download/models/86247   flat2.safetensors\n",
    "\n",
    "''' Temporary '''\n",
    "%tempe\n",
    "%cd -q ~/asd/models/Lora/tmp_Lora\n",
    "%download https://civitai.com/api/download/models/146600  breastsizeslideroffset.safetensors"
   ]
  },
  {
   "cell_type": "markdown",
   "id": "b4b19ba2-ae2b-481b-9b39-be6eac7a0f77",
   "metadata": {
    "tags": []
   },
   "source": [
    "## WEB UI"
   ]
  },
  {
   "cell_type": "code",
   "execution_count": null,
   "id": "4cffd230-2fd0-49b2-a91d-eb5b826be801",
   "metadata": {
    "tags": []
   },
   "outputs": [],
   "source": [
    "token = \"PASTE_YOUR_NGROK_TOKEN_HERE\"\n",
    "\n",
    "%tempe\n",
    "%cd -q ~/asd\n",
    "!python launch.py --xformers --enable-insecure-extension-access --disable-console-progressbars --theme dark --ngrok {token}"
   ]
  },
  {
   "cell_type": "markdown",
   "id": "bfc58f9f-9be7-431e-9859-f75684eda0cf",
   "metadata": {
    "jp-MarkdownHeadingCollapsed": true,
    "tags": []
   },
   "source": [
    "## Extras"
   ]
  },
  {
   "cell_type": "markdown",
   "id": "89f767e5-2ab8-41b0-81ed-8fda5af53342",
   "metadata": {
    "tags": []
   },
   "source": [
    "#### ```zip``` Output images"
   ]
  },
  {
   "cell_type": "code",
   "execution_count": null,
   "id": "e264e27c-0b24-463a-8ac7-88571517d370",
   "metadata": {
    "tags": []
   },
   "outputs": [],
   "source": [
    "%%zipping\n",
    "\n",
    "input_folder  = '/home/studio-lab-user/asd/outputs'\n",
    "output_folder = '/home/studio-lab-user'"
   ]
  },
  {
   "cell_type": "markdown",
   "id": "6b74f461-3a60-44fe-8d96-b6fe2f0105a5",
   "metadata": {
    "id": "bf5499c3-18fb-4325-8c37-5298751e4f97",
    "slideshow": {
     "slide_type": "skip"
    },
    "tags": []
   },
   "source": [
    "#### Storage"
   ]
  },
  {
   "cell_type": "code",
   "execution_count": null,
   "id": "fe9b41c3-932e-442c-9d5e-d43b83a8096d",
   "metadata": {
    "tags": []
   },
   "outputs": [],
   "source": [
    "''' Check Storage '''\n",
    "!rm -rf ~/.cache/*\n",
    "%storage /home/studio-lab-user"
   ]
  },
  {
   "cell_type": "code",
   "execution_count": null,
   "id": "9951220b-4c44-4e52-80db-9fe37ab3a6f2",
   "metadata": {
    "tags": []
   },
   "outputs": [],
   "source": [
    "''' Delete output images '''\n",
    "!rm -rf ~/asd/outputs/* ~/.cache/*"
   ]
  },
  {
   "cell_type": "code",
   "execution_count": null,
   "id": "ad29fba3-221f-4748-a0c1-9fef2c745c3f",
   "metadata": {
    "tags": []
   },
   "outputs": [],
   "source": [
    "''' Delete Stable Diffusion '''\n",
    "%cd -q ~\n",
    "!rm -rf ~/tmp/* ~/asd ~/tmp ~/.cache/*"
   ]
  },
  {
   "cell_type": "code",
   "execution_count": null,
   "id": "9e058676-e9cc-4a39-aeae-c86852d44f5e",
   "metadata": {
    "tags": []
   },
   "outputs": [],
   "source": [
    "''' DELETE EVERYTHING , restart jupyterlab afterward '''\n",
    "%delete /home/studio-lab-user"
   ]
  }
 ],
 "metadata": {
  "kernelspec": {
   "display_name": "default:Python",
   "language": "python",
   "name": "conda-env-default-py"
  },
  "language_info": {
   "codemirror_mode": {
    "name": "ipython",
    "version": 3
   },
   "file_extension": ".py",
   "mimetype": "text/x-python",
   "name": "python",
   "nbconvert_exporter": "python",
   "pygments_lexer": "ipython3",
   "version": "3.9.16"
  }
 },
 "nbformat": 4,
 "nbformat_minor": 5
}
