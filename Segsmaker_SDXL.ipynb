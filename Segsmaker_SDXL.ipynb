{
 "cells": [
  {
   "cell_type": "markdown",
   "id": "26786ea3-e294-44b6-900a-798b0880de76",
   "metadata": {
    "tags": []
   },
   "source": [
    "### Conda"
   ]
  },
  {
   "cell_type": "code",
   "execution_count": null,
   "id": "9dccb75e-fb59-4573-9955-4c334bba607b",
   "metadata": {
    "tags": []
   },
   "outputs": [],
   "source": [
    "import subprocess\n",
    "def run_command(command, message):\n",
    "    print(f\"--- {message} ---\")\n",
    "    subprocess.run(command, shell=True, stdout=subprocess.DEVNULL, stderr=subprocess.DEVNULL)\n",
    "    print(f\"done\")\n",
    "run_command('conda install -q -y conda=23.10.0 glib aria2', 'Installing Conda packages (glib, aria2)')\n",
    "run_command('conda install -q -y -n base python=3.10.6', 'Installing Python 3.10.6')\n",
    "run_command('conda clean -y --all', 'Cleaning Conda environment')\n",
    "run_command('pip install -q --no-cache-dir torch==2.0.1+cu118 torchvision==0.15.2+cu118 --extra-index-url https://download.pytorch.org/whl/cu118', 'Installing Torch')\n",
    "run_command('pip install -q --no-cache-dir xformers==0.0.20 triton==2.0.0', 'Installing Xformers')\n",
    "!python --version\n",
    "from IPython.core.display import HTML\n",
    "HTML(\"<script>Jupyter.notebook.kernel.restart()</script>\")"
   ]
  },
  {
   "cell_type": "markdown",
   "id": "011fac09-3453-4fea-bad6-da971f037c3b",
   "metadata": {
    "tags": []
   },
   "source": [
    "### Clone SD"
   ]
  },
  {
   "cell_type": "code",
   "execution_count": null,
   "id": "598827fd-7cf0-4d73-b982-c417916b7e96",
   "metadata": {
    "tags": []
   },
   "outputs": [],
   "source": [
    "%cd /home/studio-lab-user/\n",
    "!git clone -b 1.6.1 https://github.com/pantat88/asd # version 1.6.1\n",
    "\n",
    "%cd ~/asd\n",
    "!aria2c --console-log-level=error -c -x 16 -s 16 -k 1M https://huggingface.co/pantat88/ui/resolve/main/ui.zip -o ui.zip\n",
    "!unzip -o ui.zip\n",
    "!rm ui.zip\n",
    "!rm -rd ~/asd/models/Stable-diffusion\n",
    "\n",
    "# create a symlink to temporary folder\n",
    "!ln -vs /tmp ~/tmp\n",
    "!ln -vs /tmp/models /home/studio-lab-user/asd/models/Stable-diffusion\n",
    "!mkdir ~/asd/models/Lora\n",
    "!ln -vs /tmp/Lora /home/studio-lab-user/asd/models/Lora/tmp_Lora\n",
    "!rm -r /home/studio-lab-user/.cache"
   ]
  },
  {
   "cell_type": "markdown",
   "id": "b3e8e870-6944-4f64-a44e-daa28c515652",
   "metadata": {
    "tags": []
   },
   "source": [
    "### *Extensions*"
   ]
  },
  {
   "cell_type": "code",
   "execution_count": null,
   "id": "2e485682-1a26-4b1c-9a01-b6449e072ce1",
   "metadata": {
    "tags": []
   },
   "outputs": [],
   "source": [
    "# extensions\n",
    "%cd ~/asd/extensions\n",
    "\n",
    "!git clone --depth 1 https://github.com/mcmonkeyprojects/sd-dynamic-thresholding                ~/asd/extensions/1sd-dynamic-thresholding\n",
    "!git clone https://github.com/Gourieff/sd-webui-reactor                                         ~/asd/extensions/2sd-webui-reactor\n",
    "!git clone --depth 1 https://github.com/portu-sim/sd-webui-bmab                                 ~/asd/extensions/3sd-webui-bmab\n",
    "!git clone --depth 1 https://github.com/Bing-su/adetailer                                       ~/asd/extensions/4adetailer\n",
    "!git clone --depth 1 https://github.com/etherealxx/batchlinks-webui\n",
    "!git clone --depth 1 https://github.com/zanllp/sd-webui-infinite-image-browsing\n",
    "!git clone --depth 1 https://github.com/DominikDoom/a1111-sd-webui-tagcomplete\n",
    "!git clone --depth 1 https://github.com/camenduru/sd-civitai-browser\n",
    "#git clone --depth 1 https://github.com/camenduru/stable-diffusion-webui-huggingface\n",
    "#git clone --depth 1 https://github.com/civitai/sd_civitai_extension\n",
    "#git clone --depth 1 https://github.com/thomasasfk/sd-webui-aspect-ratio-helper\n",
    "!git clone --depth 1 https://github.com/Coyote-A/ultimate-upscale-for-automatic1111\n",
    "!git clone --depth 1 https://github.com/ahgsql/StyleSelectorXL\n"
   ]
  },
  {
   "cell_type": "markdown",
   "id": "c8d5d6aa-8dc8-46af-8aa5-785b25d68ae7",
   "metadata": {
    "jp-MarkdownHeadingCollapsed": true,
    "tags": []
   },
   "source": [
    "#### *ControlNET*"
   ]
  },
  {
   "cell_type": "code",
   "execution_count": null,
   "id": "b8c446e8-19b1-4d9b-b58c-fa73a5659b5b",
   "metadata": {
    "tags": []
   },
   "outputs": [],
   "source": [
    "# persistent\n",
    "%cd ~/asd/extensions\n",
    "!git clone -b v1.1.416 https://github.com/pantat88/sd-webui-controlnet\n",
    "!rm -rd ~/asd/extensions/sd-webui-controlnet/models\n",
    "\n",
    "!git clone --depth 1 https://github.com/fkunn1326/openpose-editor\n",
    "!git clone --depth 1 https://github.com/IDEA-Research/DWPose\n",
    "#git clone --depth 1 https://github.com/nonnonstop/sd-webui-3d-open-pose-editor\n",
    "#git clone --depth 1 https://github.com/hnmr293/posex\n",
    "\n",
    "!ln -vs /tmp/controlnet_models /home/studio-lab-user/asd/extensions/sd-webui-controlnet/models"
   ]
  },
  {
   "cell_type": "code",
   "execution_count": null,
   "id": "c7a1bfea-7691-4a1c-b290-1ef58c87cee1",
   "metadata": {},
   "outputs": [],
   "source": [
    "# tmp\n",
    "!mkdir -p /tmp/controlnet_models\n",
    "%cd ~/asd/extensions/sd-webui-controlnet/models\n",
    "\n",
    "!aria2c --console-log-level=error -c -x 16 -s 16 -k 1M https://huggingface.co/ckpt/ControlNet-v1-1/resolve/main/control_v11e_sd15_ip2p_fp16.safetensors             -o control_v11e_sd15_ip2p_fp16.safetensors\n",
    "!aria2c --console-log-level=error -c -x 16 -s 16 -k 1M https://huggingface.co/ckpt/ControlNet-v1-1/resolve/main/control_v11e_sd15_shuffle_fp16.safetensors          -o control_v11e_sd15_shuffle_fp16.safetensors\n",
    "!aria2c --console-log-level=error -c -x 16 -s 16 -k 1M https://huggingface.co/ckpt/ControlNet-v1-1/resolve/main/control_v11p_sd15_canny_fp16.safetensors            -o control_v11p_sd15_canny_fp16.safetensors\n",
    "!aria2c --console-log-level=error -c -x 16 -s 16 -k 1M https://huggingface.co/ckpt/ControlNet-v1-1/resolve/main/control_v11f1p_sd15_depth_fp16.safetensors          -o control_v11f1p_sd15_depth_fp16.safetensors\n",
    "!aria2c --console-log-level=error -c -x 16 -s 16 -k 1M https://huggingface.co/ckpt/ControlNet-v1-1/resolve/main/control_v11p_sd15_inpaint_fp16.safetensors          -o control_v11p_sd15_inpaint_fp16.safetensors\n",
    "!aria2c --console-log-level=error -c -x 16 -s 16 -k 1M https://huggingface.co/ckpt/ControlNet-v1-1/resolve/main/control_v11p_sd15_lineart_fp16.safetensors          -o control_v11p_sd15_lineart_fp16.safetensors\n",
    "!aria2c --console-log-level=error -c -x 16 -s 16 -k 1M https://huggingface.co/ckpt/ControlNet-v1-1/resolve/main/control_v11p_sd15_mlsd_fp16.safetensors             -o control_v11p_sd15_mlsd_fp16.safetensors\n",
    "!aria2c --console-log-level=error -c -x 16 -s 16 -k 1M https://huggingface.co/ckpt/ControlNet-v1-1/resolve/main/control_v11p_sd15_normalbae_fp16.safetensors        -o control_v11p_sd15_normalbae_fp16.safetensors\n",
    "!aria2c --console-log-level=error -c -x 16 -s 16 -k 1M https://huggingface.co/ckpt/ControlNet-v1-1/resolve/main/control_v11p_sd15_openpose_fp16.safetensors         -o control_v11p_sd15_openpose_fp16.safetensors\n",
    "!aria2c --console-log-level=error -c -x 16 -s 16 -k 1M https://huggingface.co/ckpt/ControlNet-v1-1/resolve/main/control_v11p_sd15_scribble_fp16.safetensors         -o control_v11p_sd15_scribble_fp16.safetensors\n",
    "!aria2c --console-log-level=error -c -x 16 -s 16 -k 1M https://huggingface.co/ckpt/ControlNet-v1-1/resolve/main/control_v11p_sd15_seg_fp16.safetensors              -o control_v11p_sd15_seg_fp16.safetensors\n",
    "!aria2c --console-log-level=error -c -x 16 -s 16 -k 1M https://huggingface.co/ckpt/ControlNet-v1-1/resolve/main/control_v11p_sd15_softedge_fp16.safetensors         -o control_v11p_sd15_softedge_fp16.safetensors\n",
    "!aria2c --console-log-level=error -c -x 16 -s 16 -k 1M https://huggingface.co/ckpt/ControlNet-v1-1/resolve/main/control_v11p_sd15s2_lineart_anime_fp16.safetensors  -o control_v11p_sd15s2_lineart_anime_fp16.safetensors\n",
    "!aria2c --console-log-level=error -c -x 16 -s 16 -k 1M https://huggingface.co/ckpt/ControlNet-v1-1/resolve/main/control_v11f1e_sd15_tile_fp16.safetensors           -o control_v11f1e_sd15_tile_fp16.safetensors\n",
    "!aria2c --console-log-level=error -c -x 16 -s 16 -k 1M https://huggingface.co/ckpt/ControlNet-v1-1/raw/main/control_v11e_sd15_ip2p_fp16.yaml                        -o control_v11e_sd15_ip2p_fp16.yaml\n",
    "!aria2c --console-log-level=error -c -x 16 -s 16 -k 1M https://huggingface.co/ckpt/ControlNet-v1-1/raw/main/control_v11e_sd15_shuffle_fp16.yaml                     -o control_v11e_sd15_shuffle_fp16.yaml\n",
    "!aria2c --console-log-level=error -c -x 16 -s 16 -k 1M https://huggingface.co/ckpt/ControlNet-v1-1/raw/main/control_v11p_sd15_canny_fp16.yaml                       -o control_v11p_sd15_canny_fp16.yaml\n",
    "!aria2c --console-log-level=error -c -x 16 -s 16 -k 1M https://huggingface.co/ckpt/ControlNet-v1-1/raw/main/control_v11f1p_sd15_depth_fp16.yaml                     -o control_v11f1p_sd15_depth_fp16.yaml\n",
    "!aria2c --console-log-level=error -c -x 16 -s 16 -k 1M https://huggingface.co/ckpt/ControlNet-v1-1/raw/main/control_v11p_sd15_inpaint_fp16.yaml                     -o control_v11p_sd15_inpaint_fp16.yaml\n",
    "!aria2c --console-log-level=error -c -x 16 -s 16 -k 1M https://huggingface.co/ckpt/ControlNet-v1-1/raw/main/control_v11p_sd15_lineart_fp16.yaml                     -o control_v11p_sd15_lineart_fp16.yaml\n",
    "!aria2c --console-log-level=error -c -x 16 -s 16 -k 1M https://huggingface.co/ckpt/ControlNet-v1-1/raw/main/control_v11p_sd15_mlsd_fp16.yaml                        -o control_v11p_sd15_mlsd_fp16.yaml\n",
    "!aria2c --console-log-level=error -c -x 16 -s 16 -k 1M https://huggingface.co/ckpt/ControlNet-v1-1/raw/main/control_v11p_sd15_normalbae_fp16.yaml                   -o control_v11p_sd15_normalbae_fp16.yaml\n",
    "!aria2c --console-log-level=error -c -x 16 -s 16 -k 1M https://huggingface.co/ckpt/ControlNet-v1-1/raw/main/control_v11p_sd15_openpose_fp16.yaml                    -o control_v11p_sd15_openpose_fp16.yaml\n",
    "!aria2c --console-log-level=error -c -x 16 -s 16 -k 1M https://huggingface.co/ckpt/ControlNet-v1-1/raw/main/control_v11p_sd15_scribble_fp16.yaml                    -o control_v11p_sd15_scribble_fp16.yaml\n",
    "!aria2c --console-log-level=error -c -x 16 -s 16 -k 1M https://huggingface.co/ckpt/ControlNet-v1-1/raw/main/control_v11p_sd15_seg_fp16.yaml                         -o control_v11p_sd15_seg_fp16.yaml\n",
    "!aria2c --console-log-level=error -c -x 16 -s 16 -k 1M https://huggingface.co/ckpt/ControlNet-v1-1/raw/main/control_v11p_sd15_softedge_fp16.yaml                    -o control_v11p_sd15_softedge_fp16.yaml\n",
    "!aria2c --console-log-level=error -c -x 16 -s 16 -k 1M https://huggingface.co/ckpt/ControlNet-v1-1/raw/main/control_v11p_sd15s2_lineart_anime_fp16.yaml             -o control_v11p_sd15s2_lineart_anime_fp16.yaml\n",
    "!aria2c --console-log-level=error -c -x 16 -s 16 -k 1M https://huggingface.co/ckpt/ControlNet-v1-1/raw/main/control_v11f1e_sd15_tile_fp16.yaml                      -o control_v11f1e_sd15_tile_fp16.yaml"
   ]
  },
  {
   "cell_type": "markdown",
   "id": "cef8d349-ff55-4189-9cc6-24a246374e10",
   "metadata": {
    "tags": []
   },
   "source": [
    "### *Upscaler - VAE*"
   ]
  },
  {
   "cell_type": "code",
   "execution_count": null,
   "id": "c8f4274d-5540-4647-8ed7-bc4d8766baa0",
   "metadata": {
    "tags": []
   },
   "outputs": [],
   "source": [
    "# Upscaler\n",
    "!mkdir ~/asd/models/ESRGAN\n",
    "%cd ~/asd/models/ESRGAN\n",
    "\n",
    "!aria2c --console-log-level=error -c -x 16 -s 16 -k 1M https://huggingface.co/pantat88/ui/resolve/main/4x-UltraSharp.pth                        -o 4x-UltraSharp.pth\n",
    "\n",
    "# VAE\n",
    "%cd ~/asd/models/VAE\n",
    "!aria2c --console-log-level=error -c -x 16 -s 16 -k 1M  https://civitai.com/api/download/models/202582 -o XLVAEC_E7.safetensors"
   ]
  },
  {
   "cell_type": "markdown",
   "id": "e1686fb4-1cf7-4abf-bdef-f742beb84e0c",
   "metadata": {
    "tags": []
   },
   "source": [
    "### *Checkpoint*\n",
    "temporary"
   ]
  },
  {
   "cell_type": "code",
   "execution_count": null,
   "id": "07448e32-6837-44db-bef3-4dd8217e538e",
   "metadata": {
    "tags": []
   },
   "outputs": [],
   "source": [
    "# tmp\n",
    "!mkdir -p /tmp/models\n",
    "%cd ~/asd/models/Stable-diffusion\n",
    "\n",
    "!aria2c --console-log-level=error -c -x 16 -s 16 -k 1M https://huggingface.co/ckpt/sd_xl_refiner_1.0/resolve/main/sd_xl_refiner_1.0_0.9vae.safetensors    -o sd_xl_refiner_1.0.safetensors\n",
    "!aria2c --console-log-level=error -c -x 16 -s 16 -k 1M https://huggingface.co/Linaqruf/animagine-xl/resolve/main/animagine-xl.safetensors                 -o animagine-xl.safetensors\n"
   ]
  },
  {
   "cell_type": "markdown",
   "id": "8bc20e56-9ba4-48ac-bdfc-17179a747ee8",
   "metadata": {
    "tags": []
   },
   "source": [
    "### *Lora*"
   ]
  },
  {
   "cell_type": "code",
   "execution_count": null,
   "id": "936784d0-67c8-442c-aa3a-ee3456f8f4bb",
   "metadata": {
    "tags": []
   },
   "outputs": [],
   "source": [
    "# persistent\n",
    "%cd ~/asd/models/Lora\n",
    "\n",
    "!aria2c --console-log-level=error -c -x 16 -s 16 -k 1M https://civitai.com/api/download/models/224767  -o Asuna_V1.safetensors\n"
   ]
  },
  {
   "cell_type": "code",
   "execution_count": null,
   "id": "7f512b1b-f0a3-4587-a23a-0fc36e1eda83",
   "metadata": {
    "tags": []
   },
   "outputs": [],
   "source": [
    "# tmp\n",
    "!mkdir -p /tmp/Lora\n",
    "%cd ~/asd/models/Lora/tmp_Lora\n",
    "\n",
    "!aria2c --console-log-level=error -c -x 16 -s 16 -k 1M https://civitai.com/api/download/models/196479  -o yorha2b_SDXL.safetensors\n"
   ]
  },
  {
   "cell_type": "markdown",
   "id": "b4b19ba2-ae2b-481b-9b39-be6eac7a0f77",
   "metadata": {
    "tags": []
   },
   "source": [
    "## WEB UI"
   ]
  },
  {
   "cell_type": "code",
   "execution_count": null,
   "id": "4cffd230-2fd0-49b2-a91d-eb5b826be801",
   "metadata": {
    "tags": []
   },
   "outputs": [],
   "source": [
    "%cd ~/asd\n",
    "\n",
    "!python launch.py --ngrok PASTE_YOUR_TOKEN_HERE --listen --xformers --enable-insecure-extension-access --disable-console-progressbars --theme dark --gradio-queue"
   ]
  },
  {
   "cell_type": "markdown",
   "id": "89f767e5-2ab8-41b0-81ed-8fda5af53342",
   "metadata": {
    "jp-MarkdownHeadingCollapsed": true,
    "tags": []
   },
   "source": [
    "## Output images\n",
    "compress them into ```zip``` <br> path ```/home/studio-lab-user```"
   ]
  },
  {
   "cell_type": "code",
   "execution_count": null,
   "id": "9db284a0-5fd4-4265-99fd-26006a870eb8",
   "metadata": {
    "tags": []
   },
   "outputs": [],
   "source": [
    "#download and compress all outputs. If more than 200mb, it will zip in multiple files.\n",
    "import os\n",
    "import zipfile\n",
    "def zip_folder(input_folder, output_folder, max_size_mb=20):\n",
    "    # Create the output folder if it doesn't exist\n",
    "    os.makedirs(output_folder, exist_ok=True)\n",
    "    zip_number = 1\n",
    "    current_zip_size = 0\n",
    "    current_zip_name = os.path.join(output_folder, f\"part_{zip_number}.zip\")    \n",
    "    with zipfile.ZipFile(current_zip_name, 'w', zipfile.ZIP_DEFLATED) as current_zip:\n",
    "        for root, _, files in os.walk(input_folder):\n",
    "            for file in files:\n",
    "                file_path = os.path.join(root, file)\n",
    "                file_size = os.path.getsize(file_path)           \n",
    "                # Check if adding the current file exceeds the max size\n",
    "                if current_zip_size + file_size > max_size_mb * 1024 * 1024:\n",
    "                    # Close the current zip file\n",
    "                    current_zip.close()             \n",
    "                    # Start a new zip file\n",
    "                    zip_number += 1\n",
    "                    current_zip_name = os.path.join(output_folder, f\"part_{zip_number}.zip\")\n",
    "                    current_zip = zipfile.ZipFile(current_zip_name, 'w', zipfile.ZIP_DEFLATED)\n",
    "                    current_zip_size = 0  \n",
    "                # Add the file to the current zip\n",
    "                current_zip.write(file_path, os.path.relpath(file_path, input_folder))\n",
    "                current_zip_size += file_size\n",
    "# Specify the input folder to be zipped\n",
    "input_folder = '/tmp/outputs'  # Replace with the path to your input folder\n",
    "# Specify the output folder where zip files will be saved\n",
    "output_folder = '/home/studio-lab-user'  # Replace with the path to your output folder\n",
    "# Specify the maximum size for each zip file in MB\n",
    "max_size_mb = 200\n",
    "# Create zip files with a maximum size of 20MB\n",
    "zip_folder(input_folder, output_folder, max_size_mb)"
   ]
  },
  {
   "cell_type": "markdown",
   "id": "6b74f461-3a60-44fe-8d96-b6fe2f0105a5",
   "metadata": {
    "id": "bf5499c3-18fb-4325-8c37-5298751e4f97",
    "tags": []
   },
   "source": [
    "## For checking and cleaning Storage"
   ]
  },
  {
   "cell_type": "code",
   "execution_count": null,
   "id": "fe9b41c3-932e-442c-9d5e-d43b83a8096d",
   "metadata": {
    "tags": []
   },
   "outputs": [],
   "source": [
    "# Check Storage & List all folder and files\n",
    "\n",
    "!df -h | grep -E 'Avail|home'\n",
    "print ()\n",
    "!du -h --max-depth=1 /home/studio-lab-user"
   ]
  },
  {
   "cell_type": "code",
   "execution_count": null,
   "id": "9951220b-4c44-4e52-80db-9fe37ab3a6f2",
   "metadata": {
    "tags": []
   },
   "outputs": [],
   "source": [
    "# DELETE output Images\n",
    "\n",
    "!rm -r /home/studio-lab-user/asd/outputs"
   ]
  },
  {
   "cell_type": "code",
   "execution_count": null,
   "id": "ad29fba3-221f-4748-a0c1-9fef2c745c3f",
   "metadata": {
    "tags": []
   },
   "outputs": [],
   "source": [
    "# DELETE only Stable Diffusion , tmp folder and cache\n",
    "\n",
    "!rm -rf /home/studio-lab-user/asd\n",
    "!rm -rf /home/studio-lab-user/tmp\n",
    "!rm -r /home/studio-lab-user/.cache"
   ]
  },
  {
   "cell_type": "code",
   "execution_count": null,
   "id": "9e058676-e9cc-4a39-aeae-c86852d44f5e",
   "metadata": {
    "tags": []
   },
   "outputs": [],
   "source": [
    "# DELETE EVERYTHING , restart jupyterlab afterward\n",
    "\n",
    "!rm -r /home/studio-lab-user/.cache\n",
    "!rm -r /home/studio-lab-user/.conda\n",
    "!conda remove -n \"env_name\" --all\n",
    "!rm -rf /home/studio-lab-user/*"
   ]
  }
 ],
 "metadata": {
  "kernelspec": {
   "display_name": "default:Python",
   "language": "python",
   "name": "conda-env-default-py"
  },
  "language_info": {
   "codemirror_mode": {
    "name": "ipython",
    "version": 3
   },
   "file_extension": ".py",
   "mimetype": "text/x-python",
   "name": "python",
   "nbconvert_exporter": "python",
   "pygments_lexer": "ipython3",
   "version": "3.9.16"
  }
 },
 "nbformat": 4,
 "nbformat_minor": 5
}
