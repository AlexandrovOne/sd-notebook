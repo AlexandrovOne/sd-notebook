{
 "cells": [
  {
   "cell_type": "markdown",
   "id": "26786ea3-e294-44b6-900a-798b0880de76",
   "metadata": {
    "tags": []
   },
   "source": [
    "### Conda"
   ]
  },
  {
   "cell_type": "code",
   "execution_count": null,
   "id": "9dccb75e-fb59-4573-9955-4c334bba607b",
   "metadata": {
    "tags": []
   },
   "outputs": [],
   "source": [
    "from IPython.display import HTML, display\n",
    "import subprocess\n",
    "def ass(command, message, color):\n",
    "    display(HTML(f\"<span style='color:{color};'>--- {message} ---</span>\"))\n",
    "    result = subprocess.run(command, shell=True, stdout=subprocess.DEVNULL, stderr=subprocess.DEVNULL)\n",
    "    print(\"done\")\n",
    "ass('conda install -q -y conda=23.10.0 glib', 'Installing Conda', 'cyan')\n",
    "ass('conda install -q -y -n base python=3.10.12', 'Installing Python 3.10.12', 'cyan')\n",
    "ass('conda clean -y --all', 'Cleaning Conda environment', 'magenta')\n",
    "ass('pip install -q torch==2.0.1+cu118 torchvision==0.15.2+cu118 --extra-index-url https://download.pytorch.org/whl/cu118', 'Installing Torch', 'cyan')\n",
    "ass('pip install -q xformers==0.0.20 triton==2.0.0', 'Installing Xformers', 'cyan')\n",
    "ass('curl -Lo /home/studio-lab-user/.conda/pantat88.py https://github.com/pantat88/segsmaker/raw/main/ui/pantat88.py', 'Gathering Magic', 'red')\n",
    "!python --version\n",
    "import os\n",
    "os._exit(00)"
   ]
  },
  {
   "cell_type": "markdown",
   "id": "011fac09-3453-4fea-bad6-da971f037c3b",
   "metadata": {
    "tags": []
   },
   "source": [
    "### Clone SD"
   ]
  },
  {
   "cell_type": "code",
   "execution_count": null,
   "id": "598827fd-7cf0-4d73-b982-c417916b7e96",
   "metadata": {
    "tags": []
   },
   "outputs": [],
   "source": [
    "%run /home/studio-lab-user/.conda/pantat88.py\n",
    "%say Cloning Stable Diffusion. . . cyan\n",
    "%cd -q /home/studio-lab-user/\n",
    "!git clone -q -b 1.6.1 https://github.com/pantat88/asd # version 1.6.1\n",
    "\n",
    "%say Installing requirements. . . yellow\n",
    "%cd -q ~/asd\n",
    "!pip install -r requirements.txt > /dev/null\n",
    "\n",
    "%say Creating a symlink to temporary folder. . . magenta\n",
    "!rm -rf ~/tmp ~/asd/models/Stable-diffusion ~/asd/models/Lora\n",
    "!ln -vs /tmp ~/tmp\n",
    "!ln -vs /tmp/Lora ~/asd/models/Lora\n",
    "!ln -vs /tmp/models ~/asd/models/Stable-diffusion\n",
    "!rm -rf /home/studio-lab-user/.cache\n",
    "%say Done #66ff00"
   ]
  },
  {
   "cell_type": "markdown",
   "id": "b3e8e870-6944-4f64-a44e-daa28c515652",
   "metadata": {
    "tags": []
   },
   "source": [
    "### *Extensions*"
   ]
  },
  {
   "cell_type": "code",
   "execution_count": null,
   "id": "2e485682-1a26-4b1c-9a01-b6449e072ce1",
   "metadata": {
    "tags": []
   },
   "outputs": [],
   "source": [
    "%run /home/studio-lab-user/.conda/pantat88.py\n",
    "%say Cloning Extensions. . . cyan\n",
    "%cd -q ~/asd/extensions\n",
    "\n",
    "!git clone -q --depth 1 https://github.com/mcmonkeyprojects/sd-dynamic-thresholding                ~/asd/extensions/1sd-dynamic-thresholding\n",
    "!git clone -q https://github.com/Gourieff/sd-webui-reactor                                         ~/asd/extensions/2sd-webui-reactor\n",
    "!git clone -q --depth 1 https://github.com/portu-sim/sd-webui-bmab                                 ~/asd/extensions/3sd-webui-bmab\n",
    "!git clone -q --depth 1 https://github.com/Bing-su/adetailer                                       ~/asd/extensions/4adetailer\n",
    "!git clone -q --depth 1 https://github.com/zixaphir/Stable-Diffusion-Webui-Civitai-Helper\n",
    "!git clone -q --depth 1 https://github.com/zanllp/sd-webui-infinite-image-browsing\n",
    "!git clone -q --depth 1 https://github.com/DominikDoom/a1111-sd-webui-tagcomplete\n",
    "!git clone -q --depth 1 https://github.com/camenduru/stable-diffusion-webui-huggingface\n",
    "!git clone -q --depth 1 https://github.com/thomasasfk/sd-webui-aspect-ratio-helper\n",
    "!git clone -q --depth 1 https://github.com/Coyote-A/ultimate-upscale-for-automatic1111\n",
    "!git clone -q --depth 1 https://github.com/ahgsql/StyleSelectorXL\n",
    "\n",
    "!git clone -q https://github.com/Mikubill/sd-webui-controlnet\n",
    "!rm -rf ~/asd/extensions/sd-webui-controlnet/models\n",
    "!git clone -q --depth 1 https://github.com/fkunn1326/openpose-editor\n",
    "!git clone -q --depth 1 https://github.com/IDEA-Research/DWPose\n",
    "#git clone -q --depth 1 https://github.com/hnmr293/posex\n",
    "\n",
    "!ln -vs /tmp/controlnet_models ~/asd/extensions/sd-webui-controlnet/models\n",
    "%say Done #66ff00"
   ]
  },
  {
   "cell_type": "markdown",
   "id": "c8d5d6aa-8dc8-46af-8aa5-785b25d68ae7",
   "metadata": {
    "tags": []
   },
   "source": [
    "#### *ControlNET models*\n",
    "temporary"
   ]
  },
  {
   "cell_type": "code",
   "execution_count": null,
   "id": "c7a1bfea-7691-4a1c-b290-1ef58c87cee1",
   "metadata": {},
   "outputs": [],
   "source": [
    "%run /home/studio-lab-user/.conda/pantat88.py\n",
    "!rm -rf ~/tmp/tmp && mkdir -p /tmp/controlnet_models\n",
    "%cd -q ~/asd/extensions/sd-webui-controlnet/models\n",
    "\n",
    "%download https://huggingface.co/lllyasviel/sd_control_collection/resolve/main/diffusers_xl_canny_mid.safetensors\n",
    "%download https://huggingface.co/lllyasviel/sd_control_collection/resolve/main/diffusers_xl_depth_mid.safetensors\n",
    "\n",
    "%download https://huggingface.co/lllyasviel/sd_control_collection/resolve/main/kohya_controllllite_xl_blur.safetensors\n",
    "%download https://huggingface.co/lllyasviel/sd_control_collection/resolve/main/kohya_controllllite_xl_blur_anime.safetensors\n",
    "%download https://huggingface.co/lllyasviel/sd_control_collection/resolve/main/kohya_controllllite_xl_canny.safetensors\n",
    "%download https://huggingface.co/lllyasviel/sd_control_collection/resolve/main/kohya_controllllite_xl_canny_anime.safetensors\n",
    "%download https://huggingface.co/lllyasviel/sd_control_collection/resolve/main/kohya_controllllite_xl_depth.safetensors\n",
    "%download https://huggingface.co/lllyasviel/sd_control_collection/resolve/main/kohya_controllllite_xl_depth_anime.safetensors\n",
    "%download https://huggingface.co/lllyasviel/sd_control_collection/resolve/main/kohya_controllllite_xl_openpose_anime.safetensors\n",
    "%download https://huggingface.co/lllyasviel/sd_control_collection/resolve/main/kohya_controllllite_xl_openpose_anime_v2.safetensors\n",
    "%download https://huggingface.co/lllyasviel/sd_control_collection/resolve/main/kohya_controllllite_xl_scribble_anime.safetensors\n",
    "\n",
    "%download https://huggingface.co/lllyasviel/sd_control_collection/resolve/main/t2i-adapter_diffusers_xl_canny.safetensors\n",
    "%download https://huggingface.co/lllyasviel/sd_control_collection/resolve/main/t2i-adapter_diffusers_xl_depth_midas.safetensors\n",
    "%download https://huggingface.co/lllyasviel/sd_control_collection/resolve/main/t2i-adapter_diffusers_xl_depth_zoe.safetensors\n",
    "%download https://huggingface.co/lllyasviel/sd_control_collection/resolve/main/t2i-adapter_diffusers_xl_lineart.safetensors\n",
    "%download https://huggingface.co/lllyasviel/sd_control_collection/resolve/main/t2i-adapter_diffusers_xl_openpose.safetensors\n",
    "%download https://huggingface.co/lllyasviel/sd_control_collection/resolve/main/t2i-adapter_diffusers_xl_sketch.safetensors\n",
    "%download https://huggingface.co/lllyasviel/sd_control_collection/resolve/main/t2i-adapter_xl_canny.safetensors\n",
    "%download https://huggingface.co/lllyasviel/sd_control_collection/resolve/main/t2i-adapter_xl_openpose.safetensors\n",
    "%download https://huggingface.co/lllyasviel/sd_control_collection/resolve/main/t2i-adapter_xl_sketch.safetensors\n",
    "\n",
    "%download https://huggingface.co/lllyasviel/sd_control_collection/resolve/main/sai_xl_canny_256lora.safetensors\n",
    "%download https://huggingface.co/lllyasviel/sd_control_collection/resolve/main/sai_xl_depth_256lora.safetensors\n",
    "%download https://huggingface.co/lllyasviel/sd_control_collection/resolve/main/sai_xl_recolor_256lora.safetensors\n",
    "%download https://huggingface.co/lllyasviel/sd_control_collection/resolve/main/sai_xl_sketch_256lora.safetensors"
   ]
  },
  {
   "cell_type": "markdown",
   "id": "cef8d349-ff55-4189-9cc6-24a246374e10",
   "metadata": {
    "tags": []
   },
   "source": [
    "### *Upscaler - VAE*"
   ]
  },
  {
   "cell_type": "code",
   "execution_count": null,
   "id": "c8f4274d-5540-4647-8ed7-bc4d8766baa0",
   "metadata": {
    "tags": []
   },
   "outputs": [],
   "source": [
    "%run /home/studio-lab-user/.conda/pantat88.py\n",
    "# Upscaler\n",
    "!mkdir ~/asd/models/ESRGAN\n",
    "%cd -q ~/asd/models/ESRGAN\n",
    "\n",
    "%download https://huggingface.co/pantat88/ui/resolve/main/4x-UltraSharp.pth\n",
    "%download https://huggingface.co/pantat88/ui/resolve/main/4x-AnimeSharp.pth\n",
    "%download https://huggingface.co/pantat88/ui/resolve/main/4x_NMKD-Superscale-SP_178000_G.pth\n",
    "\n",
    "# vae\n",
    "%cd -q ~/asd/models/VAE\n",
    "%download https://civitai.com/api/download/models/202582 XLVAEC_E7.safetensors"
   ]
  },
  {
   "cell_type": "markdown",
   "id": "e1686fb4-1cf7-4abf-bdef-f742beb84e0c",
   "metadata": {
    "tags": []
   },
   "source": [
    "### *Checkpoint*\n",
    "temporary"
   ]
  },
  {
   "cell_type": "code",
   "execution_count": null,
   "id": "07448e32-6837-44db-bef3-4dd8217e538e",
   "metadata": {
    "tags": []
   },
   "outputs": [],
   "source": [
    "%run /home/studio-lab-user/.conda/pantat88.py\n",
    "!rm -rf ~/tmp/tmp && mkdir -p /tmp/models\n",
    "%cd -q ~/asd/models/Stable-diffusion\n",
    "\n",
    "%download https://huggingface.co/ckpt/sd_xl_refiner_1.0/resolve/main/sd_xl_refiner_1.0_0.9vae.safetensors\n",
    "%download https://huggingface.co/Linaqruf/animagine-xl-2.0/resolve/main/animagine-xl-2.0.safetensors\n"
   ]
  },
  {
   "cell_type": "markdown",
   "id": "8bc20e56-9ba4-48ac-bdfc-17179a747ee8",
   "metadata": {
    "tags": []
   },
   "source": [
    "### *Lora*\n",
    "temporary"
   ]
  },
  {
   "cell_type": "code",
   "execution_count": null,
   "id": "936784d0-67c8-442c-aa3a-ee3456f8f4bb",
   "metadata": {
    "tags": []
   },
   "outputs": [],
   "source": [
    "%run /home/studio-lab-user/.conda/pantat88.py\n",
    "!rm -rf ~/tmp/tmp && mkdir -p /tmp/Lora\n",
    "%cd -q ~/asd/models/Lora\n",
    "\n",
    "%download https://huggingface.co/Linaqruf/style-enhancer-xl-lora/resolve/main/style-enhancer-xl.safetensors\n",
    "%download https://huggingface.co/Linaqruf/anime-detailer-xl-lora/resolve/main/anime-detailer-xl.safetensors\n"
   ]
  },
  {
   "cell_type": "markdown",
   "id": "b4b19ba2-ae2b-481b-9b39-be6eac7a0f77",
   "metadata": {
    "tags": []
   },
   "source": [
    "## WEB UI"
   ]
  },
  {
   "cell_type": "code",
   "execution_count": null,
   "id": "4cffd230-2fd0-49b2-a91d-eb5b826be801",
   "metadata": {
    "tags": []
   },
   "outputs": [],
   "source": [
    "%cd -q ~/asd\n",
    "\n",
    "!python launch.py --ngrok PASTE_YOUR_TOKEN_HERE --listen --xformers --medvram-sdxl --enable-insecure-extension-access --disable-console-progressbars --theme dark --gradio-queue"
   ]
  },
  {
   "cell_type": "markdown",
   "id": "89f767e5-2ab8-41b0-81ed-8fda5af53342",
   "metadata": {
    "jp-MarkdownHeadingCollapsed": true,
    "tags": []
   },
   "source": [
    "### Output images\n",
    "compress output into ```zip``` "
   ]
  },
  {
   "cell_type": "code",
   "execution_count": null,
   "id": "9db284a0-5fd4-4265-99fd-26006a870eb8",
   "metadata": {
    "tags": []
   },
   "outputs": [],
   "source": [
    "input_folder  = '/home/studio-lab-user/asd/outputs'\n",
    "output_folder = '/home/studio-lab-user'\n",
    "\n",
    "import os\n",
    "import zipfile\n",
    "from tqdm.auto import tqdm\n",
    "def zip_folder(input_folder, output_folder, max_size_mb=20):\n",
    "    os.makedirs(output_folder, exist_ok=True)\n",
    "    all_files = []\n",
    "    for root, dirs, files in os.walk(input_folder):\n",
    "        for file in files:\n",
    "            file_path = os.path.join(root, file)\n",
    "            all_files.append(file_path)\n",
    "    zip_number = 1\n",
    "    current_zip_size = 0\n",
    "    current_zip_name = os.path.join(output_folder, f\"part_{zip_number}.zip\")\n",
    "    with tqdm(total=len(all_files), desc='zipping : ', bar_format='{desc}{n_fmt}/{total_fmt} {bar} | {percentage:3.0f}% [ {elapsed}<{remaining}, {rate_fmt}{postfix} ]', ncols=700) as pbar:\n",
    "        with zipfile.ZipFile(current_zip_name, 'w', zipfile.ZIP_DEFLATED) as current_zip:\n",
    "            for file_path in all_files:\n",
    "                file_size = os.path.getsize(file_path)\n",
    "                if current_zip_size + file_size > max_size_mb * 1024 * 1024:\n",
    "                    current_zip.close()\n",
    "                    zip_number += 1\n",
    "                    current_zip_name = os.path.join(output_folder, f\"part_{zip_number}.zip\")\n",
    "                    current_zip = zipfile.ZipFile(current_zip_name, 'w', zipfile.ZIP_DEFLATED)\n",
    "                    current_zip_size = 0\n",
    "                current_zip.write(file_path, os.path.relpath(file_path, input_folder))\n",
    "                current_zip_size += file_size\n",
    "                pbar.update(1)\n",
    "max_size_mb = 200\n",
    "zip_folder(input_folder, output_folder, max_size_mb)"
   ]
  },
  {
   "cell_type": "markdown",
   "id": "6b74f461-3a60-44fe-8d96-b6fe2f0105a5",
   "metadata": {
    "id": "bf5499c3-18fb-4325-8c37-5298751e4f97",
    "tags": []
   },
   "source": [
    "## For checking and cleaning Storage"
   ]
  },
  {
   "cell_type": "code",
   "execution_count": null,
   "id": "fe9b41c3-932e-442c-9d5e-d43b83a8096d",
   "metadata": {
    "tags": []
   },
   "outputs": [],
   "source": [
    "# Check Storage & List all folders\n",
    "\n",
    "!df -h | grep -E 'Avail|home'\n",
    "print ()\n",
    "!du -h --max-depth=1 /home/studio-lab-user"
   ]
  },
  {
   "cell_type": "code",
   "execution_count": null,
   "id": "9951220b-4c44-4e52-80db-9fe37ab3a6f2",
   "metadata": {
    "tags": []
   },
   "outputs": [],
   "source": [
    "# DELETE output Images\n",
    "\n",
    "!rm -rf /home/studio-lab-user/asd/outputs/*"
   ]
  },
  {
   "cell_type": "code",
   "execution_count": null,
   "id": "ad29fba3-221f-4748-a0c1-9fef2c745c3f",
   "metadata": {
    "tags": []
   },
   "outputs": [],
   "source": [
    "# DELETE Stable Diffusion\n",
    "\n",
    "!unlink ~/asd/models/Stable-diffusion \n",
    "!unlink ~/asd/models/Lora\n",
    "!unlink ~/asd/extensions/sd-webui-controlnet/models\n",
    "!rm -rf /home/studio-lab-user/asd /home/studio-lab-user/tmp /home/studio-lab-user/.cache"
   ]
  },
  {
   "cell_type": "code",
   "execution_count": null,
   "id": "9e058676-e9cc-4a39-aeae-c86852d44f5e",
   "metadata": {
    "tags": []
   },
   "outputs": [],
   "source": [
    "# DELETE EVERYTHING , restart jupyterlab afterward\n",
    "\n",
    "!rm -rf /home/studio-lab-user/.cache\n",
    "!rm -rf /home/studio-lab-user/.conda\n",
    "!conda remove -n \"env_name\" --all\n",
    "!rm -rf /home/studio-lab-user/*"
   ]
  }
 ],
 "metadata": {
  "kernelspec": {
   "display_name": "default:Python",
   "language": "python",
   "name": "conda-env-default-py"
  },
  "language_info": {
   "codemirror_mode": {
    "name": "ipython",
    "version": 3
   },
   "file_extension": ".py",
   "mimetype": "text/x-python",
   "name": "python",
   "nbconvert_exporter": "python",
   "pygments_lexer": "ipython3",
   "version": "3.9.16"
  }
 },
 "nbformat": 4,
 "nbformat_minor": 5
}
