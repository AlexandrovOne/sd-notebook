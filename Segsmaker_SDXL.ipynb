{
 "cells": [
  {
   "cell_type": "markdown",
   "id": "e778e3d1-ba42-456a-9180-1af321ab219a",
   "metadata": {
    "tags": []
   },
   "source": [
    "[![Open in Studio Lab](https://studiolab.sagemaker.aws/studiolab.svg)](https://studiolab.sagemaker.aws/import/github/pantat88/segsmaker/blob/main/Segsmaker_SDXL.ipynb)"
   ]
  },
  {
   "cell_type": "markdown",
   "id": "26786ea3-e294-44b6-900a-798b0880de76",
   "metadata": {
    "tags": []
   },
   "source": [
    "### Conda"
   ]
  },
  {
   "cell_type": "code",
   "execution_count": null,
   "id": "9dccb75e-fb59-4573-9955-4c334bba607b",
   "metadata": {
    "tags": []
   },
   "outputs": [],
   "source": [
    "from IPython.display import HTML, display\n",
    "import subprocess\n",
    "def ass(command, message, color):\n",
    "    display(HTML(f\"<span style='color:{color};'>--- {message} ---</span>\"))\n",
    "    result = subprocess.run(command, shell=True, stdout=subprocess.DEVNULL, stderr=subprocess.DEVNULL)\n",
    "    print(\"done\")\n",
    "ass('conda install -q -y conda=23.10.0 glib', 'Installing Conda', 'cyan')\n",
    "ass('conda install -q -y -n base python=3.10.12', 'Installing Python 3.10.12', '#D48900')\n",
    "ass('conda clean -y --all', 'Cleaning Conda environment', '#66ff00')\n",
    "ass('pip install -q torch==2.0.1+cu118 torchvision==0.15.2+cu118 --extra-index-url https://download.pytorch.org/whl/cu118', 'Installing Torch', 'magenta')\n",
    "ass('pip install -q xformers==0.0.20 triton==2.0.0', 'Installing Xformers', 'orange')\n",
    "ass('curl -Lo ~/.ipython/profile_default/startup/pantat88.py https://github.com/pantat88/segsmaker/raw/main/ui/pantat88.py', 'Gathering Magic', 'red')\n",
    "get_ipython().kernel.do_shutdown(True)"
   ]
  },
  {
   "cell_type": "markdown",
   "id": "011fac09-3453-4fea-bad6-da971f037c3b",
   "metadata": {
    "tags": []
   },
   "source": [
    "### Clone SD"
   ]
  },
  {
   "cell_type": "code",
   "execution_count": null,
   "id": "598827fd-7cf0-4d73-b982-c417916b7e96",
   "metadata": {
    "tags": []
   },
   "outputs": [],
   "source": [
    "%say Cloning Stable Diffusion. . . cyan\n",
    "%cd -q /home/studio-lab-user/\n",
    "!git clone -q -b v1.6.1 https://github.com/pantat88/asd\n",
    "\n",
    "%say Installing requirements. . . #D48900\n",
    "%cd -q ~/asd\n",
    "!pip install -r requirements.txt > /dev/null\n",
    "\n",
    "%say Creating a symlink to temporary folder. . . magenta\n",
    "!rm -rf ~/tmp ~/asd/models/Stable-diffusion ~/asd/models/Lora ~/asd/models/ControlNet ~/.cache/*\n",
    "!ln -vs /tmp ~/tmp\n",
    "!ln -vs /tmp/Lora ~/asd/models/Lora\n",
    "!ln -vs /tmp/models ~/asd/models/Stable-diffusion\n",
    "!ln -vs /tmp/ControlNet ~/asd/models/ControlNet\n",
    "\n",
    "# Extensions ================================================================================================================================\n",
    "%say Cloning Extensions. . . cyan\n",
    "%cd -q ~/asd/extensions\n",
    "\n",
    "!git clone -q --depth 1 https://github.com/mcmonkeyprojects/sd-dynamic-thresholding                ~/asd/extensions/1sd-dynamic-thresholding\n",
    "!git clone -q https://github.com/Gourieff/sd-webui-reactor                                         ~/asd/extensions/2sd-webui-reactor\n",
    "!git clone -q --depth 1 https://github.com/portu-sim/sd-webui-bmab                                 ~/asd/extensions/3sd-webui-bmab\n",
    "!git clone -q --depth 1 https://github.com/Bing-su/adetailer                                       ~/asd/extensions/4adetailer\n",
    "!git clone -q --depth 1 https://github.com/zixaphir/Stable-Diffusion-Webui-Civitai-Helper\n",
    "!git clone -q --depth 1 https://github.com/zanllp/sd-webui-infinite-image-browsing\n",
    "!git clone -q --depth 1 https://github.com/DominikDoom/a1111-sd-webui-tagcomplete\n",
    "!git clone -q --depth 1 https://github.com/camenduru/stable-diffusion-webui-huggingface\n",
    "!git clone -q --depth 1 https://github.com/thomasasfk/sd-webui-aspect-ratio-helper\n",
    "!git clone -q --depth 1 https://github.com/Coyote-A/ultimate-upscale-for-automatic1111\n",
    "!git clone -q --depth 1 https://github.com/ahgsql/StyleSelectorXL\n",
    "\n",
    "!git clone -q https://github.com/Mikubill/sd-webui-controlnet\n",
    "!git clone -q --depth 1 https://github.com/fkunn1326/openpose-editor\n",
    "!git clone -q --depth 1 https://github.com/IDEA-Research/DWPose\n",
    "#git clone -q --depth 1 https://github.com/hnmr293/posex\n",
    "\n",
    "# Upscaler ==================================================================================================================================\n",
    "!mkdir ~/asd/models/ESRGAN\n",
    "%cd -q ~/asd/models/ESRGAN\n",
    "\n",
    "%download https://huggingface.co/pantat88/ui/resolve/main/4x-UltraSharp.pth\n",
    "%download https://huggingface.co/pantat88/ui/resolve/main/4x-AnimeSharp.pth\n",
    "%download https://huggingface.co/pantat88/ui/resolve/main/4x_NMKD-Superscale-SP_178000_G.pth\n",
    "%download https://huggingface.co/pantat88/ui/resolve/main/4x_RealisticRescaler_100000_G.pth\n",
    "%download https://huggingface.co/pantat88/ui/resolve/main/8x_RealESRGAN.pth\n",
    "\n",
    "# VAE =======================================================================================================================================\n",
    "%cd -q ~/asd/models/VAE\n",
    "%download https://civitai.com/api/download/models/202582 XLVAEC_E7.safetensors"
   ]
  },
  {
   "cell_type": "markdown",
   "id": "e1686fb4-1cf7-4abf-bdef-f742beb84e0c",
   "metadata": {
    "tags": []
   },
   "source": [
    "### *Checkpoint*\n",
    "###### temporary"
   ]
  },
  {
   "cell_type": "code",
   "execution_count": null,
   "id": "07448e32-6837-44db-bef3-4dd8217e538e",
   "metadata": {
    "tags": []
   },
   "outputs": [],
   "source": [
    "!rm -rf ~/tmp/tmp && mkdir -p /tmp/models\n",
    "%cd -q ~/asd/models/Stable-diffusion\n",
    "\n",
    "%download https://huggingface.co/ckpt/sd_xl_refiner_1.0/resolve/main/sd_xl_refiner_1.0_0.9vae.safetensors\n",
    "%download https://huggingface.co/Linaqruf/animagine-xl-2.0/resolve/main/animagine-xl-2.0.safetensors\n"
   ]
  },
  {
   "cell_type": "markdown",
   "id": "8bc20e56-9ba4-48ac-bdfc-17179a747ee8",
   "metadata": {
    "tags": []
   },
   "source": [
    "### *Lora*\n",
    "###### temporary"
   ]
  },
  {
   "cell_type": "code",
   "execution_count": null,
   "id": "936784d0-67c8-442c-aa3a-ee3456f8f4bb",
   "metadata": {
    "tags": []
   },
   "outputs": [],
   "source": [
    "!rm -rf ~/tmp/tmp && mkdir -p /tmp/Lora\n",
    "%cd -q ~/asd/models/Lora\n",
    "\n",
    "%download https://huggingface.co/Linaqruf/style-enhancer-xl-lora/resolve/main/style-enhancer-xl.safetensors\n",
    "%download https://huggingface.co/Linaqruf/anime-detailer-xl-lora/resolve/main/anime-detailer-xl.safetensors\n"
   ]
  },
  {
   "cell_type": "markdown",
   "id": "5624b817-2dfa-4d44-980a-a7d6fe4b01b0",
   "metadata": {},
   "source": [
    "### *ControlNET models*\n",
    "###### temporary"
   ]
  },
  {
   "cell_type": "code",
   "execution_count": null,
   "id": "dcd4315e-150e-44eb-b4ab-2b23f1aae062",
   "metadata": {},
   "outputs": [],
   "source": [
    "!rm -rf ~/tmp/tmp && mkdir -p /tmp/ControlNet\n",
    "%cd -q ~/asd/models/ControlNet\n",
    "\n",
    "%download https://huggingface.co/lllyasviel/sd_control_collection/resolve/main/diffusers_xl_canny_mid.safetensors\n",
    "%download https://huggingface.co/lllyasviel/sd_control_collection/resolve/main/diffusers_xl_depth_mid.safetensors\n",
    "\n",
    "%download https://huggingface.co/lllyasviel/sd_control_collection/resolve/main/kohya_controllllite_xl_blur.safetensors\n",
    "%download https://huggingface.co/lllyasviel/sd_control_collection/resolve/main/kohya_controllllite_xl_blur_anime.safetensors\n",
    "%download https://huggingface.co/lllyasviel/sd_control_collection/resolve/main/kohya_controllllite_xl_canny.safetensors\n",
    "%download https://huggingface.co/lllyasviel/sd_control_collection/resolve/main/kohya_controllllite_xl_canny_anime.safetensors\n",
    "%download https://huggingface.co/lllyasviel/sd_control_collection/resolve/main/kohya_controllllite_xl_depth.safetensors\n",
    "%download https://huggingface.co/lllyasviel/sd_control_collection/resolve/main/kohya_controllllite_xl_depth_anime.safetensors\n",
    "%download https://huggingface.co/lllyasviel/sd_control_collection/resolve/main/kohya_controllllite_xl_openpose_anime.safetensors\n",
    "%download https://huggingface.co/lllyasviel/sd_control_collection/resolve/main/kohya_controllllite_xl_openpose_anime_v2.safetensors\n",
    "%download https://huggingface.co/lllyasviel/sd_control_collection/resolve/main/kohya_controllllite_xl_scribble_anime.safetensors\n",
    "\n",
    "%download https://huggingface.co/lllyasviel/sd_control_collection/resolve/main/t2i-adapter_diffusers_xl_canny.safetensors\n",
    "%download https://huggingface.co/lllyasviel/sd_control_collection/resolve/main/t2i-adapter_diffusers_xl_depth_midas.safetensors\n",
    "%download https://huggingface.co/lllyasviel/sd_control_collection/resolve/main/t2i-adapter_diffusers_xl_depth_zoe.safetensors\n",
    "%download https://huggingface.co/lllyasviel/sd_control_collection/resolve/main/t2i-adapter_diffusers_xl_lineart.safetensors\n",
    "%download https://huggingface.co/lllyasviel/sd_control_collection/resolve/main/t2i-adapter_diffusers_xl_openpose.safetensors\n",
    "%download https://huggingface.co/lllyasviel/sd_control_collection/resolve/main/t2i-adapter_diffusers_xl_sketch.safetensors\n",
    "%download https://huggingface.co/lllyasviel/sd_control_collection/resolve/main/t2i-adapter_xl_canny.safetensors\n",
    "%download https://huggingface.co/lllyasviel/sd_control_collection/resolve/main/t2i-adapter_xl_openpose.safetensors\n",
    "%download https://huggingface.co/lllyasviel/sd_control_collection/resolve/main/t2i-adapter_xl_sketch.safetensors\n",
    "\n",
    "%download https://huggingface.co/lllyasviel/sd_control_collection/resolve/main/sai_xl_canny_256lora.safetensors\n",
    "%download https://huggingface.co/lllyasviel/sd_control_collection/resolve/main/sai_xl_depth_256lora.safetensors\n",
    "%download https://huggingface.co/lllyasviel/sd_control_collection/resolve/main/sai_xl_recolor_256lora.safetensors\n",
    "%download https://huggingface.co/lllyasviel/sd_control_collection/resolve/main/sai_xl_sketch_256lora.safetensors"
   ]
  },
  {
   "cell_type": "markdown",
   "id": "b4b19ba2-ae2b-481b-9b39-be6eac7a0f77",
   "metadata": {
    "tags": []
   },
   "source": [
    "### WEB UI"
   ]
  },
  {
   "cell_type": "code",
   "execution_count": null,
   "id": "4cffd230-2fd0-49b2-a91d-eb5b826be801",
   "metadata": {
    "tags": []
   },
   "outputs": [],
   "source": [
    "token = 'PASTE_YOUR_NGROK_TOKEN_HERE'\n",
    "\n",
    "%cd -q ~/asd\n",
    "!python launch.py --listen --xformers --medvram-sdxl --enable-insecure-extension-access --disable-console-progressbars --theme dark --ngrok {token}"
   ]
  },
  {
   "cell_type": "markdown",
   "id": "89f767e5-2ab8-41b0-81ed-8fda5af53342",
   "metadata": {
    "tags": []
   },
   "source": [
    "### ```zip``` Output images"
   ]
  },
  {
   "cell_type": "code",
   "execution_count": null,
   "id": "9db284a0-5fd4-4265-99fd-26006a870eb8",
   "metadata": {
    "tags": []
   },
   "outputs": [],
   "source": [
    "%%zipping\n",
    "\n",
    "input_folder  = '/home/studio-lab-user/asd/outputs'\n",
    "output_folder = '/home/studio-lab-user'"
   ]
  },
  {
   "cell_type": "markdown",
   "id": "6b74f461-3a60-44fe-8d96-b6fe2f0105a5",
   "metadata": {
    "id": "bf5499c3-18fb-4325-8c37-5298751e4f97",
    "tags": []
   },
   "source": [
    "### For checking and cleaning Storage"
   ]
  },
  {
   "cell_type": "code",
   "execution_count": null,
   "id": "fe9b41c3-932e-442c-9d5e-d43b83a8096d",
   "metadata": {
    "tags": []
   },
   "outputs": [],
   "source": [
    "# Check Storage & List all folders\n",
    "\n",
    "!df -h | grep -E 'Avail|home'\n",
    "print ()\n",
    "!du -h --max-depth=1 /home/studio-lab-user"
   ]
  },
  {
   "cell_type": "code",
   "execution_count": null,
   "id": "9951220b-4c44-4e52-80db-9fe37ab3a6f2",
   "metadata": {
    "tags": []
   },
   "outputs": [],
   "source": [
    "# Delete output images\n",
    "\n",
    "!rm -rf ~/asd/outputs/*"
   ]
  },
  {
   "cell_type": "code",
   "execution_count": null,
   "id": "ad29fba3-221f-4748-a0c1-9fef2c745c3f",
   "metadata": {
    "tags": []
   },
   "outputs": [],
   "source": [
    "# Delete Stable Diffusion\n",
    "\n",
    "!unlink ~/tmp\n",
    "!unlink ~/asd/models/Stable-diffusion\n",
    "!unlink ~/asd/models/Lora\n",
    "!unlink ~/asd/models/ControlNet\n",
    "!rm -rf ~/asd ~/tmp ~/.cache/*"
   ]
  },
  {
   "cell_type": "code",
   "execution_count": null,
   "id": "9e058676-e9cc-4a39-aeae-c86852d44f5e",
   "metadata": {
    "tags": []
   },
   "outputs": [],
   "source": [
    "# DELETE EVERYTHING , restart jupyterlab afterward\n",
    "\n",
    "!rm -rf ~/.cache/* ~/.conda/*\n",
    "!conda remove -n \"env_name\" --all\n",
    "!rm -rf /home/studio-lab-user/*"
   ]
  }
 ],
 "metadata": {
  "kernelspec": {
   "display_name": "default:Python",
   "language": "python",
   "name": "conda-env-default-py"
  },
  "language_info": {
   "codemirror_mode": {
    "name": "ipython",
    "version": 3
   },
   "file_extension": ".py",
   "mimetype": "text/x-python",
   "name": "python",
   "nbconvert_exporter": "python",
   "pygments_lexer": "ipython3",
   "version": "3.9.16"
  }
 },
 "nbformat": 4,
 "nbformat_minor": 5
}
