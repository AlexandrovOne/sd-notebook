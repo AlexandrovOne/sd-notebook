{
 "cells": [
  {
   "cell_type": "markdown",
   "metadata": {},
   "source": [
    "## 1. install huggingface hub"
   ]
  },
  {
   "cell_type": "code",
   "execution_count": null,
   "metadata": {
    "id": "lJlfMyR8gB0v",
    "tags": []
   },
   "outputs": [],
   "source": [
    "%cd /home/studio-lab-user/\n",
    "\n",
    "%conda install -q -y aria2\n",
    "!pip install huggingface_hub"
   ]
  },
  {
   "cell_type": "markdown",
   "metadata": {},
   "source": [
    "## 2. Login"
   ]
  },
  {
   "cell_type": "code",
   "execution_count": null,
   "metadata": {
    "id": "cKbmsD_ojXYz"
   },
   "outputs": [],
   "source": [
    "from huggingface_hub import notebook_login\n",
    "notebook_login()"
   ]
  },
  {
   "cell_type": "markdown",
   "metadata": {},
   "source": [
    "## 3. download models from civit ai\n",
    "to duplicate line . put cursor on any line . press CTRL + C then CTRL + V"
   ]
  },
  {
   "cell_type": "code",
   "execution_count": null,
   "metadata": {
    "id": "CZy2kuNq5ENA"
   },
   "outputs": [],
   "source": [
    "%cd /home/studio-lab-user/\n",
    "\n",
    "!aria2c --console-log-level=error -c -x 16 -s 16 -k 1M https://civitai.com/api/download/models/70458 -o henmix_real_v4.safetensors\n",
    "!aria2c --console-log-level=error -c -x 16 -s 16 -k 1M https://civitai.com/api/download/models/24196 -o Fantexi_v08.safetensors\n"
   ]
  },
  {
   "cell_type": "markdown",
   "metadata": {},
   "source": [
    "## 4. Upload to hunggingface\n",
    "Usage : !huggingface-cli upload username/your_repo /content/kontol.safetensors kontol.safetensors"
   ]
  },
  {
   "cell_type": "code",
   "execution_count": null,
   "metadata": {
    "id": "UgcISKNjlpHJ"
   },
   "outputs": [],
   "source": [
    "!huggingface-cli upload pantat88/back_up ~/henmix_real_v4.safetensors henmix_real_v4.safetensors\n",
    "!huggingface-cli upload pantat88/back_up ~/Fantexi_v08.safetensors Fantexi_v08.safetensors\n"
   ]
  }
 ],
 "metadata": {
  "colab": {
   "provenance": []
  },
  "kernelspec": {
   "display_name": "default:Python",
   "language": "python",
   "name": "conda-env-default-py"
  },
  "language_info": {
   "codemirror_mode": {
    "name": "ipython",
    "version": 3
   },
   "file_extension": ".py",
   "mimetype": "text/x-python",
   "name": "python",
   "nbconvert_exporter": "python",
   "pygments_lexer": "ipython3",
   "version": "3.9.16"
  }
 },
 "nbformat": 4,
 "nbformat_minor": 4
}
