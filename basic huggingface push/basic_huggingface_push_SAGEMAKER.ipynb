{
 "cells": [
  {
   "cell_type": "markdown",
   "metadata": {},
   "source": [
    "### 1. install huggingface hub"
   ]
  },
  {
   "cell_type": "code",
   "execution_count": null,
   "metadata": {
    "id": "lJlfMyR8gB0v",
    "tags": []
   },
   "outputs": [],
   "source": [
    "%cd -q /home/studio-lab-user/\n",
    "!curl -sLo /home/studio-lab-user/pantat88.py https://github.com/pantat88/segsmaker/raw/main/ui/pantat88.py\n",
    "!pip install -q huggingface_hub\n",
    "from huggingface_hub import notebook_login\n",
    "notebook_login()"
   ]
  },
  {
   "cell_type": "markdown",
   "metadata": {},
   "source": [
    "### 2. download models from civit ai\n",
    "to duplicate line . put cursor on any line . press CTRL + C then CTRL + V"
   ]
  },
  {
   "cell_type": "code",
   "execution_count": null,
   "metadata": {
    "id": "CZy2kuNq5ENA"
   },
   "outputs": [],
   "source": [
    "%cd -q /home/studio-lab-user/\n",
    "%run /home/studio-lab-user/pantat88.py\n",
    "\n",
    "%download https://civitai.com/api/download/models/70458 henmix_real_v4.safetensors\n",
    "%download https://civitai.com/api/download/models/24196 Fantexi_v08.safetensors\n"
   ]
  },
  {
   "cell_type": "markdown",
   "metadata": {},
   "source": [
    "### 3. push to hunggingface\n",
    "usage : !huggingface-cli upload username/your_repo /home/studio-lab-user/oppai.safetensors oppai.safetensors"
   ]
  },
  {
   "cell_type": "code",
   "execution_count": null,
   "metadata": {
    "id": "UgcISKNjlpHJ"
   },
   "outputs": [],
   "source": [
    "!huggingface-cli upload nenen/oppai /home/studio-lab-user/henmix_real_v4.safetensors henmix_real_v4.safetensors\n",
    "!huggingface-cli upload nenen/oppai /home/studio-lab-user/Fantexi_v08.safetensors Fantexi_v08.safetensors\n"
   ]
  }
 ],
 "metadata": {
  "colab": {
   "provenance": []
  },
  "kernelspec": {
   "display_name": "default:Python",
   "language": "python",
   "name": "conda-env-default-py"
  },
  "language_info": {
   "codemirror_mode": {
    "name": "ipython",
    "version": 3
   },
   "file_extension": ".py",
   "mimetype": "text/x-python",
   "name": "python",
   "nbconvert_exporter": "python",
   "pygments_lexer": "ipython3",
   "version": "3.9.16"
  }
 },
 "nbformat": 4,
 "nbformat_minor": 4
}
