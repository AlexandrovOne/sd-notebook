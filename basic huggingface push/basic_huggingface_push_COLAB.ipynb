{
  "nbformat": 4,
  "nbformat_minor": 0,
  "metadata": {
    "colab": {
      "provenance": []
    },
    "kernelspec": {
      "name": "python3",
      "display_name": "Python 3"
    },
    "language_info": {
      "name": "python"
    }
  },
  "cells": [
    {
      "cell_type": "markdown",
      "source": [
        "## **1. install huggingface hub & Login**"
      ],
      "metadata": {
        "id": "tJ5qKIoRH0U8"
      }
    },
    {
      "cell_type": "code",
      "execution_count": null,
      "metadata": {
        "id": "lJlfMyR8gB0v"
      },
      "outputs": [],
      "source": [
        "%cd -q /content\n",
        "!curl -sLo /content/pantat88.py https://github.com/pantat88/segsmaker/raw/main/ui/pantat88.py\n",
        "!pip install -q huggingface_hub\n",
        "from huggingface_hub import notebook_login\n",
        "notebook_login()"
      ]
    },
    {
      "cell_type": "markdown",
      "source": [
        "## **2. download models from civitai**\n",
        "to duplicate line . put cursor on any line . press SHIFT + ALT + ↓"
      ],
      "metadata": {
        "id": "IfQgMmooIP8u"
      }
    },
    {
      "cell_type": "code",
      "source": [
        "%cd -q /content\n",
        "%run /content/pantat88.py\n",
        "\n",
        "%download https://civitai.com/api/download/models/70458 henmix_real_v4.safetensors\n",
        "%download https://civitai.com/api/download/models/24196 Fantexi_v08.safetensors\n"
      ],
      "metadata": {
        "id": "CZy2kuNq5ENA"
      },
      "execution_count": null,
      "outputs": []
    },
    {
      "cell_type": "markdown",
      "source": [
        "## **3. push to hunggingface**\n",
        "\n",
        "usage : !huggingface-cli upload username/your_repo /content/oppai.safetensors oppai.safetensors"
      ],
      "metadata": {
        "id": "YleyLwAvIQam"
      }
    },
    {
      "cell_type": "code",
      "source": [
        "!huggingface-cli upload nenen/oppai /content/henmix_real_v4.safetensors henmix_real_v4.safetensors\n",
        "!huggingface-cli upload nenen/oppai /content/Fantexi_v08.safetensors Fantexi_v08.safetensors\n"
      ],
      "metadata": {
        "id": "UgcISKNjlpHJ"
      },
      "execution_count": null,
      "outputs": []
    }
  ]
}