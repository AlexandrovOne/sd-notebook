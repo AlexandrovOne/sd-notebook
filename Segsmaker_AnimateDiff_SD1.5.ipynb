{
 "cells": [
  {
   "cell_type": "markdown",
   "id": "26786ea3-e294-44b6-900a-798b0880de76",
   "metadata": {
    "tags": []
   },
   "source": [
    "## Conda"
   ]
  },
  {
   "cell_type": "code",
   "execution_count": null,
   "id": "f898ce44-8dd4-4675-b25f-5061be555a95",
   "metadata": {
    "tags": []
   },
   "outputs": [],
   "source": [
    "from IPython.display import HTML, display\n",
    "import subprocess\n",
    "def ass(command, message, color):\n",
    "    display(HTML(f\"<span style='color:{color};'>・・・ {message} ・・・</span>\"))\n",
    "    result = subprocess.run(command, shell=True, stdout=subprocess.DEVNULL, stderr=subprocess.DEVNULL)\n",
    "    print(\"done\")\n",
    "ass('conda install -q -y conda=23.11.0 glib gxx_linux-64 ffmpeg imageio imageio-ffmpeg av gst-libav psutil', 'Installing Conda', 'cyan')\n",
    "ass('conda install -q -y -n base python=3.10.12', 'Installing Python 3.10.12', '#D48900')\n",
    "ass('conda clean -y --all', 'Cleaning Conda environment', '#66ff00')\n",
    "ass('pip install -q torch==2.0.1+cu118 torchvision==0.15.2+cu118 --extra-index-url https://download.pytorch.org/whl/cu118', 'Installing Torch', 'magenta')\n",
    "ass('pip install -q xformers==0.0.20 triton==2.0.0', 'Installing xformers', 'orange')\n",
    "ass('curl -Lo ~/.ipython/profile_default/startup/pantat88.py https://github.com/gutris1/segsmaker/raw/main/ui/pantat88.py', 'Gathering Magic', 'red')\n",
    "get_ipython().kernel.do_shutdown(True)"
   ]
  },
  {
   "cell_type": "markdown",
   "id": "011fac09-3453-4fea-bad6-da971f037c3b",
   "metadata": {
    "tags": []
   },
   "source": [
    "## Clone SD"
   ]
  },
  {
   "cell_type": "code",
   "execution_count": null,
   "id": "598827fd-7cf0-4d73-b982-c417916b7e96",
   "metadata": {
    "tags": []
   },
   "outputs": [],
   "source": [
    "%say ・・・ {red} Cloning Stable Diffusion {d} ・・・ {red}\n",
    "%cd -q /home/studio-lab-user/\n",
    "!git clone -q -b v1.6.1 https://github.com/gutris1/asd\n",
    "\n",
    "%say ・・・ {red} Installing Requirements {d} ・・・ {red}\n",
    "%cd -q ~/asd\n",
    "!pip install -r requirements.txt > /dev/null\n",
    "%download https://github.com/gutris1/segsmaker/raw/main/ui/ad.zip\n",
    "!unzip -qo ad.zip && rm ad.zip\n",
    "\n",
    "%say ・・・ {red} Symlink to Temporary Folder {d} ・・・ {red}\n",
    "!rm -rf ~/tmp/* ~/tmp ~/asd/models/Stable-diffusion/tmp_models ~/asd/models/Lora/tmp_Lora ~/asd/models/ControlNet\n",
    "!mkdir ~/asd/models/Lora\n",
    "!ln -vs /tmp ~/tmp > /dev/null ; ln -vs /tmp/models ~/asd/models/Stable-diffusion/tmp_models > /dev/null\n",
    "!ln -vs /tmp/Lora ~/asd/models/Lora/tmp_Lora > /dev/null ; ln -vs /tmp/ControlNet ~/asd/models/ControlNet > /dev/null\n",
    "''' Extensions '''\n",
    "%say ・・・ {red} Cloning Extensions {d} ・・・ {red}\n",
    "%cd -q ~/asd/extensions\n",
    "%clone ~/asd/asd/extension.txt\n",
    "''' Embeddings ''' \n",
    "%say ・・・ {red} Downloading Embeddings {d} ・・・ {red}\n",
    "%cd -q ~/asd/embeddings\n",
    "%download https://huggingface.co/pantat88/ui/resolve/main/embeddings.zip\n",
    "!unzip -qo embeddings.zip && rm embeddings.zip\n",
    "%download https://civitai.com/api/download/models/150491 edgQuality.pt\n",
    "''' Upscaler '''\n",
    "%say ・・・ {red} Downloading Upscalers {d} ・・・ {red}\n",
    "!mkdir ~/asd/models/ESRGAN\n",
    "%cd -q ~/asd/models/ESRGAN\n",
    "%download ~/asd/asd/upscaler.txt\n",
    "''' VAE '''\n",
    "%say ・・・ {red} Downloading VAE {d} ・・・ {red}\n",
    "%cd -q ~/asd/models/VAE\n",
    "\n",
    "%download https://huggingface.co/stabilityai/sd-vae-ft-mse-original/resolve/main/vae-ft-mse-840000-ema-pruned.safetensors\n",
    "#download https://huggingface.co/fp16-guy/anything_kl-f8-anime2_vae-ft-mse-840000-ema-pruned_blessed_clearvae_fp16_cleaned/resolve/main/kl-f8-anime2_fp16.safetensors\n",
    "#download https://huggingface.co/fp16-guy/anything_kl-f8-anime2_vae-ft-mse-840000-ema-pruned_blessed_clearvae_fp16_cleaned/resolve/main/blessed2_fp16.safetensors\n",
    "#download https://huggingface.co/fp16-guy/anything_kl-f8-anime2_vae-ft-mse-840000-ema-pruned_blessed_clearvae_fp16_cleaned/resolve/main/ClearVAE_V2.3_fp16.safetensors\n",
    "#download https://huggingface.co/fp16-guy/anything_kl-f8-anime2_vae-ft-mse-840000-ema-pruned_blessed_clearvae_fp16_cleaned/resolve/main/anything_fp16.safetensors\n",
    "\n",
    "!rm -rf ~/.cache/*\n",
    "%say ・・・ {red} Done {d} ・・・ {red}"
   ]
  },
  {
   "cell_type": "markdown",
   "id": "c8d5d6aa-8dc8-46af-8aa5-785b25d68ae7",
   "metadata": {
    "tags": []
   },
   "source": [
    "## *ControlNET models*\n",
    "###### temporary"
   ]
  },
  {
   "cell_type": "code",
   "execution_count": null,
   "id": "c7a1bfea-7691-4a1c-b290-1ef58c87cee1",
   "metadata": {
    "tags": []
   },
   "outputs": [],
   "source": [
    "%tempe\n",
    "%cd -q ~/asd/models/ControlNet\n",
    "\n",
    "%download ~/asd/asd/controlnet.txt"
   ]
  },
  {
   "cell_type": "markdown",
   "id": "e1686fb4-1cf7-4abf-bdef-f742beb84e0c",
   "metadata": {
    "tags": []
   },
   "source": [
    "## *Checkpoint*\n",
    "###### persistent"
   ]
  },
  {
   "cell_type": "code",
   "execution_count": null,
   "id": "07448e32-6837-44db-bef3-4dd8217e538e",
   "metadata": {
    "tags": []
   },
   "outputs": [],
   "source": [
    "%cd -q ~/asd/models/Stable-diffusion\n",
    "\n",
    "%download https://civitai.com/api/download/models/147913 meichidarkMixFp16_45.safetensors"
   ]
  },
  {
   "cell_type": "markdown",
   "id": "397db6c0-d670-4c63-a7cf-f76f43e306a3",
   "metadata": {},
   "source": [
    "###### temporary"
   ]
  },
  {
   "cell_type": "code",
   "execution_count": null,
   "id": "c8b2f198-71ab-4e46-82fb-b298a284e259",
   "metadata": {
    "tags": []
   },
   "outputs": [],
   "source": [
    "%tempe\n",
    "%cd -q ~/asd/models/Stable-diffusion/tmp_models\n",
    "\n",
    "%download https://civitai.com/api/download/models/77744  Meichidark_Mix_V2.safetensors"
   ]
  },
  {
   "cell_type": "markdown",
   "id": "8bc20e56-9ba4-48ac-bdfc-17179a747ee8",
   "metadata": {
    "tags": []
   },
   "source": [
    "## *Lora*\n",
    "###### persistent"
   ]
  },
  {
   "cell_type": "code",
   "execution_count": null,
   "id": "936784d0-67c8-442c-aa3a-ee3456f8f4bb",
   "metadata": {
    "tags": []
   },
   "outputs": [],
   "source": [
    "%cd -q ~/asd/models/Lora\n",
    "\n",
    "%download https://civitai.com/api/download/models/87153   add_detail.safetensors\n",
    "%download https://civitai.com/api/download/models/171989  detail_slider_v4.safetensors\n",
    "%download https://civitai.com/api/download/models/62833   Detail_Tweaker.safetensors\n",
    "%download https://civitai.com/api/download/models/86247   flat2.safetensors"
   ]
  },
  {
   "cell_type": "markdown",
   "id": "de9f8035-8566-4e94-b69c-c0d6ec12642a",
   "metadata": {},
   "source": [
    "###### temporary"
   ]
  },
  {
   "cell_type": "code",
   "execution_count": null,
   "id": "7f512b1b-f0a3-4587-a23a-0fc36e1eda83",
   "metadata": {
    "tags": []
   },
   "outputs": [],
   "source": [
    "%tempe\n",
    "%cd -q ~/asd/models/Lora/tmp_Lora\n",
    "\n",
    "%download https://civitai.com/api/download/models/146600  breastsizeslideroffset.safetensors"
   ]
  },
  {
   "cell_type": "markdown",
   "id": "b4b19ba2-ae2b-481b-9b39-be6eac7a0f77",
   "metadata": {
    "tags": []
   },
   "source": [
    "## WEB UI"
   ]
  },
  {
   "cell_type": "code",
   "execution_count": null,
   "id": "4cffd230-2fd0-49b2-a91d-eb5b826be801",
   "metadata": {
    "tags": []
   },
   "outputs": [],
   "source": [
    "token = 'PASTE_YOUR_NGROK_TOKEN_HERE'\n",
    "\n",
    "%tempe\n",
    "%cd -q ~/asd\n",
    "!python launch.py --xformers --enable-insecure-extension-access --disable-console-progressbars --theme dark --ngrok {token}"
   ]
  },
  {
   "cell_type": "markdown",
   "id": "3a955c9c-86d8-4f96-acf5-d1318e0252c3",
   "metadata": {
    "jp-MarkdownHeadingCollapsed": true,
    "tags": []
   },
   "source": [
    "## Extras"
   ]
  },
  {
   "cell_type": "markdown",
   "id": "89f767e5-2ab8-41b0-81ed-8fda5af53342",
   "metadata": {
    "tags": []
   },
   "source": [
    "#### ```zip``` Output images"
   ]
  },
  {
   "cell_type": "code",
   "execution_count": null,
   "id": "e264e27c-0b24-463a-8ac7-88571517d370",
   "metadata": {
    "tags": []
   },
   "outputs": [],
   "source": [
    "%%zipping\n",
    "\n",
    "input_folder  = '/home/studio-lab-user/asd/outputs'\n",
    "output_folder = '/home/studio-lab-user'"
   ]
  },
  {
   "cell_type": "markdown",
   "id": "6b74f461-3a60-44fe-8d96-b6fe2f0105a5",
   "metadata": {
    "id": "bf5499c3-18fb-4325-8c37-5298751e4f97",
    "tags": []
   },
   "source": [
    "#### Checking and Cleaning Storage"
   ]
  },
  {
   "cell_type": "code",
   "execution_count": null,
   "id": "fe9b41c3-932e-442c-9d5e-d43b83a8096d",
   "metadata": {
    "tags": []
   },
   "outputs": [],
   "source": [
    "''' Check Storage '''\n",
    "\n",
    "!rm -rf ~/.cache/*\n",
    "%storage /home/studio-lab-user"
   ]
  },
  {
   "cell_type": "code",
   "execution_count": null,
   "id": "9951220b-4c44-4e52-80db-9fe37ab3a6f2",
   "metadata": {
    "tags": []
   },
   "outputs": [],
   "source": [
    "''' Delete output images '''\n",
    "\n",
    "!rm -rf ~/asd/outputs/* ~/.cache/*"
   ]
  },
  {
   "cell_type": "code",
   "execution_count": null,
   "id": "ad29fba3-221f-4748-a0c1-9fef2c745c3f",
   "metadata": {
    "tags": []
   },
   "outputs": [],
   "source": [
    "''' Delete Stable Diffusion '''\n",
    "\n",
    "!rm -rf ~/tmp/* ~/asd ~/tmp ~/.cache/*\n",
    "%cd -q ~"
   ]
  },
  {
   "cell_type": "code",
   "execution_count": null,
   "id": "9e058676-e9cc-4a39-aeae-c86852d44f5e",
   "metadata": {
    "tags": []
   },
   "outputs": [],
   "source": [
    "''' DELETE EVERYTHING , restart jupyterlab afterward '''\n",
    "\n",
    "%delete /home/studio-lab-user"
   ]
  }
 ],
 "metadata": {
  "kernelspec": {
   "display_name": "default:Python",
   "language": "python",
   "name": "conda-env-default-py"
  },
  "language_info": {
   "codemirror_mode": {
    "name": "ipython",
    "version": 3
   },
   "file_extension": ".py",
   "mimetype": "text/x-python",
   "name": "python",
   "nbconvert_exporter": "python",
   "pygments_lexer": "ipython3",
   "version": "3.9.16"
  }
 },
 "nbformat": 4,
 "nbformat_minor": 5
}
