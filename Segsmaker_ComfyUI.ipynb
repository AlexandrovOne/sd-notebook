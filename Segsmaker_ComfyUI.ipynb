{
 "cells": [
  {
   "cell_type": "markdown",
   "id": "b6f1eec1-3cc5-4fa1-95ab-ef38e9785d60",
   "metadata": {},
   "source": [
    "[![Open in Studio Lab](https://studiolab.sagemaker.aws/studiolab.svg)](https://studiolab.sagemaker.aws/import/github/pantat88/segsmaker/blob/main/Segsmaker_ComfyUI.ipynb)"
   ]
  },
  {
   "cell_type": "markdown",
   "id": "26786ea3-e294-44b6-900a-798b0880de76",
   "metadata": {
    "tags": []
   },
   "source": [
    "### Conda"
   ]
  },
  {
   "cell_type": "code",
   "execution_count": null,
   "id": "9dccb75e-fb59-4573-9955-4c334bba607b",
   "metadata": {
    "tags": []
   },
   "outputs": [],
   "source": [
    "from IPython.display import HTML, display\n",
    "import subprocess\n",
    "def ass(command, message, color):\n",
    "    display(HTML(f\"<span style='color:{color};'>--- {message} ---</span>\"))\n",
    "    result = subprocess.run(command, shell=True, stdout=subprocess.DEVNULL, stderr=subprocess.DEVNULL)\n",
    "    display(HTML(\"<span style='color:cyan;'>Done</span>\"))\n",
    "ass('conda install -q -y conda=23.10.0 glib aria2 gxx_linux-64 pyngrok ffmpeg av gst-libav imageio imageio-ffmpeg', 'Installing Conda', 'yellow')\n",
    "ass('conda install -q -y -n base python=3.10.12', 'Installing Python 3.10.12', 'yellow')\n",
    "ass('conda clean -y --all', 'Cleaning Conda environment', 'magenta')\n",
    "!python --version\n",
    "import os\n",
    "os._exit(00)"
   ]
  },
  {
   "cell_type": "markdown",
   "id": "011fac09-3453-4fea-bad6-da971f037c3b",
   "metadata": {
    "tags": []
   },
   "source": [
    "### Clone ComfyUI"
   ]
  },
  {
   "cell_type": "code",
   "execution_count": null,
   "id": "598827fd-7cf0-4d73-b982-c417916b7e96",
   "metadata": {
    "tags": []
   },
   "outputs": [],
   "source": [
    "from IPython.display import HTML, display\n",
    "def ass(message, color):\n",
    "    display(HTML(f\"<span style='color:{color};'>{message}</span>\"))\n",
    "    \n",
    "ass(\"Cloning ComfyUI. . .\", \"cyan\")\n",
    "%cd -q /home/studio-lab-user/\n",
    "!git clone -q https://github.com/comfyanonymous/ComfyUI\n",
    "\n",
    "ass(\"Installing requirements. . .\", \"yellow\")\n",
    "%cd -q ~/ComfyUI\n",
    "!pip install https://download.pytorch.org/whl/cu118/xformers-0.0.22.post4%2Bcu118-cp310-cp310-manylinux2014_x86_64.whl -r requirements.txt torchvision --extra-index-url https://download.pytorch.org/whl/cu118 > /dev/null\n",
    "\n",
    "ass(\"Creating a symlink to temporary folder. . .\", \"magenta\")\n",
    "!rm -rf ~/ComfyUI/models/checkpoints \n",
    "!rm -rf ~/ComfyUI/models/loras\n",
    "!rm -rf ~/ComfyUI/models/controlnet\n",
    "!rm -rf ~/tmp\n",
    "!ln -vs /tmp ~/tmp\n",
    "!ln -vs /tmp/checkpoints ~/ComfyUI/models/checkpoints\n",
    "!ln -vs /tmp/loras ~/ComfyUI/models/loras\n",
    "!ln -vs /tmp/controlnet_models ~/ComfyUI/models/controlnet\n",
    "!rm -rf /home/studio-lab-user/.cache\n",
    "\n",
    "ass(\"Done\", \"#66ff00\")"
   ]
  },
  {
   "cell_type": "markdown",
   "id": "ec171e3f-b92d-485c-b3cf-233ba8f6b2df",
   "metadata": {},
   "source": [
    "### ComfyUI Custom Node"
   ]
  },
  {
   "cell_type": "code",
   "execution_count": null,
   "id": "261649de-347d-4a3a-9c76-054bf3807618",
   "metadata": {
    "tags": []
   },
   "outputs": [],
   "source": [
    "from IPython.display import HTML, display\n",
    "def ass(message, color):\n",
    "    display(HTML(f\"<span style='color:{color};'>{message}</span>\"))\n",
    "    \n",
    "ass(\"Cloning ComfyUI Custom Node. . .\", \"cyan\")\n",
    "%cd -q ~/ComfyUI/custom_nodes\n",
    "\n",
    "!git clone -q https://github.com/ssitu/ComfyUI_UltimateSDUpscale --recursive\n",
    "!git clone -q https://github.com/ltdrdata/ComfyUI-Manager\n",
    "!git clone -q https://github.com/pythongosssss/ComfyUI-Custom-Scripts\n",
    "!git clone -q https://github.com/city96/SD-Latent-Upscaler\n",
    "!git clone -q https://github.com/jags111/efficiency-nodes-comfyui\n",
    "!git clone -q https://github.com/BlenderNeko/ComfyUI_ADV_CLIP_emb\n",
    "!git clone -q https://github.com/ssitu/ComfyUI_NestedNodeBuilder\n",
    "!git clone -q https://github.com/Kosinkadink/ComfyUI-Advanced-ControlNet\n",
    "!git clone -q https://github.com/Fannovel16/comfyui_controlnet_aux\n",
    "!git clone -q https://github.com/SLAPaper/ComfyUI-Image-Selector\n",
    "!git clone -q https://github.com/Derfuu/Derfuu_ComfyUI_ModdedNodes\n",
    "!git clone -q https://github.com/FizzleDorf/ComfyUI_FizzNodes\n",
    "!git clone -q https://github.com/WASasquatch/was-node-suite-comfyui\n",
    "!git clone -q https://github.com/Kosinkadink/ComfyUI-VideoHelperSuite\n",
    "\n",
    "!git clone -q https://github.com/Gourieff/comfyui-reactor-node\n",
    "!aria2c --console-log-level=error -c -x 16 -s 16 -k 1M https://github.com/sczhou/CodeFormer/releases/download/v0.1.0/codeformer.pth  -d ~/ComfyUI/models/facerestore_models  -o codeformer.pth > /dev/null\n",
    "!aria2c --console-log-level=error -c -x 16 -s 16 -k 1M https://github.com/TencentARC/GFPGAN/releases/download/v1.3.4/GFPGANv1.4.pth  -d ~/ComfyUI/models/facerestore_models  -o GFPGANv1.4.pth > /dev/null\n",
    "\n",
    "!git clone -q https://github.com/Kosinkadink/ComfyUI-AnimateDiff-Evolved\n",
    "!aria2c --console-log-level=error -c -x 16 -s 16 -k 1M https://huggingface.co/guoyww/animatediff/resolve/main/mm_sd_v15_v2.ckpt                  -d ~/ComfyUI/custom_nodes/ComfyUI-AnimateDiff-Evolved/models       -o mm_sd_v15_v2.ckpt > /dev/null\n",
    "!aria2c --console-log-level=error -c -x 16 -s 16 -k 1M https://huggingface.co/guoyww/animatediff/resolve/main/v2_lora_PanLeft.ckpt               -d ~/ComfyUI/custom_nodes/ComfyUI-AnimateDiff-Evolved/motion_lora  -o v2_lora_PanLeft.ckpt > /dev/null\n",
    "!aria2c --console-log-level=error -c -x 16 -s 16 -k 1M https://huggingface.co/guoyww/animatediff/resolve/main/v2_lora_PanRight.ckpt              -d ~/ComfyUI/custom_nodes/ComfyUI-AnimateDiff-Evolved/motion_lora  -o v2_lora_PanRight.ckpt > /dev/null\n",
    "!aria2c --console-log-level=error -c -x 16 -s 16 -k 1M https://huggingface.co/guoyww/animatediff/resolve/main/v2_lora_RollingAnticlockwise.ckpt  -d ~/ComfyUI/custom_nodes/ComfyUI-AnimateDiff-Evolved/motion_lora  -o v2_lora_RollingAnticlockwise.ckpt > /dev/null\n",
    "!aria2c --console-log-level=error -c -x 16 -s 16 -k 1M https://huggingface.co/guoyww/animatediff/resolve/main/v2_lora_RollingClockwise.ckpt      -d ~/ComfyUI/custom_nodes/ComfyUI-AnimateDiff-Evolved/motion_lora  -o v2_lora_RollingClockwise.ckpt > /dev/null\n",
    "!aria2c --console-log-level=error -c -x 16 -s 16 -k 1M https://huggingface.co/guoyww/animatediff/resolve/main/v2_lora_TiltDown.ckpt              -d ~/ComfyUI/custom_nodes/ComfyUI-AnimateDiff-Evolved/motion_lora  -o v2_lora_TiltDown.ckpt > /dev/null\n",
    "!aria2c --console-log-level=error -c -x 16 -s 16 -k 1M https://huggingface.co/guoyww/animatediff/resolve/main/v2_lora_TiltUp.ckpt                -d ~/ComfyUI/custom_nodes/ComfyUI-AnimateDiff-Evolved/motion_lora  -o v2_lora_TiltUp.ckpt > /dev/null\n",
    "!aria2c --console-log-level=error -c -x 16 -s 16 -k 1M https://huggingface.co/guoyww/animatediff/resolve/main/v2_lora_ZoomIn.ckpt                -d ~/ComfyUI/custom_nodes/ComfyUI-AnimateDiff-Evolved/motion_lora  -o v2_lora_ZoomIn.ckpt > /dev/null\n",
    "!aria2c --console-log-level=error -c -x 16 -s 16 -k 1M https://huggingface.co/guoyww/animatediff/resolve/main/v2_lora_ZoomOut.ckpt               -d ~/ComfyUI/custom_nodes/ComfyUI-AnimateDiff-Evolved/motion_lora  -o v2_lora_ZoomOut.ckpt > /dev/null\n",
    "\n",
    "!git clone -q https://github.com/cubiq/ComfyUI_IPAdapter_plus\n",
    "!aria2c --console-log-level=error -c -x 16 -s 16 -k 1M https://huggingface.co/h94/IP-Adapter/resolve/main/models/ip-adapter_sd15.safetensors            -d ~/ComfyUI/custom_nodes/ComfyUI_IPAdapter_plus/models  -o ip-adapter_sd15.safetensors > /dev/null\n",
    "!aria2c --console-log-level=error -c -x 16 -s 16 -k 1M https://huggingface.co/h94/IP-Adapter/resolve/main/models/ip-adapter_sd15_light.safetensors      -d ~/ComfyUI/custom_nodes/ComfyUI_IPAdapter_plus/models  -o ip-adapter_sd15_light.safetensors > /dev/null\n",
    "!aria2c --console-log-level=error -c -x 16 -s 16 -k 1M https://huggingface.co/h94/IP-Adapter/resolve/main/models/ip-adapter-plus_sd15.safetensors       -d ~/ComfyUI/custom_nodes/ComfyUI_IPAdapter_plus/models  -o ip-adapter-plus_sd15.safetensors > /dev/null\n",
    "!aria2c --console-log-level=error -c -x 16 -s 16 -k 1M https://huggingface.co/h94/IP-Adapter/resolve/main/models/ip-adapter-plus-face_sd15.safetensors  -d ~/ComfyUI/custom_nodes/ComfyUI_IPAdapter_plus/models  -o ip-adapter-plus-face_sd15.safetensors > /dev/null\n",
    "!aria2c --console-log-level=error -c -x 16 -s 16 -k 1M https://huggingface.co/h94/IP-Adapter/resolve/main/models/ip-adapter-full-face_sd15.safetensors  -d ~/ComfyUI/custom_nodes/ComfyUI_IPAdapter_plus/models  -o ip-adapter-full-face_sd15.safetensors > /dev/null\n",
    "!aria2c --console-log-level=error -c -x 16 -s 16 -k 1M https://huggingface.co/h94/IP-Adapter/resolve/main/models/image_encoder/model.safetensors        -d ~/ComfyUI/models/clip_vision                          -o 1-5-image-encoder.safetensors > /dev/null\n",
    "\n",
    "ass(\"Installing Custom Node dependencies. . .\", \"yellow\")\n",
    "%cd -q ~/ComfyUI\n",
    "!pip install opencv-python==4.7.0.72 transformers==4.26.1 tokenizers clip-interrogator > /dev/null\n",
    "![ -f \"custom_nodes/ComfyUI-Manager/scripts/colab-dependencies.py\" ] && python \"custom_nodes/ComfyUI-Manager/scripts/colab-dependencies.py\" > /dev/null\n",
    "\n",
    "!rm -rf /home/studio-lab-user/.cache\n",
    "ass(\"Done\", \"#66ff00\")\n",
    "from IPython.core.display import HTML\n",
    "HTML(\"<script>Jupyter.notebook.kernel.restart()</script>\")"
   ]
  },
  {
   "cell_type": "markdown",
   "id": "c8d5d6aa-8dc8-46af-8aa5-785b25d68ae7",
   "metadata": {
    "tags": []
   },
   "source": [
    "### ControlNET models\n",
    "temporary"
   ]
  },
  {
   "cell_type": "code",
   "execution_count": null,
   "id": "c7a1bfea-7691-4a1c-b290-1ef58c87cee1",
   "metadata": {
    "tags": []
   },
   "outputs": [],
   "source": [
    "!rm -rf ~/tmp/tmp && mkdir -p /tmp/controlnet_models\n",
    "%cd -q ~/ComfyUI/models/controlnet\n",
    "\n",
    "!aria2c --console-log-level=error -c -x 16 -s 16 -k 1M https://huggingface.co/ckpt/ControlNet-v1-1/resolve/main/control_v11e_sd15_ip2p_fp16.safetensors             -o control_v11e_sd15_ip2p_fp16.safetensors\n",
    "!aria2c --console-log-level=error -c -x 16 -s 16 -k 1M https://huggingface.co/ckpt/ControlNet-v1-1/raw/main/control_v11e_sd15_ip2p_fp16.yaml                        -o control_v11e_sd15_ip2p_fp16.yaml\n",
    "!aria2c --console-log-level=error -c -x 16 -s 16 -k 1M https://huggingface.co/ckpt/ControlNet-v1-1/resolve/main/control_v11e_sd15_shuffle_fp16.safetensors          -o control_v11e_sd15_shuffle_fp16.safetensors\n",
    "!aria2c --console-log-level=error -c -x 16 -s 16 -k 1M https://huggingface.co/ckpt/ControlNet-v1-1/raw/main/control_v11e_sd15_shuffle_fp16.yaml                     -o control_v11e_sd15_shuffle_fp16.yaml\n",
    "!aria2c --console-log-level=error -c -x 16 -s 16 -k 1M https://huggingface.co/ckpt/ControlNet-v1-1/resolve/main/control_v11p_sd15_canny_fp16.safetensors            -o control_v11p_sd15_canny_fp16.safetensors\n",
    "!aria2c --console-log-level=error -c -x 16 -s 16 -k 1M https://huggingface.co/ckpt/ControlNet-v1-1/raw/main/control_v11p_sd15_canny_fp16.yaml                       -o control_v11p_sd15_canny_fp16.yaml\n",
    "!aria2c --console-log-level=error -c -x 16 -s 16 -k 1M https://huggingface.co/ckpt/ControlNet-v1-1/resolve/main/control_v11f1p_sd15_depth_fp16.safetensors          -o control_v11f1p_sd15_depth_fp16.safetensors\n",
    "!aria2c --console-log-level=error -c -x 16 -s 16 -k 1M https://huggingface.co/ckpt/ControlNet-v1-1/raw/main/control_v11f1p_sd15_depth_fp16.yaml                     -o control_v11f1p_sd15_depth_fp16.yaml\n",
    "!aria2c --console-log-level=error -c -x 16 -s 16 -k 1M https://huggingface.co/ckpt/ControlNet-v1-1/resolve/main/control_v11p_sd15_inpaint_fp16.safetensors          -o control_v11p_sd15_inpaint_fp16.safetensors\n",
    "!aria2c --console-log-level=error -c -x 16 -s 16 -k 1M https://huggingface.co/ckpt/ControlNet-v1-1/raw/main/control_v11p_sd15_inpaint_fp16.yaml                     -o control_v11p_sd15_inpaint_fp16.yaml\n",
    "!aria2c --console-log-level=error -c -x 16 -s 16 -k 1M https://huggingface.co/ckpt/ControlNet-v1-1/resolve/main/control_v11p_sd15_lineart_fp16.safetensors          -o control_v11p_sd15_lineart_fp16.safetensors\n",
    "!aria2c --console-log-level=error -c -x 16 -s 16 -k 1M https://huggingface.co/ckpt/ControlNet-v1-1/raw/main/control_v11p_sd15_lineart_fp16.yaml                     -o control_v11p_sd15_lineart_fp16.yaml\n",
    "!aria2c --console-log-level=error -c -x 16 -s 16 -k 1M https://huggingface.co/ckpt/ControlNet-v1-1/resolve/main/control_v11p_sd15_mlsd_fp16.safetensors             -o control_v11p_sd15_mlsd_fp16.safetensors\n",
    "!aria2c --console-log-level=error -c -x 16 -s 16 -k 1M https://huggingface.co/ckpt/ControlNet-v1-1/raw/main/control_v11p_sd15_mlsd_fp16.yaml                        -o control_v11p_sd15_mlsd_fp16.yaml\n",
    "!aria2c --console-log-level=error -c -x 16 -s 16 -k 1M https://huggingface.co/ckpt/ControlNet-v1-1/resolve/main/control_v11p_sd15_normalbae_fp16.safetensors        -o control_v11p_sd15_normalbae_fp16.safetensors\n",
    "!aria2c --console-log-level=error -c -x 16 -s 16 -k 1M https://huggingface.co/ckpt/ControlNet-v1-1/raw/main/control_v11p_sd15_normalbae_fp16.yaml                   -o control_v11p_sd15_normalbae_fp16.yaml\n",
    "!aria2c --console-log-level=error -c -x 16 -s 16 -k 1M https://huggingface.co/ckpt/ControlNet-v1-1/resolve/main/control_v11p_sd15_openpose_fp16.safetensors         -o control_v11p_sd15_openpose_fp16.safetensors\n",
    "!aria2c --console-log-level=error -c -x 16 -s 16 -k 1M https://huggingface.co/ckpt/ControlNet-v1-1/raw/main/control_v11p_sd15_openpose_fp16.yaml                    -o control_v11p_sd15_openpose_fp16.yaml\n",
    "!aria2c --console-log-level=error -c -x 16 -s 16 -k 1M https://huggingface.co/ckpt/ControlNet-v1-1/resolve/main/control_v11p_sd15_scribble_fp16.safetensors         -o control_v11p_sd15_scribble_fp16.safetensors\n",
    "!aria2c --console-log-level=error -c -x 16 -s 16 -k 1M https://huggingface.co/ckpt/ControlNet-v1-1/raw/main/control_v11p_sd15_scribble_fp16.yaml                    -o control_v11p_sd15_scribble_fp16.yaml\n",
    "!aria2c --console-log-level=error -c -x 16 -s 16 -k 1M https://huggingface.co/ckpt/ControlNet-v1-1/resolve/main/control_v11p_sd15_seg_fp16.safetensors              -o control_v11p_sd15_seg_fp16.safetensors\n",
    "!aria2c --console-log-level=error -c -x 16 -s 16 -k 1M https://huggingface.co/ckpt/ControlNet-v1-1/raw/main/control_v11p_sd15_seg_fp16.yaml                         -o control_v11p_sd15_seg_fp16.yaml\n",
    "!aria2c --console-log-level=error -c -x 16 -s 16 -k 1M https://huggingface.co/ckpt/ControlNet-v1-1/resolve/main/control_v11p_sd15_softedge_fp16.safetensors         -o control_v11p_sd15_softedge_fp16.safetensors\n",
    "!aria2c --console-log-level=error -c -x 16 -s 16 -k 1M https://huggingface.co/ckpt/ControlNet-v1-1/raw/main/control_v11p_sd15_softedge_fp16.yaml                    -o control_v11p_sd15_softedge_fp16.yaml\n",
    "!aria2c --console-log-level=error -c -x 16 -s 16 -k 1M https://huggingface.co/ckpt/ControlNet-v1-1/resolve/main/control_v11p_sd15s2_lineart_anime_fp16.safetensors  -o control_v11p_sd15s2_lineart_anime_fp16.safetensors\n",
    "!aria2c --console-log-level=error -c -x 16 -s 16 -k 1M https://huggingface.co/ckpt/ControlNet-v1-1/raw/main/control_v11p_sd15s2_lineart_anime_fp16.yaml             -o control_v11p_sd15s2_lineart_anime_fp16.yaml\n",
    "!aria2c --console-log-level=error -c -x 16 -s 16 -k 1M https://huggingface.co/ckpt/ControlNet-v1-1/resolve/main/control_v11f1e_sd15_tile_fp16.safetensors           -o control_v11f1e_sd15_tile_fp16.safetensors\n",
    "!aria2c --console-log-level=error -c -x 16 -s 16 -k 1M https://huggingface.co/ckpt/ControlNet-v1-1/raw/main/control_v11f1e_sd15_tile_fp16.yaml                      -o control_v11f1e_sd15_tile_fp16.yaml"
   ]
  },
  {
   "cell_type": "markdown",
   "id": "cef8d349-ff55-4189-9cc6-24a246374e10",
   "metadata": {
    "tags": []
   },
   "source": [
    "### *Embeddings - Upscaler - VAE*"
   ]
  },
  {
   "cell_type": "code",
   "execution_count": null,
   "id": "c8f4274d-5540-4647-8ed7-bc4d8766baa0",
   "metadata": {
    "tags": []
   },
   "outputs": [],
   "source": [
    "# embeddings\n",
    "%cd -q ~/ComfyUI/models/embeddings\n",
    "\n",
    "!aria2c --console-log-level=error -c -x 16 -s 16 -k 1M https://huggingface.co/pantat88/back_up/resolve/main/embeddings.zip -o embeddings.zip\n",
    "!unzip -o ~/ComfyUI/models/embeddings/embeddings.zip\n",
    "!rm embeddings.zip\n",
    "\n",
    "!aria2c --console-log-level=error -c -x 16 -s 16 -k 1M https://civitai.com/api/download/models/150491 # edgQuality.pt\n",
    "\n",
    "# Upscaler\n",
    "%cd -q ~/ComfyUI/models/upscale_models\n",
    "\n",
    "!aria2c --console-log-level=error -c -x 16 -s 16 -k 1M https://huggingface.co/pantat88/ui/resolve/main/4x-UltraSharp.pth                        -o 4x-UltraSharp.pth\n",
    "!aria2c --console-log-level=error -c -x 16 -s 16 -k 1M https://huggingface.co/pantat88/ui/resolve/main/4x-AnimeSharp.pth                        -o 4x-AnimeSharp.pth\n",
    "!aria2c --console-log-level=error -c -x 16 -s 16 -k 1M https://huggingface.co/pantat88/ui/resolve/main/4x_RealisticRescaler_100000_G.pth        -o 4x_RealisticRescaler_100000_G.pth\n",
    "!aria2c --console-log-level=error -c -x 16 -s 16 -k 1M https://huggingface.co/pantat88/ui/resolve/main/8x_RealESRGAN.pth                        -o 8x_RealESRGAN.pth\n",
    "\n",
    "# VAE\n",
    "%cd -q ~/ComfyUI/models/vae\n",
    "\n",
    "!aria2c --console-log-level=error -c -x 16 -s 16 -k 1M https://huggingface.co/stabilityai/sd-vae-ft-mse-original/resolve/main/vae-ft-mse-840000-ema-pruned.safetensors                                                -o vae-ft-mse-840000-ema-pruned.safetensors\n",
    "#aria2c --console-log-level=error -c -x 16 -s 16 -k 1M https://huggingface.co/fp16-guy/anything_kl-f8-anime2_vae-ft-mse-840000-ema-pruned_blessed_clearvae_fp16_cleaned/resolve/main/kl-f8-anime2_fp16.safetensors    -o kl-f8-anime2_fp16.safetensors\n",
    "#aria2c --console-log-level=error -c -x 16 -s 16 -k 1M https://huggingface.co/fp16-guy/anything_kl-f8-anime2_vae-ft-mse-840000-ema-pruned_blessed_clearvae_fp16_cleaned/resolve/main/blessed2_fp16.safetensors        -o blessed2_fp16.safetensors\n",
    "#aria2c --console-log-level=error -c -x 16 -s 16 -k 1M https://huggingface.co/fp16-guy/anything_kl-f8-anime2_vae-ft-mse-840000-ema-pruned_blessed_clearvae_fp16_cleaned/resolve/main/ClearVAE_V2.3_fp16.safetensors   -o ClearVAE_V2.3_fp16.safetensors\n",
    "#aria2c --console-log-level=error -c -x 16 -s 16 -k 1M https://huggingface.co/fp16-guy/anything_kl-f8-anime2_vae-ft-mse-840000-ema-pruned_blessed_clearvae_fp16_cleaned/resolve/main/anything_fp16.safetensors        -o anything_fp16.safetensors\n"
   ]
  },
  {
   "cell_type": "markdown",
   "id": "e1686fb4-1cf7-4abf-bdef-f742beb84e0c",
   "metadata": {
    "tags": []
   },
   "source": [
    "### *Checkpoint*\n",
    "temporary"
   ]
  },
  {
   "cell_type": "code",
   "execution_count": null,
   "id": "58cad0c8-1007-499f-a5a5-bb2b028288c1",
   "metadata": {
    "tags": []
   },
   "outputs": [],
   "source": [
    "!rm -rf ~/tmp/tmp && mkdir -p ~/tmp/checkpoints\n",
    "%cd -q ~/ComfyUI/models/checkpoints\n",
    "\n",
    "!aria2c --console-log-level=error -c -x 16 -s 16 -k 1M https://civitai.com/api/download/models/147913 -o meichidarkMixFp16_45.safetensors\n"
   ]
  },
  {
   "cell_type": "markdown",
   "id": "8bc20e56-9ba4-48ac-bdfc-17179a747ee8",
   "metadata": {
    "tags": []
   },
   "source": [
    "### *Lora*\n",
    "temporary"
   ]
  },
  {
   "cell_type": "code",
   "execution_count": null,
   "id": "936784d0-67c8-442c-aa3a-ee3456f8f4bb",
   "metadata": {
    "tags": []
   },
   "outputs": [],
   "source": [
    "!rm -rf ~/tmp/tmp && mkdir -p /tmp/loras\n",
    "%cd -q ~/ComfyUI/models/loras\n",
    "\n",
    "!aria2c --console-log-level=error -c -x 16 -s 16 -k 1M https://civitai.com/api/download/models/87153   -o add_detail.safetensors\n",
    "!aria2c --console-log-level=error -c -x 16 -s 16 -k 1M https://civitai.com/api/download/models/171989  -o detail_slider_v4.safetensors\n",
    "!aria2c --console-log-level=error -c -x 16 -s 16 -k 1M https://civitai.com/api/download/models/62833   -o Detail_Tweaker.safetensors\n",
    "!aria2c --console-log-level=error -c -x 16 -s 16 -k 1M https://civitai.com/api/download/models/86247   -o flat2.safetensors\n"
   ]
  },
  {
   "cell_type": "markdown",
   "id": "b4b19ba2-ae2b-481b-9b39-be6eac7a0f77",
   "metadata": {
    "tags": []
   },
   "source": [
    "## Run ComfyUI"
   ]
  },
  {
   "cell_type": "code",
   "execution_count": null,
   "id": "4cffd230-2fd0-49b2-a91d-eb5b826be801",
   "metadata": {
    "tags": []
   },
   "outputs": [],
   "source": [
    "ngrok_token=\"PASTE_TOKEN_HERE\"\n",
    "\n",
    "from threading import Timer\n",
    "from queue import Queue\n",
    "from pyngrok import ngrok\n",
    "\n",
    "def ngrok_tunnel(port,queue,auth_token):\n",
    "    ngrok.set_auth_token(auth_token)\n",
    "    url = ngrok.connect(port)\n",
    "    queue.put(url)\n",
    "\n",
    "ngrok_output_queue = Queue()\n",
    "ngrok_thread = Timer(2, ngrok_tunnel, args=(8188, ngrok_output_queue, ngrok_token))\n",
    "ngrok_thread.start()\n",
    "ngrok_thread.join()\n",
    "print(ngrok_output_queue.get())\n",
    "\n",
    "%cd -q ~/ComfyUI\n",
    "!python main.py --dont-print-server"
   ]
  },
  {
   "cell_type": "markdown",
   "id": "89f767e5-2ab8-41b0-81ed-8fda5af53342",
   "metadata": {
    "jp-MarkdownHeadingCollapsed": true,
    "tags": []
   },
   "source": [
    "### Output images\n",
    "compress output into ```zip``` "
   ]
  },
  {
   "cell_type": "code",
   "execution_count": null,
   "id": "e4136d67-2cb1-473e-b5bf-4d4f7ab16df8",
   "metadata": {
    "tags": []
   },
   "outputs": [],
   "source": [
    "input_folder  = '/home/studio-lab-user/ComfyUI/output'\n",
    "output_folder = '/home/studio-lab-user'\n",
    "\n",
    "import os\n",
    "import zipfile\n",
    "from tqdm.auto import tqdm\n",
    "def zip_folder(input_folder, output_folder, max_size_mb=20):\n",
    "    os.makedirs(output_folder, exist_ok=True)\n",
    "    all_files = []\n",
    "    for root, dirs, files in os.walk(input_folder):\n",
    "        for file in files:\n",
    "            file_path = os.path.join(root, file)\n",
    "            all_files.append(file_path)\n",
    "    zip_number = 1\n",
    "    current_zip_size = 0\n",
    "    current_zip_name = os.path.join(output_folder, f\"part_{zip_number}.zip\")\n",
    "    with tqdm(total=len(all_files), desc='zipping : ', bar_format='{desc}{n_fmt}/{total_fmt} {bar} | {percentage:3.0f}% [ {elapsed}<{remaining}, {rate_fmt}{postfix} ]', ncols=700) as pbar:\n",
    "        with zipfile.ZipFile(current_zip_name, 'w', zipfile.ZIP_DEFLATED) as current_zip:\n",
    "            for file_path in all_files:\n",
    "                file_size = os.path.getsize(file_path)\n",
    "                if current_zip_size + file_size > max_size_mb * 1024 * 1024:\n",
    "                    current_zip.close()\n",
    "                    zip_number += 1\n",
    "                    current_zip_name = os.path.join(output_folder, f\"part_{zip_number}.zip\")\n",
    "                    current_zip = zipfile.ZipFile(current_zip_name, 'w', zipfile.ZIP_DEFLATED)\n",
    "                    current_zip_size = 0\n",
    "                current_zip.write(file_path, os.path.relpath(file_path, input_folder))\n",
    "                current_zip_size += file_size\n",
    "                pbar.update(1)\n",
    "max_size_mb = 200\n",
    "zip_folder(input_folder, output_folder, max_size_mb)"
   ]
  },
  {
   "cell_type": "markdown",
   "id": "6b74f461-3a60-44fe-8d96-b6fe2f0105a5",
   "metadata": {
    "id": "bf5499c3-18fb-4325-8c37-5298751e4f97",
    "tags": []
   },
   "source": [
    "### For checking and cleaning Storage"
   ]
  },
  {
   "cell_type": "code",
   "execution_count": null,
   "id": "fe9b41c3-932e-442c-9d5e-d43b83a8096d",
   "metadata": {
    "tags": []
   },
   "outputs": [],
   "source": [
    "# Check Storage & List all folders\n",
    "\n",
    "!df -h | grep -E 'Avail|home'\n",
    "print ()\n",
    "!du -h --max-depth=1 /home/studio-lab-user"
   ]
  },
  {
   "cell_type": "code",
   "execution_count": null,
   "id": "9951220b-4c44-4e52-80db-9fe37ab3a6f2",
   "metadata": {
    "tags": []
   },
   "outputs": [],
   "source": [
    "# DELETE output Images\n",
    "\n",
    "!rm -rf /home/studio-lab-user/ComfyUI/output/*"
   ]
  },
  {
   "cell_type": "code",
   "execution_count": null,
   "id": "66ad2fea-6aab-4768-a26b-d880eb046623",
   "metadata": {},
   "outputs": [],
   "source": [
    "# DELETE ComfyUI\n",
    "\n",
    "!unlink ~/tmp\n",
    "!unlink ~/ComfyUI/models/checkpoints\n",
    "!unlink ~/ComfyUI/models/loras\n",
    "!unlink ~/ComfyUI/models/controlnet\n",
    "!rm -rf /home/studio-lab-user/ComfyUI\n",
    "!rm -rf /tmp/checkpoints /tmp/loras /tmp/controlnet_models\n",
    "!rm -rf /home/studio-lab-user/tmp /home/studio-lab-user/.cache"
   ]
  },
  {
   "cell_type": "code",
   "execution_count": null,
   "id": "9e058676-e9cc-4a39-aeae-c86852d44f5e",
   "metadata": {
    "tags": []
   },
   "outputs": [],
   "source": [
    "# DELETE EVERYTHING , restart jupyterlab afterward\n",
    "\n",
    "!rm -rf /home/studio-lab-user/.cache\n",
    "!rm -rf /home/studio-lab-user/.conda\n",
    "!conda remove -n \"env_name\" --all\n",
    "!rm -rf /home/studio-lab-user/*"
   ]
  }
 ],
 "metadata": {
  "kernelspec": {
   "display_name": "default:Python",
   "language": "python",
   "name": "conda-env-default-py"
  },
  "language_info": {
   "codemirror_mode": {
    "name": "ipython",
    "version": 3
   },
   "file_extension": ".py",
   "mimetype": "text/x-python",
   "name": "python",
   "nbconvert_exporter": "python",
   "pygments_lexer": "ipython3",
   "version": "3.9.16"
  }
 },
 "nbformat": 4,
 "nbformat_minor": 5
}
