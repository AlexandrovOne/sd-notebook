{
 "cells": [
  {
   "cell_type": "markdown",
   "id": "b6f1eec1-3cc5-4fa1-95ab-ef38e9785d60",
   "metadata": {},
   "source": [
    "[![Open in Studio Lab](https://studiolab.sagemaker.aws/studiolab.svg)](https://studiolab.sagemaker.aws/import/github/pantat88/segsmaker/blob/main/Segsmaker_ComfyUI.ipynb)"
   ]
  },
  {
   "cell_type": "markdown",
   "id": "26786ea3-e294-44b6-900a-798b0880de76",
   "metadata": {
    "tags": []
   },
   "source": [
    "## Conda"
   ]
  },
  {
   "cell_type": "code",
   "execution_count": null,
   "id": "9dccb75e-fb59-4573-9955-4c334bba607b",
   "metadata": {
    "tags": []
   },
   "outputs": [],
   "source": [
    "from IPython.display import HTML, display\n",
    "import subprocess\n",
    "def ass(command, message, color):\n",
    "    display(HTML(f\"<span style='color:{color};'>・・・ {message} ・・・</span>\"))\n",
    "    result = subprocess.run(command, shell=True, stdout=subprocess.DEVNULL, stderr=subprocess.DEVNULL)\n",
    "    print(\"done\")\n",
    "ass('conda install -q -y conda=23.11.0 glib gxx_linux-64 pyngrok ffmpeg av gst-libav imageio imageio-ffmpeg psutil', 'Installing Conda', 'cyan')\n",
    "ass('conda install -q -y -n base python=3.10.12', 'Installing Python 3.10.12', '#D48900')\n",
    "ass('conda clean -y --all', 'Cleaning Conda Environment', '#66ff00')\n",
    "ass('curl -Lo ~/.ipython/profile_default/startup/pantat88.py https://github.com/gutris1/segsmaker/raw/main/ui/pantat88.py', 'Gathering Magic', 'red')\n",
    "get_ipython().kernel.do_shutdown(True)"
   ]
  },
  {
   "cell_type": "markdown",
   "id": "011fac09-3453-4fea-bad6-da971f037c3b",
   "metadata": {
    "tags": []
   },
   "source": [
    "## Clone ComfyUI"
   ]
  },
  {
   "cell_type": "code",
   "execution_count": null,
   "id": "598827fd-7cf0-4d73-b982-c417916b7e96",
   "metadata": {
    "tags": []
   },
   "outputs": [],
   "source": [
    "%say ・・・ {red} Cloning ComfyUI {d} ・・・ {red}\n",
    "%cd -q /home/studio-lab-user\n",
    "!git clone -q https://github.com/comfyanonymous/ComfyUI\n",
    "\n",
    "%say ・・・ {red} Installing Requirements {d} ・・・ {red}\n",
    "%cd -q ~/ComfyUI\n",
    "%download https://github.com/gutris1/segsmaker/raw/main/ui/cui.zip\n",
    "!unzip -qo cui.zip && rm cui.zip\n",
    "!pip install https://download.pytorch.org/whl/cu118/xformers-0.0.22.post4%2Bcu118-cp310-cp310-manylinux2014_x86_64.whl -r requirements.txt --extra-index-url https://download.pytorch.org/whl/cu118 > /dev/null\n",
    "\n",
    "%say ・・・ {red} Symlink to Temporary Folder {d} ・・・ {red}\n",
    "!rm -rf ~/tmp/* ~/tmp ~/ComfyUI/models/checkpoints ~/ComfyUI/models/loras ~/ComfyUI/models/controlnet\n",
    "!ln -vs /tmp ~/tmp > /dev/null ; ln -vs /tmp/Lora ~/ComfyUI/models/loras > /dev/null\n",
    "!ln -vs /tmp/models ~/ComfyUI/models/checkpoints > /dev/null ; ln -vs /tmp/ControlNet ~/ComfyUI/models/controlnet > /dev/null\n",
    "''' Embeddings ''' \n",
    "%say ・・・ {red} Downloading Embeddings {d} ・・・ {red}\n",
    "%cd -q ~/ComfyUI/models/embeddings\n",
    "%download https://huggingface.co/pantat88/ui/resolve/main/embeddings.zip\n",
    "!unzip -qo embeddings.zip && rm embeddings.zip\n",
    "%download https://civitai.com/api/download/models/150491 edgQuality.pt\n",
    "''' Upscaler '''\n",
    "%say ・・・ {red} Downloading Upscalers {d} ・・・ {red}\n",
    "%cd -q ~/ComfyUI/models/upscale_models\n",
    "%download ~/ComfyUI/asd/upscaler.txt\n",
    "''' VAE '''\n",
    "%say ・・・ {red} Downloading VAE {d} ・・・ {red}\n",
    "%cd -q ~/ComfyUI/models/vae\n",
    "%download https://huggingface.co/stabilityai/sd-vae-ft-mse-original/resolve/main/vae-ft-mse-840000-ema-pruned.safetensors\n",
    "''' Custom Nodes '''\n",
    "%say ・・・ {red} Cloning ComfyUI Custom Nodes {d} ・・・ {red}\n",
    "%cd -q ~/ComfyUI/custom_nodes\n",
    "%clone ~/ComfyUI/asd/custom_nodes.txt\n",
    "%download ~/ComfyUI/asd/custom_nodes_models.txt\n",
    "\n",
    "%say ・・・ {red} Installing Custom Nodes Dependencies {d} ・・・ {red}\n",
    "%cd -q ~/ComfyUI\n",
    "!pip install opencv-python==4.7.0.72 transformers==4.26.1 tokenizers clip-interrogator > /dev/null\n",
    "![ -f \"custom_nodes/ComfyUI-Manager/scripts/colab-dependencies.py\" ] && python \"custom_nodes/ComfyUI-Manager/scripts/colab-dependencies.py\" > /dev/null\n",
    "\n",
    "!rm -rf ~/.cache/*\n",
    "%say ・・・ {red} Done {d} ・・・ {red}"
   ]
  },
  {
   "cell_type": "markdown",
   "id": "c8d5d6aa-8dc8-46af-8aa5-785b25d68ae7",
   "metadata": {
    "tags": []
   },
   "source": [
    "## *ControlNET models*\n",
    "###### temporary"
   ]
  },
  {
   "cell_type": "code",
   "execution_count": null,
   "id": "c7a1bfea-7691-4a1c-b290-1ef58c87cee1",
   "metadata": {
    "tags": []
   },
   "outputs": [],
   "source": [
    "%tempe\n",
    "%cd -q ~/ComfyUI/models/controlnet\n",
    "%download ~/ComfyUI/asd/controlnet.txt"
   ]
  },
  {
   "cell_type": "markdown",
   "id": "e1686fb4-1cf7-4abf-bdef-f742beb84e0c",
   "metadata": {
    "tags": []
   },
   "source": [
    "## *Checkpoint*\n",
    "###### temporary"
   ]
  },
  {
   "cell_type": "code",
   "execution_count": null,
   "id": "58cad0c8-1007-499f-a5a5-bb2b028288c1",
   "metadata": {
    "tags": []
   },
   "outputs": [],
   "source": [
    "%tempe\n",
    "%cd -q ~/ComfyUI/models/checkpoints\n",
    "\n",
    "%download https://civitai.com/api/download/models/147913 meichidarkMixFp16_45.safetensors"
   ]
  },
  {
   "cell_type": "markdown",
   "id": "8bc20e56-9ba4-48ac-bdfc-17179a747ee8",
   "metadata": {
    "tags": []
   },
   "source": [
    "## *Lora*\n",
    "###### temporary"
   ]
  },
  {
   "cell_type": "code",
   "execution_count": null,
   "id": "936784d0-67c8-442c-aa3a-ee3456f8f4bb",
   "metadata": {
    "tags": []
   },
   "outputs": [],
   "source": [
    "%tempe\n",
    "%cd -q ~/ComfyUI/models/loras\n",
    "\n",
    "%download https://civitai.com/api/download/models/87153  add_detail.safetensors\n",
    "%download https://civitai.com/api/download/models/171989 detail_slider_v4.safetensors\n",
    "%download https://civitai.com/api/download/models/62833  Detail_Tweaker.safetensors\n",
    "%download https://civitai.com/api/download/models/86247  flat2.safetensors"
   ]
  },
  {
   "cell_type": "markdown",
   "id": "b4b19ba2-ae2b-481b-9b39-be6eac7a0f77",
   "metadata": {
    "tags": []
   },
   "source": [
    "## Run ComfyUI"
   ]
  },
  {
   "cell_type": "code",
   "execution_count": null,
   "id": "4cffd230-2fd0-49b2-a91d-eb5b826be801",
   "metadata": {
    "tags": []
   },
   "outputs": [],
   "source": [
    "ngrok_token = \"PASTE_YOUR_NGROK_TOKEN_HERE\"\n",
    "\n",
    "from threading import Timer\n",
    "from queue import Queue\n",
    "from pyngrok import ngrok\n",
    "\n",
    "def ngrok_tunnel(port,queue,auth_token):\n",
    "    ngrok.set_auth_token(auth_token)\n",
    "    url = ngrok.connect(port)\n",
    "    queue.put(url)\n",
    "\n",
    "ngrok_output_queue = Queue()\n",
    "ngrok_thread = Timer(2, ngrok_tunnel, args=(8188, ngrok_output_queue, ngrok_token))\n",
    "ngrok_thread.start()\n",
    "ngrok_thread.join()\n",
    "print(ngrok_output_queue.get())\n",
    "\n",
    "%cd -q ~/ComfyUI\n",
    "!python main.py --dont-print-server"
   ]
  },
  {
   "cell_type": "markdown",
   "id": "b321c948-5d0c-4f7d-9583-04a75b841e37",
   "metadata": {
    "jp-MarkdownHeadingCollapsed": true,
    "tags": []
   },
   "source": [
    "## Extras"
   ]
  },
  {
   "cell_type": "markdown",
   "id": "89f767e5-2ab8-41b0-81ed-8fda5af53342",
   "metadata": {
    "tags": []
   },
   "source": [
    "#### ```zip``` Output images"
   ]
  },
  {
   "cell_type": "code",
   "execution_count": null,
   "id": "e4136d67-2cb1-473e-b5bf-4d4f7ab16df8",
   "metadata": {
    "tags": []
   },
   "outputs": [],
   "source": [
    "%%zipping\n",
    "\n",
    "input_folder  = '/home/studio-lab-user/ComfyUI/output'\n",
    "output_folder = '/home/studio-lab-user'"
   ]
  },
  {
   "cell_type": "markdown",
   "id": "6b74f461-3a60-44fe-8d96-b6fe2f0105a5",
   "metadata": {
    "id": "bf5499c3-18fb-4325-8c37-5298751e4f97",
    "tags": []
   },
   "source": [
    "#### Checking and Cleaning Storage"
   ]
  },
  {
   "cell_type": "code",
   "execution_count": null,
   "id": "fe9b41c3-932e-442c-9d5e-d43b83a8096d",
   "metadata": {
    "tags": []
   },
   "outputs": [],
   "source": [
    "''' Check Storage '''\n",
    "\n",
    "!rm -rf ~/.cache/*\n",
    "%storage /home/studio-lab-user"
   ]
  },
  {
   "cell_type": "code",
   "execution_count": null,
   "id": "9951220b-4c44-4e52-80db-9fe37ab3a6f2",
   "metadata": {
    "tags": []
   },
   "outputs": [],
   "source": [
    "''' Delete output images '''\n",
    "\n",
    "!rm -rf ~/ComfyUI/output/* ~/.cache/*"
   ]
  },
  {
   "cell_type": "code",
   "execution_count": null,
   "id": "66ad2fea-6aab-4768-a26b-d880eb046623",
   "metadata": {
    "tags": []
   },
   "outputs": [],
   "source": [
    "''' Delete ComfyUI '''\n",
    "\n",
    "!rm -rf ~/tmp/* ~/ComfyUI ~/tmp ~/.cache/*\n",
    "%cd -q ~"
   ]
  },
  {
   "cell_type": "code",
   "execution_count": null,
   "id": "9e058676-e9cc-4a39-aeae-c86852d44f5e",
   "metadata": {
    "tags": []
   },
   "outputs": [],
   "source": [
    "''' DELETE EVERYTHING , restart jupyterlab afterward '''\n",
    "\n",
    "!rm -rf ~/tmp/* ~/ComfyUI ~/tmp\n",
    "!rm -rf ~/.cache/* ~/.config/* ~/.conda/*\n",
    "!find ~/ -type d -name .ipynb_checkpoints -exec rm -rf {} \\; > /dev/null 2>&1\n",
    "!find ~/* -type f ! -name '*.ipynb' -exec rm -f {} + > /dev/null 2>&1"
   ]
  }
 ],
 "metadata": {
  "kernelspec": {
   "display_name": "default:Python",
   "language": "python",
   "name": "conda-env-default-py"
  },
  "language_info": {
   "codemirror_mode": {
    "name": "ipython",
    "version": 3
   },
   "file_extension": ".py",
   "mimetype": "text/x-python",
   "name": "python",
   "nbconvert_exporter": "python",
   "pygments_lexer": "ipython3",
   "version": "3.9.16"
  }
 },
 "nbformat": 4,
 "nbformat_minor": 5
}
