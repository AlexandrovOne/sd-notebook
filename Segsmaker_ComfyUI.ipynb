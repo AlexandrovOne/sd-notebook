{
 "cells": [
  {
   "cell_type": "markdown",
   "id": "b6f1eec1-3cc5-4fa1-95ab-ef38e9785d60",
   "metadata": {},
   "source": [
    "[![Open in Studio Lab](https://studiolab.sagemaker.aws/studiolab.svg)](https://studiolab.sagemaker.aws/import/github/pantat88/segsmaker/blob/main/Segsmaker_ComfyUI.ipynb)"
   ]
  },
  {
   "cell_type": "markdown",
   "id": "26786ea3-e294-44b6-900a-798b0880de76",
   "metadata": {
    "tags": []
   },
   "source": [
    "## Conda"
   ]
  },
  {
   "cell_type": "code",
   "execution_count": null,
   "id": "2d3e396f-46be-4809-8605-031de38bf8b4",
   "metadata": {
    "tags": []
   },
   "outputs": [],
   "source": [
    "!curl -sLo ~/.conda/conda_install.py https://github.com/gutris1/segsmaker/raw/main/script/conda3.py\n",
    "%run ~/.conda/conda_install.py"
   ]
  },
  {
   "cell_type": "markdown",
   "id": "011fac09-3453-4fea-bad6-da971f037c3b",
   "metadata": {
    "tags": []
   },
   "source": [
    "## Clone ComfyUI"
   ]
  },
  {
   "cell_type": "code",
   "execution_count": null,
   "id": "598827fd-7cf0-4d73-b982-c417916b7e96",
   "metadata": {
    "tags": []
   },
   "outputs": [],
   "source": [
    "%say 【 {red} Installing ComfyUI {d} 】 {red}\n",
    "%cd -q ~\n",
    "!git clone -q https://github.com/comfyanonymous/ComfyUI\n",
    "\n",
    "%cd -q ~/ComfyUI\n",
    "!pip install -q https://download.pytorch.org/whl/cu118/xformers-0.0.22.post4%2Bcu118-cp310-cp310-manylinux2014_x86_64.whl \\\n",
    "-r requirements.txt --extra-index-url https://download.pytorch.org/whl/cu118\n",
    "%pull https://github.com/gutris1/segsmaker cui ~/ComfyUI\n",
    "%download ~/ComfyUI/asd/cui.txt\n",
    "!python ~/ComfyUI/asd/cui.py > /dev/null\n",
    "\n",
    "''' Custom Nodes '''\n",
    "%say 【 {red} Installing Custom Nodes {d} 】 {red}\n",
    "%cd -q ~/ComfyUI/custom_nodes\n",
    "%clone ~/ComfyUI/asd/custom_nodes.txt\n",
    "%download ~/ComfyUI/asd/custom_nodes_models.txt\n",
    "# add custom nodes here !git clone URL\n",
    "\n",
    "%cd -q ~/ComfyUI\n",
    "!pip install -q opencv-python==4.7.0.72 transformers==4.26.1 tokenizers clip-interrogator\n",
    "![ -f \"custom_nodes/ComfyUI-Manager/scripts/colab-dependencies.py\" ] && python \"custom_nodes/ComfyUI-Manager/scripts/colab-dependencies.py\" > /dev/null\n",
    "!rm -rf ~/.cache/* ~/ComfyUI/custom_nodes/~\n",
    "%say 【 {red} Done {d} 】 {red}"
   ]
  },
  {
   "cell_type": "markdown",
   "id": "c8d5d6aa-8dc8-46af-8aa5-785b25d68ae7",
   "metadata": {
    "tags": []
   },
   "source": [
    "## *ControlNET models* <span style=\"color:#ff7171; font-size: 14px;\">temporary</span>"
   ]
  },
  {
   "cell_type": "code",
   "execution_count": 9,
   "id": "c7a1bfea-7691-4a1c-b290-1ef58c87cee1",
   "metadata": {
    "tags": []
   },
   "outputs": [
    {
     "data": {
      "text/html": [
       "<style>.widget-container,\n",
       ".download-button,\n",
       ".select-all-button,\n",
       ".unselect-all-button {\n",
       "    font-family: 'Roboto Mono', monospace;\n",
       "    \n",
       "}\n",
       "\n",
       ".boks {\n",
       "    border: 3px solid transparent;\n",
       "    border-radius: 15px;\n",
       "    padding: 5px;\n",
       "    margin: 0;\n",
       "    background: url('https://wallpapercave.com/dwp1x/wp5126154.jpg');\n",
       "    background-size: 110% 110%;\n",
       "    background-position: 50% 80%;\n",
       "    overflow: visible;\n",
       "    animation: slideFromAbove 0.5s, pulse 2s infinite;\n",
       "}\n",
       "\n",
       ".widget-container {\n",
       "    position: relative;\n",
       "    width: 630px;\n",
       "    height: 0px;\n",
       "    margin-top: 3px;\n",
       "    margin-right: 0px;\n",
       "    margin-bottom: 0px;\n",
       "    margin-left: 0px;\n",
       "    overflow: visible;\n",
       "}\n",
       "\n",
       ".download-button {\n",
       "    margin-top: 390px;\n",
       "    margin-right: 30px;\n",
       "    margin-bottom: 0px;\n",
       "    margin-left: 100px;\n",
       "    font-size: 17px;\n",
       "    width: 500px;\n",
       "    height: 40px;\n",
       "    font-weight: bold;\n",
       "    color: white;\n",
       "    border-radius: 4px;\n",
       "    border: 3px solid #2197f2;\n",
       "    background-image: radial-gradient(circle at top left, #212121 10%, #2197f2 90%);\n",
       "    background-size: 200% 200%;\n",
       "    background-position: left bottom;\n",
       "    transition: background 0.5s ease-in-out, transform 0.3s ease;\n",
       "    transform: scale(0.8);\n",
       "    vertical-align: middle;\n",
       "    z-index: 1;\n",
       "}\n",
       "\n",
       ".select-all-button {\n",
       "    margin-top: 390px;\n",
       "    margin-right: -30px;\n",
       "    margin-bottom: 0px;\n",
       "    margin-left: 30px;\n",
       "    font-size: 15px;\n",
       "    width: 300px;\n",
       "    height: 40px;\n",
       "    color: white;\n",
       "    border-radius: 4px;\n",
       "    border: 3px solid #2197f2;\n",
       "    background-image: radial-gradient(circle at top left, #212121 10%, #2197f2 90%);\n",
       "    background-size: 200% 200%;\n",
       "    background-position: left bottom;\n",
       "    transition: background 0.5s ease-in-out, transform 0.3s ease;\n",
       "    transform: scale(0.8);\n",
       "    vertical-align: middle;\n",
       "    z-index: 1;\n",
       "}\n",
       "\n",
       ".unselect-all-button {\n",
       "    margin-top: 390px;\n",
       "    margin-right: -30px;\n",
       "    margin-bottom: 0px;\n",
       "    margin-left: 20px;\n",
       "    font-size: 15px;\n",
       "    width: 300px;\n",
       "    height: 40px;\n",
       "    color: white;\n",
       "    border-radius: 4px;\n",
       "    border: 3px solid #2197f2;\n",
       "    background-image: radial-gradient(circle at top left, #212121 10%, #2197f2 90%);\n",
       "    background-size: 200% 200%;\n",
       "    background-position: left bottom;\n",
       "    transition: background 0.5s ease-in-out, transform 0.3s ease;\n",
       "    transform: scale(0.8);\n",
       "    vertical-align: middle;\n",
       "    z-index: 1;\n",
       "}\n",
       "\n",
       ".download-button:hover,\n",
       ".select-all-button:hover,\n",
       ".unselect-all-button:hover {\n",
       "    color: #ab22fe;\n",
       "    border-radius: 4px;\n",
       "    border: 3px solid transparent;\n",
       "    background-image: radial-gradient(circle at top left, #212121 10%, #ff7171 90%);\n",
       "    background-size: 200% 200%;\n",
       "    background-position: left bottom;\n",
       "    transition: border 0s;\n",
       "    cursor: pointer;\n",
       "    transition: none;\n",
       "    vertical-align: middle;\n",
       "    animation: pulse 2s infinite;\n",
       "}\n",
       "\n",
       ".border-style {\n",
       "    position: absolute;\n",
       "    display: block;\n",
       "    bottom: -440px;\n",
       "    left: 49%;\n",
       "    transform: translateX(-50%);\n",
       "    width: 600px;\n",
       "    height: 55px;\n",
       "    border: 3px solid #ab22fe;\n",
       "    border-radius: 50px;\n",
       "    background-color: #212121;\n",
       "    padding: 0px;\n",
       "}\n",
       "\n",
       ".checkbox-group1 input[type=\"checkbox\"],\n",
       ".checkbox-group2 input[type=\"checkbox\"] {\n",
       "    margin-top: -3px;\n",
       "    margin-right: 10px;\n",
       "    margin-bottom: 0px;\n",
       "    margin-left: 0px;\n",
       "    vertical-align: middle;\n",
       "}\n",
       "\n",
       ".checkbox-group1 label {\n",
       "    font-size: 12px;\n",
       "    color: white;\n",
       "    margin-top: 0px;\n",
       "    margin-right: -50px;\n",
       "    margin-left: 50px;\n",
       "    margin-bottom: -5px;\n",
       "    vertical-align: middle;\n",
       "}\n",
       "\n",
       ".checkbox-group2 label {\n",
       "    font-size: 12px;\n",
       "    color: white;\n",
       "    margin-top: 0px;\n",
       "    margin-right: -50px;\n",
       "    margin-left: 0px;\n",
       "    margin-bottom: -5px;\n",
       "    vertical-align: middle;\n",
       "}\n",
       "\n",
       ".checkbox-group1 label:hover {\n",
       "    margin-top: -10px;\n",
       "    margin-right: -50px;\n",
       "    margin-bottom: -50px;\n",
       "    margin-left: 40px;\n",
       "    transform: translateY(0px) translateX(-3px);\n",
       "    border-radius: 10px;\n",
       "    padding-left: 10px;\n",
       "    padding-right: 10px;\n",
       "    padding-bottom: 0px;\n",
       "    color: #ab22fe;\n",
       "    background-color: #212121;\n",
       "    border: 3px solid #2197f2;\n",
       "    transition: border 0s;\n",
       "    cursor: pointer;\n",
       "    transition: none;\n",
       "}\n",
       "\n",
       ".checkbox-group2 label:hover {\n",
       "    margin-top: -10px;\n",
       "    margin-right: -50px;\n",
       "    margin-bottom: -50px;\n",
       "    margin-left: 0px;\n",
       "    transform: translateY(0px) translateX(-13px);\n",
       "    border-radius: 10px;\n",
       "    padding-left: 10px;\n",
       "    padding-right: 10px;\n",
       "    padding-bottom: 0px;\n",
       "    color: #ab22fe;\n",
       "    background-color: #212121;\n",
       "    border: 3px solid #2197f2;\n",
       "    transition: border 0s;\n",
       "    cursor: pointer;\n",
       "    transition: none;\n",
       "}\n",
       "\n",
       "@keyframes pulse {\n",
       "  0% {\n",
       "    border-color: red;\n",
       "  }\n",
       "  15% {\n",
       "    border-color: rgb(255, 255, 0);\n",
       "  }\n",
       "  30% {\n",
       "    border-color: lime;\n",
       "  }\n",
       "  50% {\n",
       "    border-color: cyan;\n",
       "  }\n",
       "  65% {\n",
       "    border-color: blue;\n",
       "  }\n",
       "  80% {\n",
       "    border-color: magenta;\n",
       "  }\n",
       "  100% {\n",
       "    border-color: red;\n",
       "  }\n",
       "}\n",
       "\n",
       "@keyframes slideFromAbove {\n",
       "    from {\n",
       "        height: 0px;\n",
       "        opacity: 0;\n",
       "    }\n",
       "    to {\n",
       "        height: 450px;\n",
       "        opacity: 1;\n",
       "    }\n",
       "}</style>"
      ],
      "text/plain": [
       "<IPython.core.display.HTML object>"
      ]
     },
     "metadata": {},
     "output_type": "display_data"
    },
    {
     "data": {
      "application/vnd.jupyter.widget-view+json": {
       "model_id": "",
       "version_major": 2,
       "version_minor": 0
      },
      "text/plain": [
       "VBox(children=(HBox(children=(Button(description='Select All', style=ButtonStyle(), _dom_classes=('select-all-…"
      ]
     },
     "metadata": {},
     "output_type": "display_data"
    },
    {
     "data": {
      "application/vnd.jupyter.widget-view+json": {
       "model_id": "61d71889f34a47b7b8918c44698289d8",
       "version_major": 2,
       "version_minor": 0
      },
      "text/plain": [
       "Output()"
      ]
     },
     "metadata": {},
     "output_type": "display_data"
    }
   ],
   "source": [
    "%tempe\n",
    "%cd -q ~/ComfyUI/models/controlnet\n",
    "%run ~/ComfyUI/asd/controlnet.py"
   ]
  },
  {
   "cell_type": "markdown",
   "id": "e1686fb4-1cf7-4abf-bdef-f742beb84e0c",
   "metadata": {
    "tags": []
   },
   "source": [
    "## *Checkpoint* <span style=\"color:#ff7171; font-size: 14px;\">temporary</span>"
   ]
  },
  {
   "cell_type": "code",
   "execution_count": null,
   "id": "58cad0c8-1007-499f-a5a5-bb2b028288c1",
   "metadata": {
    "tags": []
   },
   "outputs": [],
   "source": [
    "%tempe\n",
    "%cd -q ~/ComfyUI/models/checkpoints\n",
    "\n",
    "%download https://civitai.com/api/download/models/287641 Meichidark_V5.safetensors"
   ]
  },
  {
   "cell_type": "markdown",
   "id": "8bc20e56-9ba4-48ac-bdfc-17179a747ee8",
   "metadata": {
    "tags": []
   },
   "source": [
    "## *Lora* <span style=\"color:#ff7171; font-size: 14px;\">temporary</span>"
   ]
  },
  {
   "cell_type": "code",
   "execution_count": null,
   "id": "936784d0-67c8-442c-aa3a-ee3456f8f4bb",
   "metadata": {
    "tags": []
   },
   "outputs": [],
   "source": [
    "%tempe\n",
    "%cd -q ~/ComfyUI/models/loras\n",
    "\n",
    "%download https://civitai.com/api/download/models/87153  add_detail.safetensors\n",
    "%download https://civitai.com/api/download/models/171989 detail_slider_v4.safetensors\n",
    "%download https://civitai.com/api/download/models/62833  Detail_Tweaker.safetensors\n",
    "%download https://civitai.com/api/download/models/86247  flat2.safetensors"
   ]
  },
  {
   "cell_type": "markdown",
   "id": "b4b19ba2-ae2b-481b-9b39-be6eac7a0f77",
   "metadata": {
    "tags": []
   },
   "source": [
    "## Run ComfyUI"
   ]
  },
  {
   "cell_type": "code",
   "execution_count": null,
   "id": "cb946c30-02d4-4ca3-9c52-2201b3ce705e",
   "metadata": {
    "tags": []
   },
   "outputs": [],
   "source": [
    "''' run this cell once to install zrok and register an account '''\n",
    "%cd -q ~\n",
    "!python ~/ComfyUI/asd/zorok.py"
   ]
  },
  {
   "cell_type": "code",
   "execution_count": null,
   "id": "4cffd230-2fd0-49b2-a91d-eb5b826be801",
   "metadata": {
    "tags": []
   },
   "outputs": [],
   "source": [
    "token = \"YOUR_ZROK_TOKEN\"\n",
    "\n",
    "%cd -q ~/ComfyUI\n",
    "!python zrok.py {token} & python main.py --dont-print-server"
   ]
  },
  {
   "cell_type": "markdown",
   "id": "b321c948-5d0c-4f7d-9583-04a75b841e37",
   "metadata": {
    "jp-MarkdownHeadingCollapsed": true,
    "tags": []
   },
   "source": [
    "## Extras"
   ]
  },
  {
   "cell_type": "markdown",
   "id": "89f767e5-2ab8-41b0-81ed-8fda5af53342",
   "metadata": {
    "tags": []
   },
   "source": [
    "#### ```zip``` Output images"
   ]
  },
  {
   "cell_type": "code",
   "execution_count": null,
   "id": "e4136d67-2cb1-473e-b5bf-4d4f7ab16df8",
   "metadata": {
    "tags": []
   },
   "outputs": [],
   "source": [
    "%%zipping\n",
    "\n",
    "input_folder  = '/home/studio-lab-user/ComfyUI/output'\n",
    "output_folder = '/home/studio-lab-user'"
   ]
  },
  {
   "cell_type": "markdown",
   "id": "6b74f461-3a60-44fe-8d96-b6fe2f0105a5",
   "metadata": {
    "id": "bf5499c3-18fb-4325-8c37-5298751e4f97",
    "tags": []
   },
   "source": [
    "#### Storage"
   ]
  },
  {
   "cell_type": "code",
   "execution_count": null,
   "id": "fe9b41c3-932e-442c-9d5e-d43b83a8096d",
   "metadata": {
    "tags": []
   },
   "outputs": [],
   "source": [
    "''' Check Storage '''\n",
    "!rm -rf ~/.cache/*\n",
    "%storage /home/studio-lab-user"
   ]
  },
  {
   "cell_type": "code",
   "execution_count": null,
   "id": "9951220b-4c44-4e52-80db-9fe37ab3a6f2",
   "metadata": {
    "tags": []
   },
   "outputs": [],
   "source": [
    "''' Delete output images '''\n",
    "!rm -rf ~/ComfyUI/output/* ~/.cache/*"
   ]
  },
  {
   "cell_type": "code",
   "execution_count": null,
   "id": "66ad2fea-6aab-4768-a26b-d880eb046623",
   "metadata": {
    "tags": []
   },
   "outputs": [],
   "source": [
    "''' Delete ComfyUI '''\n",
    "%cd -q ~\n",
    "!rm -rf ~/tmp/* ~/ComfyUI ~/tmp ~/.cache/*"
   ]
  },
  {
   "cell_type": "code",
   "execution_count": null,
   "id": "9e058676-e9cc-4a39-aeae-c86852d44f5e",
   "metadata": {
    "tags": []
   },
   "outputs": [],
   "source": [
    "''' DELETE EVERYTHING , restart jupyterlab afterward '''\n",
    "%delete /home/studio-lab-user"
   ]
  }
 ],
 "metadata": {
  "kernelspec": {
   "display_name": "default:Python",
   "language": "python",
   "name": "conda-env-default-py"
  },
  "language_info": {
   "codemirror_mode": {
    "name": "ipython",
    "version": 3
   },
   "file_extension": ".py",
   "mimetype": "text/x-python",
   "name": "python",
   "nbconvert_exporter": "python",
   "pygments_lexer": "ipython3",
   "version": "3.9.16"
  }
 },
 "nbformat": 4,
 "nbformat_minor": 5
}
