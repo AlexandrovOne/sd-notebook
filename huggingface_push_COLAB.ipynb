{
  "nbformat": 4,
  "nbformat_minor": 0,
  "metadata": {
    "colab": {
      "provenance": []
    },
    "kernelspec": {
      "name": "python3",
      "display_name": "Python 3"
    },
    "language_info": {
      "name": "python"
    }
  },
  "cells": [
    {
      "cell_type": "markdown",
      "source": [
        "## **1. install huggingface hub**"
      ],
      "metadata": {
        "id": "tJ5qKIoRH0U8"
      }
    },
    {
      "cell_type": "code",
      "execution_count": null,
      "metadata": {
        "id": "lJlfMyR8gB0v"
      },
      "outputs": [],
      "source": [
        "%cd /content\n",
        "\n",
        "!apt install -y aria2\n",
        "!pip install huggingface_hub"
      ]
    },
    {
      "cell_type": "markdown",
      "source": [
        "## **2. Login**"
      ],
      "metadata": {
        "id": "PDCadVwOIIcg"
      }
    },
    {
      "cell_type": "code",
      "source": [
        "from huggingface_hub import notebook_login\n",
        "notebook_login()"
      ],
      "metadata": {
        "id": "cKbmsD_ojXYz"
      },
      "execution_count": null,
      "outputs": []
    },
    {
      "cell_type": "markdown",
      "source": [
        "## **3. download models from civit ai**\n",
        "to duplicate line . put cursor on any line . press SHIFT + ALT + ↓"
      ],
      "metadata": {
        "id": "IfQgMmooIP8u"
      }
    },
    {
      "cell_type": "code",
      "source": [
        "%cd /content\n",
        "\n",
        "!aria2c --console-log-level=error -c -x 16 -s 16 -k 1M https://civitai.com/api/download/models/70458 -o henmix_real_v4.safetensors\n",
        "!aria2c --console-log-level=error -c -x 16 -s 16 -k 1M https://civitai.com/api/download/models/24196 -o Fantexi_v08.safetensors\n"
      ],
      "metadata": {
        "id": "CZy2kuNq5ENA"
      },
      "execution_count": null,
      "outputs": []
    },
    {
      "cell_type": "markdown",
      "source": [
        "## **4. Upload to hunggingface**\n",
        "Usage : !huggingface-cli upload username/your_repo /content/kontol.safetensors kontol.safetensors"
      ],
      "metadata": {
        "id": "YleyLwAvIQam"
      }
    },
    {
      "cell_type": "code",
      "source": [
        "!huggingface-cli upload pantat88/back_up /content/henmix_real_v4.safetensors henmix_real_v4.safetensors\n",
        "!huggingface-cli upload pantat88/back_up /content/Fantexi_v08.safetensors Fantexi_v08.safetensors\n"
      ],
      "metadata": {
        "id": "UgcISKNjlpHJ"
      },
      "execution_count": null,
      "outputs": []
    }
  ]
}